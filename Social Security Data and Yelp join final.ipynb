{
 "cells": [
  {
   "cell_type": "code",
   "execution_count": 0,
   "metadata": {
    "application/vnd.databricks.v1+cell": {
     "cellMetadata": {},
     "inputWidgets": {},
     "nuid": "a0ffe56c-421f-4e60-9f23-d9f9014fc87f",
     "showTitle": false,
     "title": ""
    }
   },
   "outputs": [],
   "source": [
    "%run \"./Rebuild Project Tables\""
   ]
  },
  {
   "cell_type": "code",
   "execution_count": 0,
   "metadata": {
    "application/vnd.databricks.v1+cell": {
     "cellMetadata": {},
     "inputWidgets": {},
     "nuid": "4d3bb0db-6554-4c40-af9a-6fdfe27d38e1",
     "showTitle": false,
     "title": ""
    }
   },
   "outputs": [
    {
     "output_type": "stream",
     "name": "stdout",
     "output_type": "stream",
     "text": [
      "building 3 tables provided as list\nbuilding business_category_table from existing table files\n+------------+\n|record_count|\n+------------+\n|      221928|\n+------------+\n\n+----------------------+----------------------+-----+----------------+------------+------------+-------------+--------------+\n|           business_id|                  name|state|            city|  metro_area|review_count|     category|category_count|\n+----------------------+----------------------+-----+----------------+------------+------------+-------------+--------------+\n|kJb4o8aZ_93iBMq-Hery1w|              BRAKEmax|   AZ|          Tucson|      Tucson|           6|   Automotive|             1|\n|kJbAV1ZN65XedfED0HQVsw|Guerreros Mexican R...|   IN|    Indianapolis|Indianapolis|          49|  Restaurants|             1|\n|kJg3OA_-aXgLnIxizh76Hg|Kat Cares Dog Walki...|   PA|    Philadelphia|Philadelphia|          13|         Pets|             1|\n|kJguN_71VpAYPII4_kbaAA|   El Fogon Colombiano|   FL|           Tampa|       Tampa|           5|  Restaurants|             1|\n|kJhoVi1nujLHrysPTQ2bvQ|        Der Wurstwagen|   FL|           Tampa|       Tampa|           5|         Food|             1|\n|kJiVGHWyW9lrIJmbdEJXFg|             Starbucks|   MO|       St. Louis|   St. Louis|          27|         Food|             1|\n|kJjEavPWWkup6EyzVOXkWw|             Taco Bell|   MO|     Saint Louis|   St. Louis|          12|  Restaurants|             1|\n|kJmAc845uKH8Z6e1KFZXtA|      Nekter Juice Bar|   AZ|          Tucson|      Tucson|          26|         Food|             1|\n|kJpWfdVBs8wjxir3_vqHMA|      Trademark Tattoo|   DE|      Wilmington|Philadelphia|          11|Beauty & Spas|             1|\n|kJrm9CRy9ms-rqOMtXM7SA|         Barre Central|   FL|Saint Petersburg|       Tampa|          13|  Active Life|             1|\n+----------------------+----------------------+-----+----------------+------------+------------+-------------+--------------+\n\nbuilding ordered_reviews_table from existing table files\n+------------+\n|record_count|\n+------------+\n|     6990280|\n+------------+\n\n+----------------------+----------------------+----------------------+----+-----+------+-------------------+-----+------------+------------------+-------------+\n|             review_id|           business_id|               user_id|cool|funny|useful|               date|stars|review_order|      business_avg|prior_reviews|\n+----------------------+----------------------+----------------------+----+-----+------+-------------------+-----+------------+------------------+-------------+\n|rJ3CASyRfG-7ZviCBFCJQg|f19eLfhXqR47Ct8Hz2y_pA|---1lKK3aKOuomHnwAkAow|   0|    0|     0|2018-12-19 22:26:22|  5.0|           1| 4.931034482758621|           29|\n|f-M5V-LeQKIy3U6vQ_FfYQ|pgO-fORYt4nb5Tj0x1F_aQ|---2PmXbF47D870stH1jqA|   0|    0|     0|2012-10-24 13:33:39|  5.0|           1|             4.125|            8|\n|hepOKRE2O5gXDWLKkAjn5w|1An4DxtMmvvSe0HX4viRCA|---2PmXbF47D870stH1jqA|   1|    0|     1|2012-10-28 17:16:13|  5.0|           2|               2.5|            2|\n|PtiOktOk5COHoNjc6K4gcw|eR7ieJD12PUzsYrP8fw6rQ|---2PmXbF47D870stH1jqA|   0|    0|     0|2012-11-02 00:30:24|  5.0|           3|3.4878048780487805|           41|\n|xSRDnEBpog6z0IwltFEDxg|HpWi2CRJlxVCYKd8kS0X-A|---2PmXbF47D870stH1jqA|   2|    0|     5|2013-02-17 15:13:21|  5.0|           4| 4.833333333333333|           24|\n|--C3ehBCy19vbW6ec-gr7w|igC3UWYb9RF5CXOQOVypMw|---2PmXbF47D870stH1jqA|   2|    2|     3|2013-04-03 19:06:00|  5.0|           5|3.7450980392156863|           51|\n|DmRq2WfGMMxy1Lty34rtWg|PEjZkL2mNDkiNRqKgZc08w|---2PmXbF47D870stH1jqA|   0|    0|     3|2013-07-18 13:41:11|  5.0|           6|               3.6|           10|\n|YCPbHhuT1u-7DeWW9lEHuw|1An4DxtMmvvSe0HX4viRCA|---2PmXbF47D870stH1jqA|   0|    0|     1|2014-04-06 03:30:14|  5.0|           7| 3.272727272727273|           11|\n|yA_38sOvL7DiBR4_EH5ncA|QHWYlmVbLC3K6eglWoHVvA|---2PmXbF47D870stH1jqA|   0|    0|     0|2014-04-13 12:23:40|  5.0|           8|4.1537037037037035|          540|\n|hdtWMFs_rFCD7YLD8L4mNQ|hKameFsaXh9g8WQbv593UA|---2PmXbF47D870stH1jqA|   0|    0|     0|2014-07-10 04:15:23|  5.0|           9| 3.526315789473684|           38|\n+----------------------+----------------------+----------------------+----+-----+------+-------------------+-----+------------+------------------+-------------+\n\nbuilding user_gender_table from existing table files\n+------------+\n|record_count|\n+------------+\n|     1987897|\n+------------+\n\n+----------------------+---------+-------------------+---------------+------------+-----------+--------+-----------+------+------------------+\n|               user_id|     name|      yelping_since|reviews_written|friend_count|elite_years|is_elite|first_elite|gender|      gender_ratio|\n+----------------------+---------+-------------------+---------------+------------+-----------+--------+-----------+------+------------------+\n|---2PmXbF47D870stH1jqA|    Susan|2012-10-24 13:20:46|             36|         420|         []|   false|       null|     F|0.9977396781152311|\n|--1vcleKg-_ORilNx_RaDw| Michelle|2018-11-25 19:52:17|              3|          56|         []|   false|       null|     F| 0.996020560843788|\n|--1xed48O2w6o-TLqxScdQ|Elizabeth|2013-08-12 22:56:43|              3|           1|         []|   false|       null|     F|0.9968809772017858|\n|--5VfF9MeCYnNiGFp3BXpw|    Sarah|2013-10-22 23:21:35|              3|           1|         []|   false|       null|     F| 0.996940028408127|\n|--6hwTK_f75gUWmQyrIjXg|   Monica|2014-04-27 16:33:44|              4|           7|         []|   false|       null|     F|0.9960787598828814|\n|--8EvC9O7Ycim8vCP4Cj0w|     Lisa|2014-08-14 01:48:05|              5|          87|         []|   false|       null|     F|0.9971234204357909|\n|--8Y8seruJEgwgwznJGyZA|     Eric|2015-01-19 23:47:31|             12|         468|         []|   false|       null|     M|0.9951624407982141|\n|--AVaBo8pJHut43HjdWuOA|    Hoang|2011-11-07 01:16:44|              2|          31|         []|   false|       null|     M|0.9363295880149812|\n|--BWebRBrjDNpVvJNZBRyQ|    Kathy|2011-06-19 15:33:20|             64|          89|         []|   false|       null|     F|0.9977914587131287|\n|--CxEPvaxHHLhjqZEFYRgw|     Amri|2015-08-18 20:06:03|              1|           1|         []|   false|       null|     F|0.9477434679334917|\n+----------------------+---------+-------------------+---------------+------------+-----------+--------+-----------+------+------------------+\n\n"
     ]
    }
   ],
   "source": [
    "table_list = ['business_category_table', 'ordered_reviews_table', 'user_gender_table']\n",
    "process_tables(table_list)"
   ]
  },
  {
   "cell_type": "code",
   "execution_count": 0,
   "metadata": {
    "application/vnd.databricks.v1+cell": {
     "cellMetadata": {},
     "inputWidgets": {},
     "nuid": "e641a540-8f89-4e75-bf45-26b8c999e1b6",
     "showTitle": false,
     "title": ""
    }
   },
   "outputs": [
    {
     "output_type": "stream",
     "name": "stdout",
     "output_type": "stream",
     "text": [
      "Record Count: 11726205\n+----------------------+----------------------+----------------------+----+-----+------+-------------------+-----+------------+------------------+-------------+----------------------+-----+----------------+----------+------------+----------------------+--------------+------------------+\n|             review_id|           business_id|               user_id|cool|funny|useful|               date|stars|review_order|      business_avg|prior_reviews|                  name|state|            city|metro_area|review_count|              category|category_count|   weighted_review|\n+----------------------+----------------------+----------------------+----+-----+------+-------------------+-----+------------+------------------+-------------+----------------------+-----+----------------+----------+------------+----------------------+--------------+------------------+\n|rJ3CASyRfG-7ZviCBFCJQg|f19eLfhXqR47Ct8Hz2y_pA|---1lKK3aKOuomHnwAkAow|   0|    0|     0|2018-12-19 22:26:22|  5.0|           1| 4.931034482758621|           29|           Healing One|   NV|            Reno|      Reno|          49|      Health & Medical|             3|0.3333333333333333|\n|rJ3CASyRfG-7ZviCBFCJQg|f19eLfhXqR47Ct8Hz2y_pA|---1lKK3aKOuomHnwAkAow|   0|    0|     0|2018-12-19 22:26:22|  5.0|           1| 4.931034482758621|           29|           Healing One|   NV|            Reno|      Reno|          49|         Beauty & Spas|             3|0.3333333333333333|\n|rJ3CASyRfG-7ZviCBFCJQg|f19eLfhXqR47Ct8Hz2y_pA|---1lKK3aKOuomHnwAkAow|   0|    0|     0|2018-12-19 22:26:22|  5.0|           1| 4.931034482758621|           29|           Healing One|   NV|            Reno|      Reno|          49|           Active Life|             3|0.3333333333333333|\n|f-M5V-LeQKIy3U6vQ_FfYQ|pgO-fORYt4nb5Tj0x1F_aQ|---2PmXbF47D870stH1jqA|   0|    0|     0|2012-10-24 13:33:39|  5.0|           1|             4.125|            8|        Bonefish Grill|   FL|         Trinity|     Tampa|         158|           Restaurants|             2|               0.5|\n|f-M5V-LeQKIy3U6vQ_FfYQ|pgO-fORYt4nb5Tj0x1F_aQ|---2PmXbF47D870stH1jqA|   0|    0|     0|2012-10-24 13:33:39|  5.0|           1|             4.125|            8|        Bonefish Grill|   FL|         Trinity|     Tampa|         158|             Nightlife|             2|               0.5|\n|hepOKRE2O5gXDWLKkAjn5w|1An4DxtMmvvSe0HX4viRCA|---2PmXbF47D870stH1jqA|   1|    0|     1|2012-10-28 17:16:13|  5.0|           2|               2.5|            2|Anthony's Italian R...|   FL| New Port Richey|     Tampa|          77|           Restaurants|             2|               0.5|\n|hepOKRE2O5gXDWLKkAjn5w|1An4DxtMmvvSe0HX4viRCA|---2PmXbF47D870stH1jqA|   1|    0|     1|2012-10-28 17:16:13|  5.0|           2|               2.5|            2|Anthony's Italian R...|   FL| New Port Richey|     Tampa|          77|                  Food|             2|               0.5|\n|PtiOktOk5COHoNjc6K4gcw|eR7ieJD12PUzsYrP8fw6rQ|---2PmXbF47D870stH1jqA|   0|    0|     0|2012-11-02 00:30:24|  5.0|           3|3.4878048780487805|           41|BJ's Restaurant & B...|   FL|   Pinellas Park|     Tampa|         366|           Restaurants|             2|               0.5|\n|PtiOktOk5COHoNjc6K4gcw|eR7ieJD12PUzsYrP8fw6rQ|---2PmXbF47D870stH1jqA|   0|    0|     0|2012-11-02 00:30:24|  5.0|           3|3.4878048780487805|           41|BJ's Restaurant & B...|   FL|   Pinellas Park|     Tampa|         366|                  Food|             2|               0.5|\n|xSRDnEBpog6z0IwltFEDxg|HpWi2CRJlxVCYKd8kS0X-A|---2PmXbF47D870stH1jqA|   2|    0|     5|2013-02-17 15:13:21|  5.0|           4| 4.833333333333333|           24|    Pearl in the Grove|   FL|       Dade City|     Tampa|          92|           Restaurants|             1|               1.0|\n|--C3ehBCy19vbW6ec-gr7w|igC3UWYb9RF5CXOQOVypMw|---2PmXbF47D870stH1jqA|   2|    2|     3|2013-04-03 19:06:00|  5.0|           5|3.7450980392156863|           51|            Besa Grill|   FL|      Clearwater|     Tampa|         144|           Restaurants|             1|               1.0|\n|DmRq2WfGMMxy1Lty34rtWg|PEjZkL2mNDkiNRqKgZc08w|---2PmXbF47D870stH1jqA|   0|    0|     3|2013-07-18 13:41:11|  5.0|           6|               3.6|           10|Clearwater Beach Hotel|   FL|Clearwater Beach|     Tampa|          82|       Hotels & Travel|             2|               0.5|\n|DmRq2WfGMMxy1Lty34rtWg|PEjZkL2mNDkiNRqKgZc08w|---2PmXbF47D870stH1jqA|   0|    0|     3|2013-07-18 13:41:11|  5.0|           6|               3.6|           10|Clearwater Beach Hotel|   FL|Clearwater Beach|     Tampa|          82|Event Planning & Se...|             2|               0.5|\n|YCPbHhuT1u-7DeWW9lEHuw|1An4DxtMmvvSe0HX4viRCA|---2PmXbF47D870stH1jqA|   0|    0|     1|2014-04-06 03:30:14|  5.0|           7| 3.272727272727273|           11|Anthony's Italian R...|   FL| New Port Richey|     Tampa|          77|           Restaurants|             2|               0.5|\n|YCPbHhuT1u-7DeWW9lEHuw|1An4DxtMmvvSe0HX4viRCA|---2PmXbF47D870stH1jqA|   0|    0|     1|2014-04-06 03:30:14|  5.0|           7| 3.272727272727273|           11|Anthony's Italian R...|   FL| New Port Richey|     Tampa|          77|                  Food|             2|               0.5|\n|yA_38sOvL7DiBR4_EH5ncA|QHWYlmVbLC3K6eglWoHVvA|---2PmXbF47D870stH1jqA|   0|    0|     0|2014-04-13 12:23:40|  5.0|           8|4.1537037037037035|          540|                  Datz|   FL|           Tampa|     Tampa|        3260|           Restaurants|             2|               0.5|\n|yA_38sOvL7DiBR4_EH5ncA|QHWYlmVbLC3K6eglWoHVvA|---2PmXbF47D870stH1jqA|   0|    0|     0|2014-04-13 12:23:40|  5.0|           8|4.1537037037037035|          540|                  Datz|   FL|           Tampa|     Tampa|        3260|             Nightlife|             2|               0.5|\n|hdtWMFs_rFCD7YLD8L4mNQ|hKameFsaXh9g8WQbv593UA|---2PmXbF47D870stH1jqA|   0|    0|     0|2014-07-10 04:15:23|  5.0|           9| 3.526315789473684|           38|              Aquafinz|   FL|            Lutz|     Tampa|          86|           Restaurants|             1|               1.0|\n|qRJ5SbFpofSwzRVAagQoyw|ZvI9Ytqx_S_kahct3YzS0w|---2PmXbF47D870stH1jqA|   0|    0|     1|2014-07-24 03:11:30|  5.0|          10|               5.0|            1| Tampa Bay Food Trucks|   FL|           Tampa|     Tampa|           9|                  Food|             2|               0.5|\n|qRJ5SbFpofSwzRVAagQoyw|ZvI9Ytqx_S_kahct3YzS0w|---2PmXbF47D870stH1jqA|   0|    0|     1|2014-07-24 03:11:30|  5.0|          10|               5.0|            1| Tampa Bay Food Trucks|   FL|           Tampa|     Tampa|           9|Event Planning & Se...|             2|               0.5|\n+----------------------+----------------------+----------------------+----+-----+------+-------------------+-----+------------+------------------+-------------+----------------------+-----+----------------+----------+------------+----------------------+--------------+------------------+\nonly showing top 20 rows\n\n"
     ]
    }
   ],
   "source": [
    "df_weighted_reviews = spark.sql(\"\"\"\n",
    "SELECT  R.*,\n",
    "        B.name, B.state, B.city, B.metro_area, B.review_count, B.category, B.category_count, \n",
    "        (1/B.category_count) AS weighted_review\n",
    "FROM ordered_reviews_table AS R INNER JOIN business_category_table AS B \n",
    "ON R.business_id = B.business_id\n",
    "\"\"\")\n",
    "print(\"Record Count:\", df_weighted_reviews.count())\n",
    "df_weighted_reviews.show(truncate=22)\n",
    "df_weighted_reviews.createOrReplaceTempView(\"weighted_reviews\")"
   ]
  },
  {
   "cell_type": "code",
   "execution_count": 0,
   "metadata": {
    "application/vnd.databricks.v1+cell": {
     "cellMetadata": {},
     "inputWidgets": {},
     "nuid": "8d4233d8-4cd3-42fe-a6e3-8fb998e1b77c",
     "showTitle": false,
     "title": ""
    }
   },
   "outputs": [
    {
     "output_type": "stream",
     "name": "stdout",
     "output_type": "stream",
     "text": [
      "Record count: 11726153\n+--------------------+--------------------+--------------------+----+-----+------+-------------------+-----+------------+------------------+-------------+--------------------+-----+----------------+------------+------------+----------------+--------------+---------------+-------------+-------------------+---------------+------------+--------+-----------+-------+------------------+\n|           review_id|         business_id|             user_id|cool|funny|useful|               date|stars|review_order|      business_avg|prior_reviews|                name|state|            city|  metro_area|review_count|        category|category_count|weighted_review|    user_name|      yelping_since|reviews_written|friend_count|is_elite|first_elite| gender|      gender_ratio|\n+--------------------+--------------------+--------------------+----+-----+------+-------------------+-----+------------+------------------+-------------+--------------------+-----+----------------+------------+------------+----------------+--------------+---------------+-------------+-------------------+---------------+------------+--------+-----------+-------+------------------+\n|QPF7spAqCc-D81GeX...|aIoUwpy5ZFQXUDxWM...|--RJK834fiQXm21Vp...|   0|    0|     0|2019-08-25 23:17:52|  1.0|           1|3.5040650406504064|          123|     Pete & Shorty's|   FL|   Pinellas Park|       Tampa|         146|     Restaurants|             2|            0.5|        Renee|2018-02-04 20:34:16|              1|           1|   false|       null|      F|0.9914025063516396|\n|QPF7spAqCc-D81GeX...|aIoUwpy5ZFQXUDxWM...|--RJK834fiQXm21Vp...|   0|    0|     0|2019-08-25 23:17:52|  1.0|           1|3.5040650406504064|          123|     Pete & Shorty's|   FL|   Pinellas Park|       Tampa|         146|            Food|             2|            0.5|        Renee|2018-02-04 20:34:16|              1|           1|   false|       null|      F|0.9914025063516396|\n|dghJt1TSuyFkmLddu...|K_s-9Wd6vXSfnxYFz...|--UhENQdbuWEh0mU5...|   1|    1|     0|2017-08-06 02:42:02|  5.0|           1| 4.607843137254902|           51|Kei Sushi Restaurant|   PA|    Philadelphia|Philadelphia|         157|     Restaurants|             1|            1.0|        Sonny|2017-06-19 18:37:56|              1|           1|   false|       null|      M|0.9586704003318813|\n|VNT1ymOYUuWC-qxdI...|oD3zBLplcYefdMHo5...|--cxdcv_b9uhAKsKT...|   0|    0|     0|2019-11-01 22:04:32|  4.0|           1| 3.814814814814815|           27|  Garden Farm Market|   PA|     Morrisville|Philadelphia|          29|            Food|             1|            1.0|       Cheryl|2014-02-08 01:13:06|              4|          61|   false|       null|      F|0.9977767987719027|\n|C74fnh5gpnH2cgbHT...|6aPXOXi8h1m58hihg...|-0EzgKMI9ZakqLiWR...|   0|    0|     0|2018-07-18 13:04:59|  5.0|           1| 4.053333333333334|           75| Old Northeast Pizza|   FL|  St. Petersburg|       Tampa|         112|     Restaurants|             1|            1.0|       Joseph|2018-01-03 21:31:49|              5|           1|   false|       null|      M|0.9959672961186499|\n|ILPE_Jjrqu_DICC7R...|P0BB_HeVN-M8D31yt...|-0EzgKMI9ZakqLiWR...|   0|    0|     0|2019-03-28 21:38:52|  5.0|           2|               5.0|            2|Rainbow Veterinar...|   FL|Saint Petersburg|       Tampa|           5|            Pets|             1|            1.0|       Joseph|2018-01-03 21:31:49|              5|           1|   false|       null|      M|0.9959672961186499|\n|8FMggBJKJqIUt8twE...|V0SHmvYtXqdv8-Asq...|-0XPr1ilUAfp-yIXZ...|   0|    0|     0|2013-08-01 20:59:44|  1.0|           1| 3.544891640866873|          323|       Smokin Bettys|   PA|    Philadelphia|Philadelphia|         796|     Restaurants|             2|            0.5|Fairmount Jil|2007-12-26 17:32:44|              3|           1|   false|       null|Unknown|               1.0|\n|8FMggBJKJqIUt8twE...|V0SHmvYtXqdv8-Asq...|-0XPr1ilUAfp-yIXZ...|   0|    0|     0|2013-08-01 20:59:44|  1.0|           1| 3.544891640866873|          323|       Smokin Bettys|   PA|    Philadelphia|Philadelphia|         796|       Nightlife|             2|            0.5|Fairmount Jil|2007-12-26 17:32:44|              3|           1|   false|       null|Unknown|               1.0|\n|VcJE2w-adw5DsirKY...|-A0yoO3geGTdQsCva...|-0xXVMZDcGw_PZMNM...|   1|    0|     1|2016-05-15 12:20:04|  5.0|           1|               5.0|            5|       Kiki's Kennel|   FL|     Zephyrhills|       Tampa|          12|            Pets|             1|            1.0|          Ben|2015-01-18 16:14:04|              6|         171|   false|       null|      M|0.9944755302662865|\n|KK9M-QUNkBB11Iu7h...|0k4DwDhzlk9ORH81f...|-1-5YlK9t1Jgp6TbW...|   0|    0|     0|2018-02-09 16:02:01|  5.0|           1| 4.128205128205129|           78|Whispering Vine Wine|   NV|            Reno|        Reno|         170|     Restaurants|             2|            0.5|        Sally|2016-09-01 18:03:51|              1|           1|   false|       null|      F|0.9968453797246167|\n|KK9M-QUNkBB11Iu7h...|0k4DwDhzlk9ORH81f...|-1-5YlK9t1Jgp6TbW...|   0|    0|     0|2018-02-09 16:02:01|  5.0|           1| 4.128205128205129|           78|Whispering Vine Wine|   NV|            Reno|        Reno|         170|       Nightlife|             2|            0.5|        Sally|2016-09-01 18:03:51|              1|           1|   false|       null|      F|0.9968453797246167|\n|qhr-hDSg1IdY7n2Gx...|n73Bl36HaAQmODbld...|-15T9XlC72uvJdKJ4...|   1|    1|    18|2016-01-11 23:13:59|  2.0|           1|3.5714285714285716|            7|Greenberg Dental ...|   FL|           largo|       Tampa|          15|Health & Medical|             1|            1.0|      Manisha|2011-08-01 23:17:22|             17|          19|   false|       null|      F|               1.0|\n|1r614uurLlpAEwVOk...|XTIc2pKNdmmvX60lI...|-1BSu2dt_rOAqllw9...|   0|    1|     1|2015-07-03 15:00:18|  5.0|           1|               4.0|            3|      Citrus Village|   FL|           Tampa|       Tampa|          11|   Home Services|             1|            1.0|        Linda|2015-07-01 20:27:24|              9|           2|   false|       null|      F|0.9974223196790146|\n|ysbPjk-4SSsYum4V9...|3kCdCzbfMbpTStmrU...|-1BSu2dt_rOAqllw9...|   0|    0|     3|2016-03-25 22:06:31|  1.0|           2|3.2285714285714286|           35|Cheddar's Scratch...|   FL|           Tampa|       Tampa|         243|     Restaurants|             1|            1.0|        Linda|2015-07-01 20:27:24|              9|           2|   false|       null|      F|0.9974223196790146|\n|hsEgzQ2Nx3Sq5Z-Kh...|OUH5jOBEjExETYr1v...|-1BSu2dt_rOAqllw9...|   0|    0|     0|2016-04-14 22:14:13|  5.0|           3| 3.111111111111111|           54|   Holy Hog Barbecue|   FL|           Tampa|       Tampa|         117|     Restaurants|             2|            0.5|        Linda|2015-07-01 20:27:24|              9|           2|   false|       null|      F|0.9974223196790146|\n|hsEgzQ2Nx3Sq5Z-Kh...|OUH5jOBEjExETYr1v...|-1BSu2dt_rOAqllw9...|   0|    0|     0|2016-04-14 22:14:13|  5.0|           3| 3.111111111111111|           54|   Holy Hog Barbecue|   FL|           Tampa|       Tampa|         117|            Food|             2|            0.5|        Linda|2015-07-01 20:27:24|              9|           2|   false|       null|      F|0.9974223196790146|\n|ZQotwdl_ZCBulE1et...|XTIc2pKNdmmvX60lI...|-1BSu2dt_rOAqllw9...|   0|    1|     2|2016-06-09 18:18:09|  5.0|           4|             4.125|            8|      Citrus Village|   FL|           Tampa|       Tampa|          11|   Home Services|             1|            1.0|        Linda|2015-07-01 20:27:24|              9|           2|   false|       null|      F|0.9974223196790146|\n|KBIRSkLuOefpqdmKt...|wn4U347OALm5H0MOB...|-1BSu2dt_rOAqllw9...|   0|    0|     0|2016-06-10 23:32:57|  5.0|           5| 4.333333333333333|           36| Elder Ford of Tampa|   FL|           Tampa|       Tampa|         142|      Automotive|             1|            1.0|        Linda|2015-07-01 20:27:24|              9|           2|   false|       null|      F|0.9974223196790146|\n|ZZO43qKB-s65zplC8...|smkZq4G1AOm4V6p3i...|-1BSu2dt_rOAqllw9...|   0|    0|     0|2016-09-30 15:49:32|  5.0|           6| 4.428571428571429|           84|    The Hungry Greek|   FL|           Tampa|       Tampa|         142|     Restaurants|             1|            1.0|        Linda|2015-07-01 20:27:24|              9|           2|   false|       null|      F|0.9974223196790146|\n|kiEm0G939hiBi6lvg...|wnAEZpQ38XgHElOz4...|-1BSu2dt_rOAqllw9...|   0|    0|     0|2018-05-30 18:41:19|  5.0|           7| 4.543307086614173|          127|Gonzo's Sandwich ...|   FL|           Tampa|       Tampa|         194|     Restaurants|             1|            1.0|        Linda|2015-07-01 20:27:24|              9|           2|   false|       null|      F|0.9974223196790146|\n+--------------------+--------------------+--------------------+----+-----+------+-------------------+-----+------------+------------------+-------------+--------------------+-----+----------------+------------+------------+----------------+--------------+---------------+-------------+-------------------+---------------+------------+--------+-----------+-------+------------------+\nonly showing top 20 rows\n\n"
     ]
    }
   ],
   "source": [
    "df_user_reviews = spark.sql(\"\"\"\n",
    "SELECT R.*,\n",
    "       U.name AS user_name, U.yelping_since, U.reviews_written, U.friend_count, U.is_elite, U.first_elite, U.gender, U.gender_ratio\n",
    "FROM weighted_reviews AS R INNER JOIN user_gender_table AS U\n",
    "ON R.user_id = U.user_id\n",
    "\"\"\").cache()\n",
    "print(\"Record count:\", df_user_reviews.count() )\n",
    "df_user_reviews.show()"
   ]
  },
  {
   "cell_type": "markdown",
   "metadata": {
    "application/vnd.databricks.v1+cell": {
     "cellMetadata": {},
     "inputWidgets": {},
     "nuid": "4010e715-b7eb-4ab2-a74c-99c1cb8d5f12",
     "showTitle": false,
     "title": ""
    }
   },
   "source": [
    "#### Step 4b: Generate the `project_table`"
   ]
  },
  {
   "cell_type": "code",
   "execution_count": 0,
   "metadata": {
    "application/vnd.databricks.v1+cell": {
     "cellMetadata": {},
     "inputWidgets": {},
     "nuid": "82d870a1-0250-41e8-831f-29f3fc51b61f",
     "showTitle": false,
     "title": ""
    }
   },
   "outputs": [
    {
     "output_type": "stream",
     "name": "stdout",
     "output_type": "stream",
     "text": [
      "building project_table from existing table files\n+------------+\n|record_count|\n+------------+\n|    11726153|\n+------------+\n\n+----------------------+----------------------+----------------------+----+-----+------+-------------------+-----+------------+------------------+-------------+----------------------+-----+------------+------------+------------+--------------------+--------------+---------------+---------+-------------------+---------------+------------+--------+-----------+------+------------------+\n|             review_id|           business_id|               user_id|cool|funny|useful|               date|stars|review_order|      business_avg|prior_reviews|                  name|state|        city|  metro_area|review_count|            category|category_count|weighted_review|user_name|      yelping_since|reviews_written|friend_count|is_elite|first_elite|gender|      gender_ratio|\n+----------------------+----------------------+----------------------+----+-----+------+-------------------+-----+------------+------------------+-------------+----------------------+-----+------------+------------+------------+--------------------+--------------+---------------+---------+-------------------+---------------+------------+--------+-----------+------+------------------+\n|X9HQ495KhtmPBPvB5nL3kg|q_FUxVwG3PqmvBTnZtM7vA|-0OhhSgpctHx0i64UL-H_w|   0|    0|     0|2015-12-16 04:16:48|  5.0|           1| 3.111111111111111|           18|         Pizza Factory|   TN|   Nashville|   Nashville|          70|         Restaurants|             1|            1.0|   Marcos|2015-12-16 04:16:26|              4|           1|   false|       null|     M|0.9968387776606955|\n|qOBIxOUKQujQewCE115IXw|vrX8vraAe1D34U6NCFAMDQ|-0OhhSgpctHx0i64UL-H_w|   0|    0|     1|2019-08-13 23:13:14|  5.0|           2|               5.0|            6|  Hungry Howie's Pizza|   TN|   Nashville|   Nashville|           9|         Restaurants|             1|            1.0|   Marcos|2015-12-16 04:16:26|              4|           1|   false|       null|     M|0.9968387776606955|\n|aWnqJ4pClHZ-M-XNXrfwVQ|ZoO-u2qBSV2IpO4BYzP0lA|-0OhhSgpctHx0i64UL-H_w|   0|    0|     0|2021-05-01 00:18:15|  5.0|           3|2.5384615384615383|           52|  Carl Black Chevrolet|   TN|   Nashville|   Nashville|          55|          Automotive|             1|            1.0|   Marcos|2015-12-16 04:16:26|              4|           1|   false|       null|     M|0.9968387776606955|\n|aU3el2WhkYyZWduoQTYjuA|-WfGgYMcJKttsCu7WDrBrg|-0ncfbn6i15H8L5STTt-7Q|   0|    0|     0|2021-02-06 14:42:34|  5.0|           1| 3.492063492063492|           63|           Mikie's Pub|   IN|Indianapolis|Indianapolis|          64|         Restaurants|             4|           0.25|    Scott|2015-03-11 00:17:07|              1|         259|   false|       null|     M| 0.996637910141445|\n|aU3el2WhkYyZWduoQTYjuA|-WfGgYMcJKttsCu7WDrBrg|-0ncfbn6i15H8L5STTt-7Q|   0|    0|     0|2021-02-06 14:42:34|  5.0|           1| 3.492063492063492|           63|           Mikie's Pub|   IN|Indianapolis|Indianapolis|          64|           Nightlife|             4|           0.25|    Scott|2015-03-11 00:17:07|              1|         259|   false|       null|     M| 0.996637910141445|\n|aU3el2WhkYyZWduoQTYjuA|-WfGgYMcJKttsCu7WDrBrg|-0ncfbn6i15H8L5STTt-7Q|   0|    0|     0|2021-02-06 14:42:34|  5.0|           1| 3.492063492063492|           63|           Mikie's Pub|   IN|Indianapolis|Indianapolis|          64|                Food|             4|           0.25|    Scott|2015-03-11 00:17:07|              1|         259|   false|       null|     M| 0.996637910141445|\n|aU3el2WhkYyZWduoQTYjuA|-WfGgYMcJKttsCu7WDrBrg|-0ncfbn6i15H8L5STTt-7Q|   0|    0|     0|2021-02-06 14:42:34|  5.0|           1| 3.492063492063492|           63|           Mikie's Pub|   IN|Indianapolis|Indianapolis|          64|Arts & Entertainment|             4|           0.25|    Scott|2015-03-11 00:17:07|              1|         259|   false|       null|     M| 0.996637910141445|\n|ssAH75-3fb_5M_ziKrhT4g|8QZJvkx29OQNZgrM53aVbw|-1U8Q9Fyoq6HN8PdQYeiDQ|   0|    0|     0|2020-02-02 02:21:18|  2.0|           1|2.9839142091152815|          373|The Cheesecake Factory|   MO|    St Louis|   St. Louis|         446|         Restaurants|             2|            0.5|    Logan|2020-01-20 01:44:52|              5|           1|   false|       null|     M|0.9268543392666722|\n|ssAH75-3fb_5M_ziKrhT4g|8QZJvkx29OQNZgrM53aVbw|-1U8Q9Fyoq6HN8PdQYeiDQ|   0|    0|     0|2020-02-02 02:21:18|  2.0|           1|2.9839142091152815|          373|The Cheesecake Factory|   MO|    St Louis|   St. Louis|         446|                Food|             2|            0.5|    Logan|2020-01-20 01:44:52|              5|           1|   false|       null|     M|0.9268543392666722|\n|QO2R96CJlXOHJsf9JiBXlg|9w-LZEkP1hf363G-OYvKDg|-25X5v1q3WU6s-craJSvTw|   0|    0|     1|2014-01-05 15:12:05|  5.0|           1| 4.415094339622642|          159|   Mas Tacos Por Favor|   TN|   Nashville|   Nashville|        1503|         Restaurants|             1|            1.0|     Brad|2012-04-01 00:24:50|             30|           1|   false|       null|     M|0.9971995192307692|\n+----------------------+----------------------+----------------------+----+-----+------+-------------------+-----+------------+------------------+-------------+----------------------+-----+------------+------------+------------+--------------------+--------------+---------------+---------+-------------------+---------------+------------+--------+-----------+------+------------------+\n\n"
     ]
    }
   ],
   "source": [
    "process_or_create_table(\"project_table\", \"df_user_reviews\", summary=True, delete=False)"
   ]
  },
  {
   "cell_type": "code",
   "execution_count": 0,
   "metadata": {
    "application/vnd.databricks.v1+cell": {
     "cellMetadata": {},
     "inputWidgets": {},
     "nuid": "648dae37-e2c4-446d-bf39-bc256dd50674",
     "showTitle": false,
     "title": ""
    }
   },
   "outputs": [
    {
     "output_type": "stream",
     "name": "stdout",
     "output_type": "stream",
     "text": [
      "+----------------------+----------------------+-------------------+-----+------------+----------------------+-------+-------------+------------+--------------+---------+-------------------+---------------+----------------------+\n|             review_id|               user_id|               date|stars|review_order|                  name| gender|   metro_area|review_count|category_count|user_name|      yelping_since|reviews_written|            categories|\n+----------------------+----------------------+-------------------+-----+------------+----------------------+-------+-------------+------------+--------------+---------+-------------------+---------------+----------------------+\n|---4VcQZzy_vIIifUDqxsg|EopuF3BhVXAGJWEje_TJ-g|2018-09-16 00:38:13|  1.0|           1|It's Nutts on the C...|      M| Philadelphia|          67|             1|    Brett|2018-09-16 00:33:33|              5|         [Restaurants]|\n|---HVvLfXsI5cUzNKl2F2g|vgbW-0hGSjsm2f3-naEzEg|2020-10-30 22:04:14|  4.0|          11|Two Amigos Mexican ...|Unknown| Philadelphia|          39|             1|     Mess|2016-07-05 09:25:38|             19|         [Restaurants]|\n|---JpOlzUyBISir2Tn_Yhw|l9be6lRlJhumEM8ruMMJ7g|2008-10-10 02:34:19|  4.0|          62|         Save-On-Foods|      F|     Edmonton|           8|             3| Jeanette|2008-09-15 06:18:31|            401|[Shopping, Health &...|\n|---K4uV8-6eB6hZeS5ylGg|c4gjYdd3u8vc8eE63xyCpA|2018-06-17 21:30:15|  4.0|          29|California Pizza Ki...|      M|        Tampa|         206|             1|    Chris|2018-05-28 19:52:23|            172|         [Restaurants]|\n|---Nwr_Uc_e1IJvl3mvpeQ|J_8nhRN8_6GIVogg7Wh4AQ|2020-09-28 23:11:05|  5.0|           4|Paddles Up Poke - 9...|      F|        Boise|         207|             2|   Isabel|2019-12-28 03:49:54|              5|   [Restaurants, Food]|\n|---YF61Wj1IYOflVkL4ZrQ|SHmwFe5_ars1fUMgPfvVyQ|2013-08-17 02:52:47|  5.0|           5|          Beyond Bread|      M|       Tucson|         439|             2|     John|2007-12-14 23:54:14|             21|   [Restaurants, Food]|\n|---YoTfRv4omJxj9HIbiZw|_x_4sRSv5yyhwaoBqtjENA|2015-03-18 03:33:42|  4.0|           3|       Wings Beachwear|      F|        Tampa|          16|             1|    Manda|2011-04-26 00:40:29|             33|            [Shopping]|\n|---aZVSWnQtOP_12QzIt8g|Zr2x9lE0thdxVXvqBnl-NA|2018-06-16 02:49:40|  5.0|           1|                El Rey|      M| Philadelphia|         968|             2|      Ron|2014-04-04 02:37:40|              4|[Restaurants, Night...|\n|---hCjckCLwO6ZzVf092jA|2884A4yXHNOoX-0ycNRxrQ|2015-11-16 16:19:20|  2.0|           1|Four Points by Sher...|      F|  New Orleans|         206|             2| Jennifer|2010-12-10 00:34:54|            107|[Hotels & Travel, E...|\n|---hY_aTcGUhJT688aZO3w|PLjbQwb1jpuzJwTv9nSI1g|2012-01-30 20:33:13|  5.0|          10| Prism Brewing Company|      F| Philadelphia|         122|             1|   Teresa|2011-11-30 20:31:24|            261|                [Food]|\n|---jTq5yaxL5ZGi0ldsGxQ|u54Q2VIt1Kpazo_csaLaQA|2019-05-14 17:36:13|  5.0|           1|   Big Papa High Tread|Unknown|        Tampa|          11|             1|       G.|2012-05-31 22:16:24|              6|          [Automotive]|\n|---tH-GjQ06oKXGZ7wvUpw|E3sF2lVp38bmORWVwzx6dw|2013-09-05 22:34:33|  4.0|           3|Orange Leaf Frozen ...|      F|    St. Louis|          31|             1|      Amy|2011-10-27 21:50:23|             10|                [Food]|\n|---v3SgPiNYCHZa2f64OHA|-yN0K_R9TBuFGa6Ma25vwQ|2012-05-01 02:18:18|  4.0|           1|Captain Jack's Tour...|      F|Santa Barbara|         310|             5|   Sharon|2012-03-13 03:06:06|            136|[Hotels & Travel, F...|\n|---vuuXM3nNr__IuAdsC9g|hDvI-sXvKiMZPZS_Ecevnw|2018-02-24 19:57:01|  5.0|          14|Daly's Flame Broile...|      M|        Tampa|         268|             1|     Toby|2015-09-04 20:57:21|             25|         [Restaurants]|\n|---wmv2Keu09L06rcXlAdg|VrMoY2B2zYNCKC_YRpuzRQ|2018-11-30 20:46:36|  1.0|          66|               B Sweet|Unknown|     Edmonton|           9|             1|        K|2013-03-21 02:17:52|            131|                [Food]|\n|---xLOb2_Yx8jwiRxHyojw|QI2E64QGfIDStq-15oSSbA|2016-05-22 23:33:42|  5.0|           1|       Green Eggs Café|      M| Philadelphia|         852|             1|     Phil|2011-07-07 23:38:25|             14|         [Restaurants]|\n|---zIHlP_-j4uR_i6DVZgA|Cs9vrBCHnjXODulXdVBajw|2018-03-12 23:09:28|  3.0|           1|Trolley Car Table T...|      M| Philadelphia|           5|             2|  Yannick|2018-01-29 22:37:46|             52|[Local Services, Ac...|\n|--00cS8xG1q-H25rxQc8Tg|0T7D52kX1PSqUtYMudBT3Q|2014-12-05 03:07:40|  5.0|          62|      Infiniti Of Reno|      F|         Reno|          23|             1|  Kathryn|2009-07-22 21:10:12|            245|          [Automotive]|\n|--03GwblmsiubcsmY4qVLw|YtSDfk0XpyTz1KgLNPLkeg|2018-02-03 21:17:11|  5.0|           3|           Chikuyo Tei|      F|    Nashville|         111|             2|   Shauna|2010-09-18 17:54:03|             20|   [Restaurants, Food]|\n|--04iKWrv-18cZK1XlHlZQ|9OBglnRJxBUmmVX-JcfoFA|2019-11-15 14:16:20|  5.0|           1|      Grateful Plumber|      F| Indianapolis|          33|             2|   Leslie|2019-11-15 14:16:17|              3|[Local Services, Ho...|\n+----------------------+----------------------+-------------------+-----+------------+----------------------+-------+-------------+------------+--------------+---------+-------------------+---------------+----------------------+\nonly showing top 20 rows\n\n"
     ]
    }
   ],
   "source": [
    "df_project_reviews = spark.sql(\"\"\"\n",
    "SELECT review_id, \n",
    "       FIRST(user_id) AS user_id,\n",
    "       FIRST(date) AS date,\n",
    "       FIRST(stars) AS stars, \n",
    "       FIRST(review_order) AS review_order,\n",
    "       FIRST(name) AS name,\n",
    "       FIRST(gender) AS gender,\n",
    "       FIRST(metro_area) AS metro_area,\n",
    "       FIRST(review_count) AS review_count,\n",
    "       FIRST(category_count) AS category_count,\n",
    "       FIRST(user_name) AS user_name,\n",
    "       FIRST(yelping_since) AS yelping_since,\n",
    "       FIRST(reviews_written) AS reviews_written,\n",
    "       COLLECT_LIST(category) AS categories\n",
    "FROM project_table\n",
    "GROUP BY review_id\n",
    "ORDER BY review_id\n",
    "\"\"\")\n",
    "df_project_reviews.show(truncate=22)"
   ]
  },
  {
   "cell_type": "code",
   "execution_count": 0,
   "metadata": {
    "application/vnd.databricks.v1+cell": {
     "cellMetadata": {},
     "inputWidgets": {},
     "nuid": "0fbfd62f-83a9-4591-b4f8-589064bd2980",
     "showTitle": false,
     "title": ""
    }
   },
   "outputs": [
    {
     "output_type": "stream",
     "name": "stdout",
     "output_type": "stream",
     "text": [
      "project_reviews_table table exists\n+------------+\n|record_count|\n+------------+\n|     6990247|\n+------------+\n\n+----------------------+----------------------+-------------------+-----+------------+----------------------+-------+-------------+------------+--------------+---------+-------------------+---------------+----------------------+\n|             review_id|               user_id|               date|stars|review_order|                  name| gender|   metro_area|review_count|category_count|user_name|      yelping_since|reviews_written|            categories|\n+----------------------+----------------------+-------------------+-----+------------+----------------------+-------+-------------+------------+--------------+---------+-------------------+---------------+----------------------+\n|VECOpAoJNnPywQPW0egdRw|d9M9M4dQq6GmjdMoxmhBoQ|2018-11-21 03:00:46|  1.0|           1|          CVS Pharmacy|      F|    Nashville|          15|             3|Catherine|2011-06-28 21:53:17|              4|[Shopping, Health &...|\n|VECR5mttCyYolPAV_0_mZg|Z-ILmeNSzqJe2XF2kaYiGg|2021-08-11 00:27:35|  4.0|           3|         Naf Naf Grill|      F| Indianapolis|          87|             1|  Jessica|2012-10-17 18:49:10|             11|         [Restaurants]|\n|VECRzCn7HlfEuNdKs8g2PA|UhQp1xPAQxFQ44nvcKCjZA|2014-07-28 21:12:14|  5.0|           1|  Charlie Was a Sinner|      F| Philadelphia|        1039|             2|     Jane|2014-04-11 05:27:58|              1|[Restaurants, Night...|\n|VECWUs-4NPLRG7uqKv5Lgg|7iW088QiAKZDca_n0iHJKw|2018-08-12 03:17:32|  5.0|           1|Wheel Fun Rentals -...|      F|Santa Barbara|         156|             4|    Tasha|2013-08-20 11:17:20|            126|[Shopping, Local Fl...|\n|VECZ0_CIaRwqG2sM22HzJQ|lkELOho1lqsWpB6Up0qa7w|2019-06-06 22:16:07|  1.0|           2|Happy Foot Spa & Nails|      F|         Reno|         212|             1|   Ashley|2019-03-11 22:51:54|             19|       [Beauty & Spas]|\n|VECZUYoXgnRG9J67pIKL6Q|BPZEAoU0sB6CFGusTErUuA|2011-11-30 04:48:25|  4.0|           4|Toppers Spa/Salon R...|      M| Philadelphia|         142|             2|    Vince|2010-08-22 07:08:32|           1995|[Health & Medical, ...|\n|VECZaeTxDI-HMyQo049vpw|SIAFS0xc8MG2A9yMn8LP-g|2021-11-23 00:41:17|  4.0|           7|Silver Saddle Steak...|Unknown|       Tucson|         604|             2|        F|2013-02-10 21:38:27|             10|[Restaurants, Night...|\n|VECZqgywIpB-K76zGjq_9A|GttRfZCdFmiCDiZAnrJS_g|2021-07-01 17:30:43|  5.0|          11|                  vPho|      M| Philadelphia|         217|             2|    Louis|2013-03-31 22:40:37|             26|   [Restaurants, Food]|\n|VECZuAbK9NgxVklflk40cA|CBHpTYlMeG6kMo0a7LODkA|2016-01-08 17:06:38|  4.0|          46|            Yard House|Unknown| Philadelphia|         522|             2|   Feebee|2010-12-21 03:17:24|            271|[Restaurants, Night...|\n|VECaEu4GXANtXUCcoHr5dQ|F9v-T05iyAfzNk1p3EM8VA|2017-12-10 21:10:41|  1.0|           1|     Amanda's Bar None|      M| Philadelphia|          38|             3|    Aaron|2012-05-05 21:54:35|              2|[Restaurants, Night...|\n+----------------------+----------------------+-------------------+-----+------------+----------------------+-------+-------------+------------+--------------+---------+-------------------+---------------+----------------------+\n\n"
     ]
    }
   ],
   "source": [
    "process_or_create_table(\"project_reviews_table\", \"df_project_reviews\", summary=True, delete=False)"
   ]
  },
  {
   "cell_type": "code",
   "execution_count": 0,
   "metadata": {
    "application/vnd.databricks.v1+cell": {
     "cellMetadata": {},
     "inputWidgets": {},
     "nuid": "c562df24-990b-41db-958d-c1cf43442b29",
     "showTitle": false,
     "title": ""
    }
   },
   "outputs": [
    {
     "output_type": "stream",
     "name": "stdout",
     "output_type": "stream",
     "text": [
      "+--------------------+--------------------+--------------------+-----+------------+-------+------+\n|           review_id|             user_id|          categories|stars|review_order| gender|useful|\n+--------------------+--------------------+--------------------+-----+------------+-------+------+\n|---4VcQZzy_vIIifU...|EopuF3BhVXAGJWEje...|       [Restaurants]|  1.0|           1|      M|     1|\n|---zIHlP_-j4uR_i6...|Cs9vrBCHnjXODulXd...|[Local Services, ...|  3.0|           1|      M|     0|\n|---zIHlP_-j4uR_i6...|Cs9vrBCHnjXODulXd...|[Local Services, ...|  3.0|           1|      M|     0|\n|--0EbOIsbet_ef-5R...|lYQk0R6sPfo3WeX-l...| [Restaurants, Food]|  5.0|         712|      M|     2|\n|--0EbOIsbet_ef-5R...|lYQk0R6sPfo3WeX-l...| [Restaurants, Food]|  5.0|         712|      M|     2|\n|--0SsSyXoPu5pbITt...|ggpVElLtijHucOAXP...|[Professional Ser...|  5.0|           1|      M|     1|\n|--0SsSyXoPu5pbITt...|ggpVElLtijHucOAXP...|[Professional Ser...|  5.0|           1|      M|     1|\n|--1z0MjmPFmNQLpnw...|xg36DnPGqxPfGZN1q...|       [Restaurants]|  4.0|           4|      F|     0|\n|--2p5FajyhBVDP4mE...|fd3kgeamvBxxOcJc-...| [Restaurants, Food]|  1.0|           2|      F|     0|\n|--2p5FajyhBVDP4mE...|fd3kgeamvBxxOcJc-...| [Restaurants, Food]|  1.0|           2|      F|     0|\n|--40ELMyTKAlhX07W...|3dPZu07hLjpy3GIyZ...|       [Restaurants]|  3.0|           7|Unknown|     0|\n|--4WA0HVFt_WIwzCE...|BGIfkMCzkEaklj3Kh...|       [Restaurants]|  5.0|           6|      F|     0|\n|--4ipAcHz1eVTJJ0v...|Ic-7lHJPwP8SMM-YX...|       [Restaurants]|  1.0|          25|      M|     2|\n|--63UnMS92IxY_Ri-...|f3nNvDXmUHtwrMd9y...|[Education, Arts ...|  5.0|           1|      F|     0|\n|--63UnMS92IxY_Ri-...|f3nNvDXmUHtwrMd9y...|[Education, Arts ...|  5.0|           1|      F|     0|\n|--6RL5X9PiswVnpKK...|l2qhjxdNQeEAn3yPj...| [Restaurants, Food]|  5.0|           1|      M|     0|\n|--6RL5X9PiswVnpKK...|l2qhjxdNQeEAn3yPj...| [Restaurants, Food]|  5.0|           1|      M|     0|\n|--6ROZMJu22IL-xTp...|WzoHGY-FyOqlbiz12...|[Restaurants, Loc...|  5.0|          21|Unknown|     1|\n|--6ROZMJu22IL-xTp...|WzoHGY-FyOqlbiz12...|[Restaurants, Loc...|  5.0|          21|Unknown|     1|\n|--6ROZMJu22IL-xTp...|WzoHGY-FyOqlbiz12...|[Restaurants, Loc...|  5.0|          21|Unknown|     1|\n+--------------------+--------------------+--------------------+-----+------------+-------+------+\nonly showing top 20 rows\n\n"
     ]
    }
   ],
   "source": [
    "df_useful_reviews = spark.sql(\"\"\"\n",
    "SELECT prt.review_id, prt.user_id, prt.categories, prt.stars, prt.review_order, prt.gender, pt.useful\n",
    "FROM project_reviews_table AS prt INNER JOIN project_table AS pt ON prt.review_id = pt.review_id\n",
    "\"\"\")\n",
    "df_useful_reviews.show()"
   ]
  },
  {
   "cell_type": "code",
   "execution_count": 0,
   "metadata": {
    "application/vnd.databricks.v1+cell": {
     "cellMetadata": {},
     "inputWidgets": {},
     "nuid": "9257c21a-c4c8-4729-adfc-cc5eb95d80bb",
     "showTitle": false,
     "title": ""
    }
   },
   "outputs": [
    {
     "output_type": "stream",
     "name": "stdout",
     "output_type": "stream",
     "text": [
      "root\n |-- review_id: string (nullable = true)\n |-- user_id: string (nullable = true)\n |-- categories: array (nullable = true)\n |    |-- element: string (containsNull = true)\n |-- stars: double (nullable = true)\n |-- review_order: integer (nullable = true)\n |-- gender: string (nullable = true)\n |-- useful: long (nullable = true)\n\n"
     ]
    }
   ],
   "source": [
    "df_useful_reviews.printSchema()"
   ]
  },
  {
   "cell_type": "code",
   "execution_count": 0,
   "metadata": {
    "application/vnd.databricks.v1+cell": {
     "cellMetadata": {},
     "inputWidgets": {},
     "nuid": "7ce77e52-57fb-409a-9320-de612fa7780b",
     "showTitle": false,
     "title": ""
    }
   },
   "outputs": [
    {
     "output_type": "stream",
     "name": "stdout",
     "output_type": "stream",
     "text": [
      "building useful_reviews_table from existing table files\n+------------+\n|record_count|\n+------------+\n|    11726153|\n+------------+\n\n+----------------------+----------------------+----------------------+-----+------------+-------+------+\n|             review_id|               user_id|            categories|stars|review_order| gender|useful|\n+----------------------+----------------------+----------------------+-----+------------+-------+------+\n|---JpOlzUyBISir2Tn_Yhw|l9be6lRlJhumEM8ruMMJ7g|[Shopping, Health &...|  4.0|          62|      F|     1|\n|---JpOlzUyBISir2Tn_Yhw|l9be6lRlJhumEM8ruMMJ7g|[Shopping, Health &...|  4.0|          62|      F|     1|\n|---JpOlzUyBISir2Tn_Yhw|l9be6lRlJhumEM8ruMMJ7g|[Shopping, Health &...|  4.0|          62|      F|     1|\n|---tH-GjQ06oKXGZ7wvUpw|E3sF2lVp38bmORWVwzx6dw|                [Food]|  4.0|           3|      F|     1|\n|--0HEoLnywdYjD2QqaS-VA|YEiPZTWD6OKRGroINFkj7Q|         [Restaurants]|  1.0|           2|      F|     0|\n|--0Jc1yU2kgmjIsOk8VEjQ|k9rIAkr_3QpFRlTgIXJAGw|         [Active Life]|  5.0|         361|      F|     4|\n|--0M7xGVJhkcJhJOyrRApw|calTXUTm0fyavAoUXfzGJw|         [Restaurants]|  5.0|           1|      M|     0|\n|--0duzQoUmF-Ys50oIvJnQ|v7mW_Zl3Hv_nlhtoEpQIXw|       [Beauty & Spas]|  5.0|           1|      M|     1|\n|--0ub4hjXADhNtB6zcbTfQ|2iLkAYWxNkTaiIvgt7fx-g|         [Restaurants]|  3.0|          34|      M|     0|\n|--0x_ak-XN2SiKpjE9xDwA|5eXfxJK607Q1RtToOKMwbQ|                [Food]|  5.0|          46|Unknown|     2|\n+----------------------+----------------------+----------------------+-----+------------+-------+------+\n\n"
     ]
    }
   ],
   "source": [
    "process_or_create_table(\"useful_reviews_table\", \"df_useful_reviews\", summary=True, delete=False)"
   ]
  },
  {
   "cell_type": "code",
   "execution_count": 0,
   "metadata": {
    "application/vnd.databricks.v1+cell": {
     "cellMetadata": {},
     "inputWidgets": {},
     "nuid": "ac38eeaa-bfb8-4278-bf79-6bdc6f2b484f",
     "showTitle": false,
     "title": ""
    }
   },
   "outputs": [],
   "source": []
  }
 ],
 "metadata": {
  "application/vnd.databricks.v1+notebook": {
   "dashboards": [],
   "language": "python",
   "notebookMetadata": {
    "mostRecentlyExecutedCommandWithImplicitDF": {
     "commandId": 4219893018049725,
     "dataframes": [
      "_sqldf"
     ]
    },
    "pythonIndentUnit": 2
   },
   "notebookName": "Social Security Data and Yelp join final",
   "widgets": {}
  }
 },
 "nbformat": 4,
 "nbformat_minor": 0
}
