{
 "cells": [
  {
   "cell_type": "code",
   "execution_count": 0,
   "metadata": {
    "application/vnd.databricks.v1+cell": {
     "cellMetadata": {},
     "inputWidgets": {},
     "nuid": "62d75d07-2d08-4a95-8a55-01fb42ba4d62",
     "showTitle": false,
     "title": ""
    }
   },
   "outputs": [],
   "source": [
    "%run \"./Process or Create Table\""
   ]
  },
  {
   "cell_type": "code",
   "execution_count": 0,
   "metadata": {
    "application/vnd.databricks.v1+cell": {
     "cellMetadata": {},
     "inputWidgets": {},
     "nuid": "91e28538-6d11-47d4-be76-c7db6afd4703",
     "showTitle": false,
     "title": ""
    }
   },
   "outputs": [
    {
     "output_type": "stream",
     "name": "stdout",
     "output_type": "stream",
     "text": [
      "building user_table from existing table files\n+------------+\n|record_count|\n+------------+\n|     1987897|\n+------------+\n\n+-------------+---------------+---------------+----------------+--------------+---------------+---------------+---------------+-----------------+----------------+------------------+-----------------+----+----------------------+----+-----+-------------+------------+------+----------------------+-------------------+------------+\n|average_stars|compliment_cool|compliment_cute|compliment_funny|compliment_hot|compliment_list|compliment_more|compliment_note|compliment_photos|compliment_plain|compliment_profile|compliment_writer|cool|                 elite|fans|funny|         name|review_count|useful|               user_id|      yelping_since|friend_count|\n+-------------+---------------+---------------+----------------+--------------+---------------+---------------+---------------+-----------------+----------------+------------------+-----------------+----+----------------------+----+-----+-------------+------------+------+----------------------+-------------------+------------+\n|          5.0|              0|              0|               0|             0|              0|              0|              0|                0|               0|                 0|                0|   0|                      |   0|    1|        Avery|           5|     2|Rx4Jl0SK0Vu5xlw3RPbdmA|2016-11-16 20:58:16|         142|\n|          2.6|              1|              0|               1|             0|              0|              2|              0|                0|               0|                 0|                1|  11|                      |   2|    4|        Tanya|          42|    27|qL2n1KDDQccYD-Lx4MWmVw|2009-01-09 00:14:29|         123|\n|          4.0|              0|              0|               0|             0|              0|              0|              0|                0|               0|                 0|                0|   0|                      |   0|    0|      Abindas|           7|     2|P5_E3H8dWyTr4lJiaNUfTw|2015-08-17 00:10:07|         251|\n|         1.63|              0|              0|               0|             0|              0|              0|              0|                0|               0|                 0|                0|   1|                      |   0|    1| Zia-Kashanti|           7|     5|EF8JYiN8ohkAA8cipaRUpA|2010-05-27 12:23:58|          46|\n|          3.2|              4|              2|               4|             0|              0|              1|              1|                8|               7|                 0|                1|  22|                      |   9|   22|         Rick|          42|    71|lxpavrqhbfOvxIepv41RdQ|2011-09-30 19:36:53|           6|\n|         3.59|             30|              3|              30|             4|              0|              0|             14|                4|              16|                 1|                9| 567|2017,2018,2019,20,2...|  19|  266|       Margie|         334|   482|P_2DQxHwueC4Jm2qM-4Uuw|2017-06-02 00:17:41|         296|\n|          4.0|              0|              0|               0|             0|              0|              0|              0|                0|               0|                 0|                0|   0|                      |   0|    0|        Tyler|           1|     0|3dEhqPG8dMNQkSpz472JMA|2014-05-25 15:25:32|           2|\n|         1.33|              0|              0|               0|             0|              0|              0|              0|                0|               0|                 0|                0|   0|                      |   0|    3|         Doug|           9|     2|5qK2shRKiP9PGCKUPWbEaQ|2014-03-04 20:28:59|          57|\n|         4.38|              4|              0|               4|             0|              0|              0|              0|                0|               1|                 0|                1|  34|                      |   2|   17|Arnie Beauyet|          80|    53|_rS4QzfgKkMhwBDk9K2GvA|2012-06-06 18:18:34|          27|\n|          5.0|              0|              0|               0|             1|              0|              0|              0|                0|               0|                 0|                0|   9|                      |   0|    8|         Ryan|          18|    11|XKNe7pMsiHzdM6f8HUHFlw|2012-05-02 20:49:14|           3|\n+-------------+---------------+---------------+----------------+--------------+---------------+---------------+---------------+-----------------+----------------+------------------+-----------------+----+----------------------+----+-----+-------------+------------+------+----------------------+-------------------+------------+\n\n"
     ]
    }
   ],
   "source": [
    "process_or_create_table(\"user_table\", None, summary=True, delete=False)"
   ]
  },
  {
   "cell_type": "code",
   "execution_count": 0,
   "metadata": {
    "application/vnd.databricks.v1+cell": {
     "cellMetadata": {},
     "inputWidgets": {},
     "nuid": "30ecc4b9-c0aa-4dec-81e9-6447e14fc442",
     "showTitle": false,
     "title": ""
    }
   },
   "outputs": [
    {
     "output_type": "stream",
     "name": "stdout",
     "output_type": "stream",
     "text": [
      "+----------------------+-------------+-------------------------+\n|user_id               |name         |elite                    |\n+----------------------+-------------+-------------------------+\n|Rx4Jl0SK0Vu5xlw3RPbdmA|Avery        |                         |\n|qL2n1KDDQccYD-Lx4MWmVw|Tanya        |                         |\n|P5_E3H8dWyTr4lJiaNUfTw|Abindas      |                         |\n|EF8JYiN8ohkAA8cipaRUpA|Zia-Kashanti |                         |\n|lxpavrqhbfOvxIepv41RdQ|Rick         |                         |\n|P_2DQxHwueC4Jm2qM-4Uuw|Margie       |2017,2018,2019,20,20,2021|\n|3dEhqPG8dMNQkSpz472JMA|Tyler        |                         |\n|5qK2shRKiP9PGCKUPWbEaQ|Doug         |                         |\n|_rS4QzfgKkMhwBDk9K2GvA|Arnie Beauyet|                         |\n|XKNe7pMsiHzdM6f8HUHFlw|Ryan         |                         |\n|1QVt2Y1u6aZU94l_f3s-cQ|Ro           |                         |\n|ScdVF7L_oT_X7AZNGeg-6Q|Shannon      |                         |\n|1NVrBnkXEKrvWK7yNpqyEg|Daniela      |                         |\n|081BCVH7uRjPRgvNDHhheg|Elizabeth    |                         |\n|I3nNLL9Z0LVh28vHHsciZw|Rochelle     |                         |\n|_2oQ8h1iMEMZfGdVfoOGAw|Cassidy      |                         |\n|JubML5kLmbY1RiTljusKww|Susan        |                         |\n|PqUmO7Wdinms5V7unoNXuQ|Anna         |                         |\n|u_MBliQKyvma1t9vIJGMYA|Andrea       |                         |\n|ZyxIwcAMDrKrZ497vEcauw|Danielle     |                         |\n+----------------------+-------------+-------------------------+\nonly showing top 20 rows\n\n"
     ]
    }
   ],
   "source": [
    "spark.sql(\"\"\"\n",
    "SELECT user_id, name, elite\n",
    "FROM user_table\n",
    "\"\"\").show(truncate=False)"
   ]
  },
  {
   "cell_type": "code",
   "execution_count": 0,
   "metadata": {
    "application/vnd.databricks.v1+cell": {
     "cellMetadata": {},
     "inputWidgets": {},
     "nuid": "2cbe5518-dd6e-4e1c-b3db-55046d248091",
     "showTitle": false,
     "title": ""
    }
   },
   "outputs": [
    {
     "output_type": "stream",
     "name": "stdout",
     "output_type": "stream",
     "text": [
      "record count: 1987897\n+----------------------+-------------+-------------------+------------+------------+------------------------+\n|user_id               |name         |yelping_since      |review_count|friend_count|elite                   |\n+----------------------+-------------+-------------------+------------+------------+------------------------+\n|Rx4Jl0SK0Vu5xlw3RPbdmA|Avery        |2016-11-16 20:58:16|5           |142         |                        |\n|qL2n1KDDQccYD-Lx4MWmVw|Tanya        |2009-01-09 00:14:29|42          |123         |                        |\n|P5_E3H8dWyTr4lJiaNUfTw|Abindas      |2015-08-17 00:10:07|7           |251         |                        |\n|EF8JYiN8ohkAA8cipaRUpA|Zia-Kashanti |2010-05-27 12:23:58|7           |46          |                        |\n|lxpavrqhbfOvxIepv41RdQ|Rick         |2011-09-30 19:36:53|42          |6           |                        |\n|P_2DQxHwueC4Jm2qM-4Uuw|Margie       |2017-06-02 00:17:41|334         |296         |2017,2018,2019,2020,2021|\n|3dEhqPG8dMNQkSpz472JMA|Tyler        |2014-05-25 15:25:32|1           |2           |                        |\n|5qK2shRKiP9PGCKUPWbEaQ|Doug         |2014-03-04 20:28:59|9           |57          |                        |\n|_rS4QzfgKkMhwBDk9K2GvA|Arnie Beauyet|2012-06-06 18:18:34|80          |27          |                        |\n|XKNe7pMsiHzdM6f8HUHFlw|Ryan         |2012-05-02 20:49:14|18          |3           |                        |\n|1QVt2Y1u6aZU94l_f3s-cQ|Ro           |2014-07-04 15:43:25|24          |69          |                        |\n|ScdVF7L_oT_X7AZNGeg-6Q|Shannon      |2012-07-31 21:06:56|16          |12          |                        |\n|1NVrBnkXEKrvWK7yNpqyEg|Daniela      |2016-05-22 01:03:16|2           |353         |                        |\n|081BCVH7uRjPRgvNDHhheg|Elizabeth    |2015-08-30 18:05:20|15          |60          |                        |\n|I3nNLL9Z0LVh28vHHsciZw|Rochelle     |2016-04-23 23:53:21|1           |241         |                        |\n|_2oQ8h1iMEMZfGdVfoOGAw|Cassidy      |2015-06-28 03:56:59|4           |211         |                        |\n|JubML5kLmbY1RiTljusKww|Susan        |2015-05-18 17:29:26|2           |79          |                        |\n|PqUmO7Wdinms5V7unoNXuQ|Anna         |2012-09-08 22:19:19|64          |203         |                        |\n|u_MBliQKyvma1t9vIJGMYA|Andrea       |2012-06-08 20:26:59|17          |42          |                        |\n|ZyxIwcAMDrKrZ497vEcauw|Danielle     |2018-01-09 19:47:19|2           |67          |                        |\n+----------------------+-------------+-------------------+------------+------------+------------------------+\nonly showing top 20 rows\n\n"
     ]
    }
   ],
   "source": [
    "df_clean_users = spark.sql(\"\"\"\n",
    "SELECT user_id, name, yelping_since, review_count, friend_count, REGEXP_REPLACE(elite, '20,20', '2020') AS elite\n",
    "FROM user_table\n",
    "\"\"\")\n",
    "print(f\"record count: {df_clean_users.count()}\")\n",
    "df_clean_users.show(truncate=False)\n",
    "df_clean_users.createOrReplaceTempView(\"clean_users\")"
   ]
  },
  {
   "cell_type": "code",
   "execution_count": 0,
   "metadata": {
    "application/vnd.databricks.v1+cell": {
     "cellMetadata": {},
     "inputWidgets": {},
     "nuid": "05038847-9313-4de0-8401-186c162330c2",
     "showTitle": false,
     "title": ""
    }
   },
   "outputs": [
    {
     "output_type": "stream",
     "name": "stdout",
     "output_type": "stream",
     "text": [
      "record count: 1987897\nroot\n |-- user_id: string (nullable = true)\n |-- name: string (nullable = true)\n |-- yelping_since: string (nullable = true)\n |-- reviews_written: long (nullable = true)\n |-- friend_count: integer (nullable = true)\n |-- elite_years: array (nullable = false)\n |    |-- element: integer (containsNull = false)\n |-- is_elite: boolean (nullable = false)\n |-- first_elite: integer (nullable = true)\n\n+----------------------+-----------+-------------------+---------------+------------+------------------------------------------------------------------------------+--------+-----------+\n|user_id               |name       |yelping_since      |reviews_written|friend_count|elite_years                                                                   |is_elite|first_elite|\n+----------------------+-----------+-------------------+---------------+------------+------------------------------------------------------------------------------+--------+-----------+\n|--1orhUoGFSdHXsoxqQc8g|Keny       |2011-03-18 05:56:39|41             |70          |[]                                                                            |false   |null       |\n|--3Hl2oAvTPlq-f7KtogJg|Rogan      |2013-09-11 04:19:10|11             |1           |[]                                                                            |false   |null       |\n|--4AjktZiHowEIBCMd4CZA|Bert       |2015-06-01 16:58:12|57             |1           |[]                                                                            |false   |null       |\n|--5EJ-TYQgbeViSGYRIYXQ|Eric       |2014-10-09 03:31:34|1              |1           |[]                                                                            |false   |null       |\n|--5_3gs0f24DZ7N2PkwdGw|Karen      |2013-08-23 18:02:56|2              |1           |[]                                                                            |false   |null       |\n|--6RLpoufvX9f5gQs_LOuw|Megan      |2014-02-10 00:14:04|13             |1           |[]                                                                            |false   |null       |\n|--6lqYpHZCBbpW5z29wzzA|Jeff       |2013-03-04 14:25:23|9              |1           |[]                                                                            |false   |null       |\n|--7SMrwYYu5xniXjBGdWhw|Greg       |2015-03-23 17:06:18|3              |1           |[]                                                                            |false   |null       |\n|--8r3pNaZiG1fN8LCHuL_g|Diane      |2015-11-16 03:34:45|25             |1           |[]                                                                            |false   |null       |\n|--9jUPPYMRSnJKlOskyyDA|Candace    |2012-02-04 01:47:26|9              |1           |[]                                                                            |false   |null       |\n|--A15Rp8LJspfurczGgH1w|Jared      |2015-12-18 12:24:20|10             |1           |[]                                                                            |false   |null       |\n|--Al1VYjHegnOfTVotCHFw|Steve      |2011-12-13 14:28:26|55             |1           |[]                                                                            |false   |null       |\n|--DBsOOiMurIanfF2GQLmQ|Mike       |2015-12-14 03:27:49|21             |119         |[]                                                                            |false   |null       |\n|--E_Sb0zgN4JRyM9Q-0uYw|Crissy     |2015-07-24 20:25:16|7              |92          |[]                                                                            |false   |null       |\n|--G0VFY5whbtADmqQMYDCg|Krista     |2016-11-01 18:58:27|5              |29          |[]                                                                            |false   |null       |\n|--G8kE5q7WL0FcKshMASmw|Hea Mi     |2014-11-21 16:48:38|5              |12          |[]                                                                            |false   |null       |\n|--Icfx-jxz715RfAasVO8A|Brian      |2014-11-14 22:59:46|1              |1           |[]                                                                            |false   |null       |\n|--KQJPdrU0Md97DiOliDzw|Steve      |2006-01-17 19:00:28|166            |92          |[2009, 2010, 2011]                                                            |true    |2009       |\n|--Kwhcbkh7jxkhVVQZo2uQ|Larz       |2014-05-30 16:58:11|58             |92          |[]                                                                            |false   |null       |\n|--RJK834fiQXm21VpJp_nw|Renee      |2018-02-04 20:34:16|1              |1           |[]                                                                            |false   |null       |\n|--SrLq-3TP9cxazYOVvEhw|James      |2013-06-15 20:03:05|1              |200         |[]                                                                            |false   |null       |\n|--UhENQdbuWEh0mU5weIEg|Sonny      |2017-06-19 18:37:56|1              |1           |[]                                                                            |false   |null       |\n|--UizzbnQlZg7bEv2oXEyg|Avonlea    |2013-01-26 05:39:57|73             |35          |[2021]                                                                        |true    |2021       |\n|--Vu3Gux9nPnLcG9yO_HxA|Cherish    |2013-07-25 19:15:08|58             |4           |[]                                                                            |false   |null       |\n|--VzG_FNvLxrJmKId1tkrg|Greg       |2014-06-27 22:14:18|1              |7           |[]                                                                            |false   |null       |\n|--Whu2Ivi3IXXBo7aU1i3A|Brian      |2019-07-14 05:53:39|6              |1           |[]                                                                            |false   |null       |\n|--XwFm4qERD6J5SX0JAsbg|Terra      |2016-12-06 21:37:08|17             |1           |[]                                                                            |false   |null       |\n|--Yrq6JLmQNdbZkWJsHy5Q|Rebekkah   |2010-03-12 18:09:51|145            |63          |[2011, 2012]                                                                  |true    |2011       |\n|--Zf9gp9KY774LW1OQ2fgA|Monique    |2014-10-25 20:17:08|23             |22          |[]                                                                            |false   |null       |\n|--_H9j6ggxvqhh9nPofZwg|Nicole     |2014-06-27 00:00:44|179            |72          |[2015, 2016, 2017, 2018, 2019, 2020]                                          |true    |2015       |\n|--_dmdQ6m1M5Y3RKz53qOQ|Jazmin     |2012-04-24 02:47:54|13             |1           |[]                                                                            |false   |null       |\n|--_qBoYwIw2leYpNa6iPdQ|Brittany   |2016-09-18 02:47:39|29             |306         |[]                                                                            |false   |null       |\n|--agAy0vRYwG6WqbInorfg|Noah       |2010-07-17 17:11:53|5              |49          |[]                                                                            |false   |null       |\n|--akVVwaIAeh_I7G3Rf4KA|Jason      |2012-12-07 17:21:38|17             |353         |[]                                                                            |false   |null       |\n|--bAnPT8W3L01Rg17js-Zw|Ashley     |2015-09-04 03:17:14|6              |107         |[]                                                                            |false   |null       |\n|--bKEInja8B9EC9dUH6TLg|Steven     |2014-11-07 05:50:32|14             |2           |[]                                                                            |false   |null       |\n|--cPqjzKHqHKmGala65zwg|Brian      |2012-03-20 17:24:09|147            |126         |[2014, 2015, 2016, 2017]                                                      |true    |2014       |\n|--cjT1ICjm_ajiwSKoCC7g|Shayla     |2012-05-18 20:32:40|7              |1           |[]                                                                            |false   |null       |\n|--cxdcv_b9uhAKsKTlyC3Q|Cheryl     |2014-02-08 01:13:06|4              |61          |[]                                                                            |false   |null       |\n|--fTxom4Ux4NqxRQjE29DA|Arrianne   |2017-12-15 01:48:19|1              |1           |[]                                                                            |false   |null       |\n|--gafFJlfUIwzifH583ruw|Mark       |2013-10-25 18:01:54|9              |1           |[]                                                                            |false   |null       |\n|--ggW4xS61vy0KhLhPTeHg|Surfer     |2010-12-09 03:14:38|4              |2           |[]                                                                            |false   |null       |\n|--hhXCBjt6iPENfaMtobKw|Lynette    |2013-06-10 17:00:40|44             |1           |[]                                                                            |false   |null       |\n|--iUIWhlUxSEWdh15d9INQ|Mary       |2013-10-21 22:44:08|5              |3           |[]                                                                            |false   |null       |\n|--ie3_hRXxOI_3fqDnT_Iw|Ed         |2015-10-27 18:58:32|1              |1           |[]                                                                            |false   |null       |\n|--ihyTzmVu69e61bTn0_mA|Misha      |2008-06-16 22:17:30|25             |34          |[]                                                                            |false   |null       |\n|--j6b8ikp-Gnh7Vroe6QwA|Stephanie  |2011-04-19 23:04:11|10             |1           |[]                                                                            |false   |null       |\n|--kq_SRzFL71a2WlZdfV_w|Erwin      |2011-10-23 17:13:17|2              |1           |[]                                                                            |false   |null       |\n|--llVTFQ8D8zcja9NH5-cA|Erika      |2010-06-23 17:40:05|28             |126         |[]                                                                            |false   |null       |\n|--mm7mLpnDS3mNlwuAdbtA|Melissa    |2011-06-23 18:19:38|3              |5           |[]                                                                            |false   |null       |\n|--nQ4-F7JINAlPir_f-VeQ|Julian     |2014-08-03 22:30:28|4              |2           |[]                                                                            |false   |null       |\n|--oTv9nDYg0Akgt0DFBxYw|pat        |2009-10-28 19:22:10|1              |1           |[]                                                                            |false   |null       |\n|--oudE7FwOXwN8o_bk0sAg|David      |2018-09-24 18:12:28|2              |10          |[]                                                                            |false   |null       |\n|--pZFwTybI_5-OhXwdq1wg|Anahid     |2010-08-22 08:53:15|29             |7           |[]                                                                            |false   |null       |\n|--pvE2eu3WWwikKs1E2QDw|Kelly      |2011-05-23 00:33:34|40             |1           |[]                                                                            |false   |null       |\n|--r3QyoNpRrRyXc7O3DjBg|Roti       |2015-01-26 18:17:44|78             |1           |[]                                                                            |false   |null       |\n|--rTlRNPla6azelpN66Y6A|N.         |2018-01-06 04:21:52|9              |2           |[]                                                                            |false   |null       |\n|--sWfmdmhhgBdemfm5FAmw|Tori       |2020-11-06 04:32:32|1              |1           |[]                                                                            |false   |null       |\n|--stX0XZvx4nVmfoaJUMIw|Dave       |2008-12-17 02:44:08|23             |46          |[]                                                                            |false   |null       |\n|--t1GgwabT-J_6OQG8f5QQ|Shaun      |2016-04-26 22:29:50|4              |74          |[]                                                                            |false   |null       |\n|--tyJtGiPvGe_uAVpdLp_g|Chip       |2016-06-03 12:50:11|77             |1           |[]                                                                            |false   |null       |\n|--vbugbG0uZMzODytPRLCg|Jennifer   |2015-05-22 00:35:27|4              |1           |[]                                                                            |false   |null       |\n|--xNcR1qlSxqCl9BcuCf2w|Meredith   |2013-02-17 01:47:37|1              |1           |[]                                                                            |false   |null       |\n|--z9XJZF0T2r7aIsZ_wBew|Bethany    |2010-07-12 16:55:32|8              |1           |[]                                                                            |false   |null       |\n|-0-50Z_lmp-VskNCbH3Fqw|Daniel     |2011-01-11 21:30:40|16             |33          |[]                                                                            |false   |null       |\n|-01TD28Dt9-3-bEviz5Lrw|James      |2011-01-08 17:59:37|3              |34          |[]                                                                            |false   |null       |\n|-02vN1X2Hre7rF8vrKxHfQ|Lori       |2017-09-08 02:23:56|63             |1           |[]                                                                            |false   |null       |\n|-03E8xvkqArJ_23ShAgVqQ|Robert     |2017-10-24 02:02:22|1              |1           |[]                                                                            |false   |null       |\n|-03VewnKHQJAoxqTqjhDkA|Christopher|2015-02-06 22:44:48|3              |1           |[]                                                                            |false   |null       |\n|-05T0q5BxB9g0RCKiGYoyQ|Tony       |2011-08-26 21:48:39|59             |12          |[]                                                                            |false   |null       |\n|-06LtGDjY9ZVeObXRx_lGg|Bill       |2014-08-19 03:54:06|32             |1           |[]                                                                            |false   |null       |\n|-073IXD_JkLK8SlRcsV-og|Philip     |2015-06-25 11:54:01|31             |7           |[]                                                                            |false   |null       |\n|-07D8B5VrYgQJTuBJO-Mpw|Chris      |2016-03-20 13:43:27|1              |1           |[]                                                                            |false   |null       |\n|-07yWKUBuH1hTBF8T0y-rw|Yogi       |2011-03-10 06:50:01|4              |68          |[]                                                                            |false   |null       |\n|-08c6m41PZZp49n-mrDBTA|Sasha      |2013-01-11 19:43:04|73             |7           |[]                                                                            |false   |null       |\n|-08lJwOKEqfFVr9ubGG1QA|Will       |2018-06-19 14:28:52|1              |1           |[]                                                                            |false   |null       |\n|-09N_lZ380irBMCo4mbaSQ|Stewart    |2013-02-17 12:54:34|5              |3           |[]                                                                            |false   |null       |\n|-09NwuM7wdi18yIW2klodw|Tyson      |2008-09-16 04:35:36|52             |66          |[]                                                                            |false   |null       |\n|-0Arfz1Xr2lmGy1JbyiTgQ|Alex       |2010-05-31 14:43:45|5              |615         |[]                                                                            |false   |null       |\n|-0AyZxS5C--WySnbW_Q8yQ|Lars       |2010-07-26 15:30:00|536            |51          |[2012, 2013, 2014, 2015, 2016, 2017, 2018, 2019]                              |true    |2012       |\n|-0BRo2qsskTQk6Zi3NI3dQ|Lee        |2013-04-23 23:03:28|8              |1           |[]                                                                            |false   |null       |\n|-0BYflwCtFfK9LcBGENZpw|Carolyn    |2015-03-14 20:21:24|1              |1           |[]                                                                            |false   |null       |\n|-0BwUKQSvjFFxuxEL3zLQA|Jeffrey    |2016-09-04 02:27:30|1              |1           |[]                                                                            |false   |null       |\n|-0DOvdyKwCApxw5pYVy6DA|Sarah      |2009-11-10 06:28:14|1              |1           |[]                                                                            |false   |null       |\n|-0Dk1aUr03RDBobfzwoAfQ|Anthony    |2015-11-02 17:57:38|1              |266         |[]                                                                            |false   |null       |\n|-0EwR3BIs0yqydIPn8m5vg|Robin      |2016-01-18 16:23:10|6              |1           |[]                                                                            |false   |null       |\n|-0EzgKMI9ZakqLiWR8f9hQ|Joseph     |2018-01-03 21:31:49|5              |1           |[]                                                                            |false   |null       |\n|-0IxNHBs8F9a9sdwgF9uPg|Jim        |2018-11-28 17:12:41|2              |1           |[]                                                                            |false   |null       |\n|-0KMtvxEx5mzSFuVS17n0A|Mia        |2011-05-10 00:31:16|12             |150         |[]                                                                            |false   |null       |\n|-0MIp6WKJ8QvGnYZQ5ETyg|Chris      |2018-03-18 19:02:00|49             |1           |[]                                                                            |false   |null       |\n|-0ML1BUfbMWbjJPKGjlJVA|Ian        |2013-08-22 01:01:11|6              |725         |[]                                                                            |false   |null       |\n|-0MNilxFS41CdBE2vNRlKA|Ben        |2015-07-10 20:40:35|15             |1           |[]                                                                            |false   |null       |\n|-0NMQ69U_7lMxmUV-wqK8g|Ashley     |2015-02-10 01:18:25|7              |1           |[]                                                                            |false   |null       |\n|-0Nczv22HBLWg0Zwi_QZaQ|Peter      |2018-07-09 23:53:48|3              |21          |[]                                                                            |false   |null       |\n|-0P05VcDV16FP2fXYPdoRw|Agnieszka  |2016-05-03 01:14:18|1              |1           |[]                                                                            |false   |null       |\n|-0RBhNLeP-fdlX4G73UU8w|Derrick    |2015-07-30 21:59:48|2              |1           |[]                                                                            |false   |null       |\n|-0Rsd6RyQCaI4tkGM53YGg|Mark       |2014-10-10 23:04:49|10             |1           |[]                                                                            |false   |null       |\n|-0SpNobbik9w9F0LP0dMnw|Van        |2016-08-13 04:25:04|41             |1           |[]                                                                            |false   |null       |\n|-0SqALqeWmInVftG_iHcHg|Jim        |2008-04-09 01:12:39|820            |925         |[2009, 2010, 2011, 2012, 2013, 2014, 2015, 2016, 2017, 2018, 2019, 2020, 2021]|true    |2009       |\n|-0TVg14LxIGBrRQw9pJT2w|Jared      |2014-09-19 01:59:52|2              |7           |[]                                                                            |false   |null       |\n+----------------------+-----------+-------------------+---------------+------------+------------------------------------------------------------------------------+--------+-----------+\nonly showing top 100 rows\n\n"
     ]
    }
   ],
   "source": [
    "df_users = spark.sql(\"\"\"\n",
    "WITH elite_array AS \n",
    "     (SELECT user_id, SPLIT(elite,\"\\\\\\s*,\\\\\\s*\") AS elite_years\n",
    "      FROM clean_users),\n",
    "      \n",
    "     exploded_elite AS\n",
    "     (SELECT user_id, EXPLODE(elite_years) AS elite_years\n",
    "     FROM elite_array),\n",
    "     \n",
    "     converted_elite AS\n",
    "     (SELECT user_id, CAST(elite_years AS Integer)\n",
    "     FROM exploded_elite),\n",
    "     \n",
    "     collected_elite AS\n",
    "     (SELECT user_id, COLLECT_LIST(elite_years) AS elite_years\n",
    "     FROM converted_elite\n",
    "     GROUP BY user_id)\n",
    "    \n",
    "      \n",
    "SELECT U.user_id, U.name, U.yelping_since, \n",
    "       U.review_count AS reviews_written, U.friend_count, \n",
    "       ARRAY_SORT(E.elite_years) AS elite_years,\n",
    "       (SIZE(elite_years) <> 0) AS is_elite,\n",
    "       ARRAY_MIN(E.elite_years) AS first_elite\n",
    "FROM clean_users AS U INNER JOIN collected_elite AS E\n",
    "ON U.user_id = E.user_id\n",
    "\"\"\")\n",
    "print(f\"record count: {df_users.count()}\")\n",
    "df_users.printSchema()\n",
    "df_users.show(100, truncate=False)\n",
    "df_users.createOrReplaceTempView(\"users\")"
   ]
  },
  {
   "cell_type": "code",
   "execution_count": 0,
   "metadata": {
    "application/vnd.databricks.v1+cell": {
     "cellMetadata": {},
     "inputWidgets": {},
     "nuid": "6e01e5ed-c164-4e51-8ebf-d328a125aeae",
     "showTitle": false,
     "title": ""
    }
   },
   "outputs": [],
   "source": [
    "%run \"./Process or Create Table\""
   ]
  },
  {
   "cell_type": "code",
   "execution_count": 0,
   "metadata": {
    "application/vnd.databricks.v1+cell": {
     "cellMetadata": {},
     "inputWidgets": {},
     "nuid": "bd926785-1b2f-4439-8835-4f4de8dec39b",
     "showTitle": false,
     "title": ""
    }
   },
   "outputs": [
    {
     "output_type": "stream",
     "name": "stdout",
     "output_type": "stream",
     "text": [
      "building ssa_gender_table from existing table files\n+------------+\n|record_count|\n+------------+\n|      101338|\n+------------+\n\n+----------+-----+----+-----+------+------------------+\n|      name|women| men|total|gender|      gender_ratio|\n+----------+-----+----+-----+------+------------------+\n|    Skylor|  418|1052| 1470|     M|0.7156462585034014|\n|   Burnell|  593|2785| 3378|     M|0.8244523386619301|\n|   Almedia|  530|   0|  530|     F|               1.0|\n|Marcelline| 1065|   0| 1065|     F|               1.0|\n|       Bud|    0|9449| 9449|     M|               1.0|\n|   Rosetta|27985|  44|28029|     F|0.9984301972956581|\n|     Eliya|  686| 145|  831|     F| 0.825511432009627|\n|  Khennedi|   24|   0|   24|     F|               1.0|\n|    Dedric|   20|1843| 1863|     M|0.9892646269457863|\n|    Fallon|10066| 532|10598|     F|0.9498018494055482|\n+----------+-----+----+-----+------+------------------+\n\n"
     ]
    }
   ],
   "source": [
    "process_or_create_table(\"ssa_gender_table\", None, summary=True, delete=False)"
   ]
  },
  {
   "cell_type": "code",
   "execution_count": 0,
   "metadata": {
    "application/vnd.databricks.v1+cell": {
     "cellMetadata": {},
     "inputWidgets": {},
     "nuid": "d7898c90-f096-403b-be77-04495a4ed0e9",
     "showTitle": false,
     "title": ""
    }
   },
   "outputs": [
    {
     "output_type": "stream",
     "name": "stdout",
     "output_type": "stream",
     "text": [
      "Record count: 1987897\n+----------------------+-------+-------------------+---------------+------------+------------------+--------+-----------+-------+------------------+\n|user_id               |name   |yelping_since      |reviews_written|friend_count|elite_years       |is_elite|first_elite|gender |gender_ratio      |\n+----------------------+-------+-------------------+---------------+------------+------------------+--------+-----------+-------+------------------+\n|--1orhUoGFSdHXsoxqQc8g|Keny   |2011-03-18 05:56:39|41             |70          |[]                |false   |null       |M      |0.9765258215962441|\n|--3Hl2oAvTPlq-f7KtogJg|Rogan  |2013-09-11 04:19:10|11             |1           |[]                |false   |null       |M      |0.9450072358900145|\n|--4AjktZiHowEIBCMd4CZA|Bert   |2015-06-01 16:58:12|57             |1           |[]                |false   |null       |M      |0.9807917202666355|\n|--5EJ-TYQgbeViSGYRIYXQ|Eric   |2014-10-09 03:31:34|1              |1           |[]                |false   |null       |M      |0.9951624407982141|\n|--5_3gs0f24DZ7N2PkwdGw|Karen  |2013-08-23 18:02:56|2              |1           |[]                |false   |null       |F      |0.9971917887093744|\n|--6RLpoufvX9f5gQs_LOuw|Megan  |2014-02-10 00:14:04|13             |1           |[]                |false   |null       |F      |0.9974890544151931|\n|--6lqYpHZCBbpW5z29wzzA|Jeff   |2013-03-04 14:25:23|9              |1           |[]                |false   |null       |M      |0.9978150883518455|\n|--7SMrwYYu5xniXjBGdWhw|Greg   |2015-03-23 17:06:18|3              |1           |[]                |false   |null       |M      |0.9981619773524761|\n|--8r3pNaZiG1fN8LCHuL_g|Diane  |2015-11-16 03:34:45|25             |1           |[]                |false   |null       |F      |0.9973351599192659|\n|--9jUPPYMRSnJKlOskyyDA|Candace|2012-02-04 01:47:26|9              |1           |[]                |false   |null       |F      |0.9981267451313046|\n|--A15Rp8LJspfurczGgH1w|Jared  |2015-12-18 12:24:20|10             |1           |[]                |false   |null       |M      |0.9962286943327293|\n|--Al1VYjHegnOfTVotCHFw|Steve  |2011-12-13 14:28:26|55             |1           |[]                |false   |null       |M      |0.9962520787311673|\n|--DBsOOiMurIanfF2GQLmQ|Mike   |2015-12-14 03:27:49|21             |119         |[]                |false   |null       |M      |0.996782174608344 |\n|--E_Sb0zgN4JRyM9Q-0uYw|Crissy |2015-07-24 20:25:16|7              |92          |[]                |false   |null       |F      |1.0               |\n|--G0VFY5whbtADmqQMYDCg|Krista |2016-11-01 18:58:27|5              |29          |[]                |false   |null       |F      |0.9979917498914459|\n|--G8kE5q7WL0FcKshMASmw|Hea Mi |2014-11-21 16:48:38|5              |12          |[]                |false   |null       |Unknown|1.0               |\n|--Icfx-jxz715RfAasVO8A|Brian  |2014-11-14 22:59:46|1              |1           |[]                |false   |null       |M      |0.9961136851429155|\n|--KQJPdrU0Md97DiOliDzw|Steve  |2006-01-17 19:00:28|166            |92          |[2009, 2010, 2011]|true    |2009       |M      |0.9962520787311673|\n|--Kwhcbkh7jxkhVVQZo2uQ|Larz   |2014-05-30 16:58:11|58             |92          |[]                |false   |null       |M      |1.0               |\n|--RJK834fiQXm21VpJp_nw|Renee  |2018-02-04 20:34:16|1              |1           |[]                |false   |null       |F      |0.9914025063516396|\n+----------------------+-------+-------------------+---------------+------------+------------------+--------+-----------+-------+------------------+\nonly showing top 20 rows\n\n"
     ]
    }
   ],
   "source": [
    "df_user_gender = spark.sql(\"\"\"\n",
    "SELECT U.*, \n",
    "       COALESCE(gender, 'Unknown') AS gender,\n",
    "       COALESCE(gender_ratio, 1.0) AS gender_ratio\n",
    "FROM users AS U LEFT OUTER JOIN ssa_gender_table AS G\n",
    "ON LOWER(U.name) = LOWER(G.name)\n",
    " \"\"\")\n",
    "print(f\"Record count: {df_user_gender.count()}\")\n",
    "df_user_gender.show(truncate=False)\n",
    "df_user_gender.createOrReplaceTempView(\"user_gender\")"
   ]
  },
  {
   "cell_type": "code",
   "execution_count": 0,
   "metadata": {
    "application/vnd.databricks.v1+cell": {
     "cellMetadata": {},
     "inputWidgets": {},
     "nuid": "8306ac59-1377-4b75-b4dc-aea31235da7f",
     "showTitle": false,
     "title": ""
    }
   },
   "outputs": [
    {
     "output_type": "stream",
     "name": "stdout",
     "output_type": "stream",
     "text": [
      "Saving the df_user_gender DataFrame as table: user_gender_table\n+------------+\n|record_count|\n+------------+\n|     1987897|\n+------------+\n\n+----------------------+---------+-------------------+---------------+------------+-----------+--------+-----------+------+------------------+\n|               user_id|     name|      yelping_since|reviews_written|friend_count|elite_years|is_elite|first_elite|gender|      gender_ratio|\n+----------------------+---------+-------------------+---------------+------------+-----------+--------+-----------+------+------------------+\n|---2PmXbF47D870stH1jqA|    Susan|2012-10-24 13:20:46|             36|         420|         []|   false|       null|     F|0.9977396781152311|\n|--1vcleKg-_ORilNx_RaDw| Michelle|2018-11-25 19:52:17|              3|          56|         []|   false|       null|     F| 0.996020560843788|\n|--1xed48O2w6o-TLqxScdQ|Elizabeth|2013-08-12 22:56:43|              3|           1|         []|   false|       null|     F|0.9968809772017858|\n|--5VfF9MeCYnNiGFp3BXpw|    Sarah|2013-10-22 23:21:35|              3|           1|         []|   false|       null|     F| 0.996940028408127|\n|--6hwTK_f75gUWmQyrIjXg|   Monica|2014-04-27 16:33:44|              4|           7|         []|   false|       null|     F|0.9960787598828814|\n|--8EvC9O7Ycim8vCP4Cj0w|     Lisa|2014-08-14 01:48:05|              5|          87|         []|   false|       null|     F|0.9971234204357909|\n|--8Y8seruJEgwgwznJGyZA|     Eric|2015-01-19 23:47:31|             12|         468|         []|   false|       null|     M|0.9951624407982141|\n|--AVaBo8pJHut43HjdWuOA|    Hoang|2011-11-07 01:16:44|              2|          31|         []|   false|       null|     M|0.9363295880149812|\n|--BWebRBrjDNpVvJNZBRyQ|    Kathy|2011-06-19 15:33:20|             64|          89|         []|   false|       null|     F|0.9977914587131287|\n|--CxEPvaxHHLhjqZEFYRgw|     Amri|2015-08-18 20:06:03|              1|           1|         []|   false|       null|     F|0.9477434679334917|\n+----------------------+---------+-------------------+---------------+------------+-----------+--------+-----------+------+------------------+\n\n"
     ]
    }
   ],
   "source": [
    "process_or_create_table(\"user_gender_table\", \"df_user_gender\", summary=True, delete=True)"
   ]
  },
  {
   "cell_type": "code",
   "execution_count": 0,
   "metadata": {
    "application/vnd.databricks.v1+cell": {
     "cellMetadata": {},
     "inputWidgets": {},
     "nuid": "521ff514-d44d-4add-9c19-134d3fca1365",
     "showTitle": false,
     "title": ""
    }
   },
   "outputs": [
    {
     "output_type": "stream",
     "name": "stdout",
     "output_type": "stream",
     "text": [
      "+-------+----------+----------------+---------------+\n| gender|user_count|elite_percentage|reviews_written|\n+-------+----------+----------------+---------------+\n|      F|   1033782|          0.0538|       24191050|\n|      M|    767910|          0.0398|       17785122|\n|Unknown|    186205|           0.027|        4529504|\n+-------+----------+----------------+---------------+\n\n"
     ]
    }
   ],
   "source": [
    "df_user_gender_viz = spark.sql(\"\"\"\n",
    "SELECT gender, \n",
    "       COUNT(user_id) AS user_count, \n",
    "       ROUND(COUNT(first_elite)/COUNT(gender),4) AS elite_percentage, \n",
    "       SUM(reviews_written) AS reviews_written\n",
    "FROM user_gender_table\n",
    "GROUP BY gender\n",
    "ORDER BY user_count DESC\n",
    "\"\"\")\n",
    "df_user_gender_viz.show()"
   ]
  },
  {
   "cell_type": "code",
   "execution_count": 0,
   "metadata": {
    "application/vnd.databricks.v1+cell": {
     "cellMetadata": {},
     "inputWidgets": {},
     "nuid": "d997d3d7-8e2c-4c89-abb0-44e070021168",
     "showTitle": false,
     "title": ""
    }
   },
   "outputs": [
    {
     "output_type": "display_data",
     "data": {
      "text/html": [
       "<style scoped>\n",
       "  .table-result-container {\n",
       "    max-height: 300px;\n",
       "    overflow: auto;\n",
       "  }\n",
       "  table, th, td {\n",
       "    border: 1px solid black;\n",
       "    border-collapse: collapse;\n",
       "  }\n",
       "  th, td {\n",
       "    padding: 5px;\n",
       "  }\n",
       "  th {\n",
       "    text-align: left;\n",
       "  }\n",
       "</style><div class='table-result-container'><table class='table-result'><thead style='background-color: white'><tr><th>gender</th><th>user_count</th><th>elite_percentage</th><th>reviews_written</th></tr></thead><tbody><tr><td>F</td><td>1033782</td><td>0.0538</td><td>24191050</td></tr><tr><td>M</td><td>767910</td><td>0.0398</td><td>17785122</td></tr><tr><td>Unknown</td><td>186205</td><td>0.027</td><td>4529504</td></tr></tbody></table></div>"
      ]
     },
     "metadata": {
      "application/vnd.databricks.v1+output": {
       "addedWidgets": {},
       "aggData": [],
       "aggError": "",
       "aggOverflow": false,
       "aggSchema": [],
       "aggSeriesLimitReached": false,
       "aggType": "",
       "arguments": {},
       "columnCustomDisplayInfos": {},
       "data": [
        [
         "F",
         1033782,
         0.0538,
         24191050
        ],
        [
         "M",
         767910,
         0.0398,
         17785122
        ],
        [
         "Unknown",
         186205,
         0.027,
         4529504
        ]
       ],
       "datasetInfos": [],
       "dbfsResultPath": null,
       "isJsonSchema": true,
       "metadata": {},
       "overflow": false,
       "plotOptions": {
        "customPlotOptions": {},
        "displayType": "table",
        "pivotAggregation": null,
        "pivotColumns": null,
        "xColumns": null,
        "yColumns": null
       },
       "removedWidgets": [],
       "schema": [
        {
         "metadata": "{}",
         "name": "gender",
         "type": "\"string\""
        },
        {
         "metadata": "{}",
         "name": "user_count",
         "type": "\"long\""
        },
        {
         "metadata": "{}",
         "name": "elite_percentage",
         "type": "\"double\""
        },
        {
         "metadata": "{}",
         "name": "reviews_written",
         "type": "\"long\""
        }
       ],
       "type": "table"
      }
     },
     "output_type": "display_data"
    },
    {
     "output_type": "display_data",
     "data": {
      "text/plain": [
       "Databricks visualization. Run in Databricks to view."
      ]
     },
     "metadata": {
      "application/vnd.databricks.v1.subcommand+json": {
       "bindings": {},
       "collapsed": false,
       "command": "# Add your chart using the display function\ndisplay(df_user_gender_viz)",
       "commandTitle": "Visualization 1",
       "commandType": "auto",
       "commandVersion": 0,
       "commentThread": [],
       "commentsVisible": false,
       "contentSha256Hex": null,
       "customPlotOptions": {
        "plotlyBar": [
         {
          "key": "grouped",
          "value": true
         },
         {
          "key": "stacked",
          "value": false
         },
         {
          "key": "100_stacked",
          "value": false
         }
        ]
       },
       "datasetPreviewNameToCmdIdMap": {},
       "diffDeletes": [],
       "diffInserts": [],
       "displayType": "plotlyBar",
       "error": null,
       "errorSummary": null,
       "errorTraceType": null,
       "finishTime": 0,
       "globalVars": {},
       "guid": "bb8af130-ee4f-4f3e-85d0-6414f37ae56b",
       "height": "auto",
       "hideCommandCode": false,
       "hideCommandResult": false,
       "iPythonMetadata": null,
       "inputWidgets": {},
       "isLockedInExamMode": false,
       "latestUser": "a user",
       "latestUserId": null,
       "listResultMetadata": null,
       "metadata": {},
       "nuid": "53189dea-0de7-484c-a70d-2d9042dc0e64",
       "origId": 358182106552271,
       "parentHierarchy": [
        "fa7ea39a-1a69-40d7-a61e-2dd42f0ce3ee"
       ],
       "pivotAggregation": "sum",
       "pivotColumns": [],
       "position": 22.99688720703125,
       "resultDbfsErrorMessage": null,
       "resultDbfsStatus": "INLINED_IN_TREE",
       "results": null,
       "showCommandTitle": false,
       "startTime": 0,
       "state": "finished",
       "streamStates": {},
       "subcommandOptions": null,
       "submitTime": 0,
       "subtype": "tableResultSubCmd.visualization",
       "tableResultIndex": 0,
       "useConsistentColors": false,
       "version": "CommandV1",
       "width": "auto",
       "workflows": [],
       "xColumns": [
        "gender"
       ],
       "yColumns": [
        "reviews_written",
        "user_count"
       ]
      }
     },
     "output_type": "display_data"
    }
   ],
   "source": [
    "display(df_user_gender_viz)"
   ]
  }
 ],
 "metadata": {
  "application/vnd.databricks.v1+notebook": {
   "dashboards": [],
   "language": "python",
   "notebookMetadata": {
    "pythonIndentUnit": 2
   },
   "notebookName": "Combining User and Gender Data",
   "widgets": {}
  }
 },
 "nbformat": 4,
 "nbformat_minor": 0
}
