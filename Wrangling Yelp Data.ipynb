{
 "cells": [
  {
   "cell_type": "code",
   "execution_count": 0,
   "metadata": {
    "application/vnd.databricks.v1+cell": {
     "cellMetadata": {},
     "inputWidgets": {},
     "nuid": "ddc6a0c1-bb96-4a38-8147-747b83854a58",
     "showTitle": false,
     "title": ""
    }
   },
   "outputs": [
    {
     "output_type": "stream",
     "name": "stdout",
     "output_type": "stream",
     "text": [
      "record count: 150346\n+--------------------+--------------------+--------------------+--------------------+----------------+--------------------+-------+-------------+---------------+--------------------+-----------+------------+-----+-----+\n|             address|          attributes|         business_id|          categories|            city|               hours|is_open|     latitude|      longitude|                name|postal_code|review_count|stars|state|\n+--------------------+--------------------+--------------------+--------------------+----------------+--------------------+-------+-------------+---------------+--------------------+-----------+------------+-----+-----+\n|1616 Chapala St, ...|{null, null, null...|Pns2l4eNsfO8kk83d...|Doctors, Traditio...|   Santa Barbara|                null|      0|   34.4266787|   -119.7111968|Abby Rappoport, L...|      93101|           7|  5.0|   CA|\n|87 Grasso Plaza S...|{null, null, null...|mpf3x-BjTdTEA3yCZ...|Shipping Centers,...|          Affton|{8:0-18:30, 0:0-0...|      1|    38.551126|     -90.335695|       The UPS Store|      63123|          15|  3.0|   MO|\n|5255 E Broadway Blvd|{null, null, null...|tUFrWirKiKi_TAnsV...|Department Stores...|          Tucson|{8:0-23:0, 8:0-22...|      0|    32.223236|    -110.880452|              Target|      85711|          22|  3.5|   AZ|\n|         935 Race St|{null, null, u'no...|MTSW4McQd7CbVtyjq...|Restaurants, Food...|    Philadelphia|{7:0-21:0, 7:0-20...|      1|   39.9555052|    -75.1555641|  St Honore Pastries|      19107|          80|  4.0|   PA|\n|       101 Walnut St|{null, null, null...|mWMc6_wTdE0EUBKIG...|Brewpubs, Breweri...|      Green Lane|{12:0-22:0, null,...|      1|   40.3381827|    -75.4716585|Perkiomen Valley ...|      18054|          13|  4.5|   PA|\n|       615 S Main St|{null, null, u'no...|CF33F8-E6oudUQ46H...|Burgers, Fast Foo...|    Ashland City|{9:0-0:0, 0:0-0:0...|      1|    36.269593|     -87.058943|      Sonic Drive-In|      37015|           6|  2.0|   TN|\n|8522 Eager Road, ...|{null, null, null...|n_0UpQx1hsNbnPUSl...|Sporting Goods, F...|       Brentwood|{10:0-18:0, 0:0-0...|      1|    38.627695|     -90.340465|     Famous Footwear|      63144|          13|  2.5|   MO|\n|  400 Pasadena Ave S|                null|qkRM_2X51Yqxk3btl...|Synagogues, Relig...|  St. Petersburg|{9:0-17:0, 9:0-17...|      1|     27.76659|     -82.732983|      Temple Beth-El|      33707|           5|  3.5|   FL|\n|   8025 Mackenzie Rd|{null, null, u'fu...|k0hlBqXX-Bt0vf1op...|Pubs, Restaurants...|          Affton|                null|      0|   38.5651648|    -90.3210868|Tsevi's Pub And G...|      63123|          19|  3.0|   MO|\n| 2312 Dickerson Pike|{null, null, u'no...|bBDDEgkFA1Otx9Lfe...|Ice Cream & Froze...|       Nashville|{6:0-16:0, 0:0-0:...|      1|   36.2081024|    -86.7681696|      Sonic Drive-In|      37207|          10|  1.5|   TN|\n|21705 Village Lak...|{null, null, null...|UJsufbvfyfONHeWdv...|Department Stores...|   Land O' Lakes|{9:30-21:30, 9:30...|      1|28.1904587953| -82.4573802199|           Marshalls|      34639|           6|  3.5|   FL|\n|                    |{null, null, 'non...|eEOYSgkmpB90uNA7l...|Vietnamese, Food,...|       Tampa Bay|{11:0-14:0, 11:0-...|      1|   27.9552692|    -82.4563199|Vietnamese Food T...|      33602|          10|  4.0|   FL|\n|        8901 US 31 S|{null, null, 'non...|il_Ro8jwPlHresjw9...|American (Traditi...|    Indianapolis|{6:0-22:0, 6:0-22...|      1|39.6371332838|  -86.127217412|             Denny's|      46227|          28|  2.5|   IN|\n|   15 N Missouri Ave|{null, null, null...|jaxMSoInw8Poo3XeM...|General Dentistry...|      Clearwater|{null, 7:30-15:30...|      1|    27.966235|     -82.787412|        Adams Dental|      33755|          10|  5.0|   FL|\n|       2575 E Bay Dr|{null, null, u'no...|0bPLkL0QhhPO5kt1_...|Food, Delis, Ital...|           Largo|{10:0-20:0, 10:0-...|      0|   27.9161159|    -82.7604608|Zio's Italian Market|      33771|         100|  4.5|   FL|\n|         205 Race St|{null, null, 'ful...|MUTTqe8uqyMdBl186...|Sushi Bars, Resta...|    Philadelphia|{13:30-23:0, null...|      1|    39.953949|    -75.1432262|            Tuna Bar|      19106|         245|  4.0|   PA|\n|     625 N Stone Ave|{null, null, null...|rBmpy_Y1UbBx8ggHl...|Automotive, Auto ...|          Tucson|{8:0-17:0, 0:0-0:...|      1|   32.2298719|   -110.9723419|Arizona Truck Out...|      85705|          10|  4.5|   AZ|\n|        712 Adams St|{null, null, null...|M0XSSHqrASOnhgbWD...|Vape Shops, Tobac...|     New Orleans|{10:0-19:0, 10:0-...|      1|29.9414679565|  -90.129952757|      Herb Import Co|      70118|           5|  4.0|   LA|\n|     1241 Airline Dr|                null|8wGISYjYkE2tSqn3c...|Automotive, Car R...|          Kenner|{8:0-17:0, 8:0-17...|      1|    29.981183|    -90.2540123|    Nifty Car Rental|      70062|          14|  3.5|   LA|\n|       1224 South St|{null, null, u'no...|ROeacJQwBeh05Rqg7...| Korean, Restaurants|    Philadelphia|{11:30-20:30, 11:...|      1|    39.943223|     -75.162568|                 BAP|      19147|         205|  4.5|   PA|\n| 10359 104 Street NW|{null, null, u'be...|WKMJwqnfZKsAae75R...|Coffee & Tea, Foo...|        Edmonton|{8:0-18:0, 8:0-18...|      0|   53.5460453|   -113.4991693|Roast Coffeehouse...|    T5J 1B9|          40|  4.0|   AB|\n|8675 River Crossi...|{null, null, null...|qhDdDeI3K4jy2Kyzw...|Shopping, Books, ...|    Indianapolis|{10:0-21:0, 10:0-...|      1|     39.91382|     -86.105739|Barnes & Noble Bo...|      46240|          38|  4.0|   IN|\n|      6625 E 82nd St|{null, null, null...|kfNv-JZpuN6TVNSO6...|Steakhouses, Asia...|    Indianapolis|{11:0-21:0, 11:0-...|      1|39.9043203184|    -86.0530799|     Hibachi Express|      46250|          20|  4.0|   IN|\n|  5505 S Virginia St|{null, null, 'ful...|9OG5YkX1g2GReZM0A...|Restaurants, Italian|            Reno|{11:0-21:0, 11:0-...|      1|   39.4761165|   -119.7893392|Romano's Macaroni...|      89502|         339|  2.5|   NV|\n|1160 Gallatin Pike S|{null, null, u'be...|4iRzR7OaS-QaSXuvY...|Hot Dogs, Restaur...|       Nashville|                null|      0|   36.2485696|    -86.7199857|           Super Dog|      37115|           6|  4.0|   TN|\n|       662 Durham Rd|                null|PSo_C1Sfa13JHjzVN...|Pet Services, Pet...|         Newtown|{8:0-17:0, 8:0-19...|      1|   40.2734926|     -74.987496|Indian Walk Veter...|      18940|          15|  5.0|   PA|\n|    827-833 State St|{null, null, null...|noByYNtDLQAra9ccq...|Women's Clothing,...|   Santa Barbara|{11:0-18:0, 11:0-...|      1|34.4202089255|-119.7004597389|                 H&M|      93101|          24|  3.0|   CA|\n|       215 1st Ave S|{null, null, u'fu...|tMkwHmWFUEXrC9Zdu...|Restaurants, Japa...|       Nashville|{16:0-23:0, null,...|      0|   36.1598858|    -86.7731974|  The Green Pheasant|      37201|         161|  4.0|   TN|\n|        767 S 9th St|{null, null, u'fu...|QdN72BWoyFypdGJhh...|Cocktail Bars, Ba...|    Philadelphia|{12:0-2:0, 16:0-0...|      0|39.9398245705| -75.1574465632|             Bar One|      19147|          65|  4.0|   PA|\n|   3001 Highway 31 W|{null, null, null...|sqSqqLy0sN8n2IZrA...|Pizza, Chicken Wi...|     White House|{10:0-1:0, 10:0-0...|      1|36.4647467622| -86.6591868908|      Domino's Pizza|      37188|           8|  3.5|   TN|\n| 1301 N Milwaukee St|{null, null, null...|fvWn8oXXwbj2l79co...|Trampoline Parks,...|           Boise|{10:0-22:0, 10:0-...|      1|   43.6167635|   -116.2853821|Altitude Trampoli...|      83704|          30|  5.0|   ID|\n|        4105 Main St|{null, null, u'no...|Mjboz24M9NlBeiOJK...|Pizza, Restaurant...|    Philadelphia|{17:0-0:30, null,...|      0|   40.0224662|     -75.218314|    DeSandro on Main|      19127|          41|  3.0|   PA|\n|  30 W Lancaster Ave|{null, null, null...|8sshLb4UU7emeUDvt...|Dance Wear, Sport...|           Paoli|{10:0-19:0, 0:0-0...|      1|40.0415845065| -75.4849526577|           DanceLine|      19301|          11|  4.5|   PA|\n|   10 Rittenhouse Pl|{null, null, u'no...|kV_Q1oqis8Qli8dUo...|  Pizza, Restaurants|         Ardmore|{11:0-1:0, 11:0-0...|      1|   40.0067071|     -75.289671|       Ardmore Pizza|      19003|         109|  3.5|   PA|\n|    100 Iberville St|{null, null, null...|w_AMNoI1iG9eay7nc...|Event Planning & ...|     New Orleans|                null|      1|    29.951359|    -90.0646715|           River 127|      70130|          12|  3.0|   LA|\n|  901 N Delaware Ave|{null, null, null...|aPNXGTDkf-4bjhyMB...|Eatertainment, Ar...|    Philadelphia|{16:0-19:0, 0:0-0...|      1|   39.9625821|    -75.1356571|          Craft Hall|      19123|          65|  3.5|   PA|\n|116 N Pottstown Pike|{null, null, u'fu...|2xVsWBNFwZOxIOdd9...|Restaurants, Burgers|           Exton|                null|      0|    40.029962|     -75.630607|Cheeseburger In P...|      19341|          20|  2.5|   PA|\n|   4735 Concord Pike|{null, null, null...|mGFsPRHdE6SMV1gYQ...|Mobile Phones, Te...|      Wilmington|{10:0-20:0, 0:0-0...|      1|    39.822176|     -75.546007|            T-Mobile|      19803|           6|  2.0|   DE|\n|     722 Holyoake Rd|{null, null, null...|LcAozWCMLGjwRboka...|Museums, Kids Act...|    Edwardsville|{9:30-17:30, 10:0...|      1|   38.8043945|    -89.9497332|Edwardsville Chil...|      62025|          12|  4.5|   IL|\n|                    |{null, null, null...|fSCNwMtNNQY9QT69C...|Musicians, DJs, K...|          Sparks|{9:0-17:0, 9:0-17...|      1|   39.5401545|   -119.7483949|   Sierra Pro Events|      89431|           7|  5.0|   NV|\n|      5324 W 16th St|{null, null, null...|x1mhq4IpWctQOBM06...|Hair Salons, Hair...|    Indianapolis|{9:0-18:0, 9:0-18...|      1|39.7874644177|    -86.2514209|Diamond Hair Company|      46224|          25|  1.5|   IN|\n|        312 Piasa St|{null, null, u'fu...|ljxNT9p0y7YMPx0fc...|Restaurants, Spec...|           Alton|{16:0-22:0, 0:0-0...|      1|    38.896563| -90.1862032987|Tony's Restaurant...|      62002|          94|  3.0|   IL|\n|  532 Rte 70 W, Fl 2|                null|lwItZ1Ck3KtpCgG4C...|DUI Law, Professi...|     Cherry Hill|{0:0-0:0, 0:0-0:0...|      1|    39.915478|     -75.016973|Stomel Elliot Att...|      08002|           5|  5.0|   NJ|\n|2 Bala Plz, Ste P...|{False, null, nul...|Kq51_lGAgAigqmENI...|Health & Medical,...|     Bala Cynwyd|{null, 0:0-0:0, n...|      1|     40.00687|     -75.217262|  Bala Better Health|      19004|          13|  4.0|   PA|\n| 1014 Baltimore Pike|{null, null, null...|mglME3E7esPSpIF5b...|Fashion, Shopping...|     Springfield|{10:0-21:0, 10:0-...|      0|39.9152704301| -75.3426812589|              Pier 1|      19064|           8|  2.5|   PA|\n|1625 W Valencia R...|{null, null, 'bee...|wghnIlMb_i5U46HMB...|Restaurants, Chinese|          Tucson|{11:0-21:0, 11:0-...|      0|   32.1323047|   -110.9999851|China Dragon Rest...|      85746|          23|  3.0|   AZ|\n|10303  108 Street NW|{null, null, u'no...|JX4tUpd09YFchLBuI...|Arts & Entertainm...|        Edmonton|{11:0-1:0, 11:0-1...|      1|   53.5446819|    -113.506589|Naked Cyber Cafe ...|    T5J 1L7|          12|  4.0|   AB|\n|       2031 Broadway|{null, null, u'be...|lk9IwjZXqUMqqOhM7...|Coffee & Tea, Res...|       Nashville|{7:0-17:0, 7:0-17...|      0|   36.1483712|    -86.7988947|    Caviar & Bananas|      37203|         159|  3.5|   TN|\n|5343 Belleville C...|{null, null, null...|bCBPXIVfVzBZBEpFu...|Shipping Centers,...|      Belleville|                null|      1|   38.5175856|    -90.0219285|     All In Shipping|      62226|           5|  5.0|   IL|\n|    201 Jefferson St|{null, null, null...|ABxoFuzZy5mqQ8C5F...|Restaurants, Italian|     Bala Cynwyd|{15:0-20:30, null...|      1|   40.0283575|    -75.2380841|        Core de Roma|      19004|          12|  5.0|   PA|\n|    203 - 38th Ave N|{null, null, null...|Hwt3_mOEmU-t--ywc...|Active Life, Fitn...|  St. Petersburg|{0:0-21:0, 5:0-0:...|      0|   27.8083394|    -82.6361678|          Gold's Gym|      33704|          17|  3.0|   FL|\n|                    |                null|REwfwz-_-CMQ7Np5U...|Real Estate Agent...|          Carmel|                null|      1|      39.9693|    -86.1650024|      Jennie Deckert|      46032|           7|  5.0|   IN|\n|11642 104 Avenue,...|{null, null, null...|5BmQX4UVJY19mMtaf...|Specialty Food, B...|        Edmonton|{9:0-18:0, 9:0-18...|      1|    53.547205|    -113.522448|Breadland Organic...|    T5K 2T7|          23|  4.0|   AB|\n|    10588 109 Street|{null, null, u'no...|cVBxfMC4lp3DnocjY...|Coffee & Tea, Caf...|        Edmonton|{10:0-20:0, 0:0-0...|      0|   53.5496333|   -113.5087799|   Paws The Cat Cafe|    T5H 3B2|          20|  5.0|   AB|\n|    2815 E Sligh Ave|{null, null, null...|0qNpTGTcqPwOLi2hA...|Food, Grocery, Co...|           Tampa|                null|      1|   28.0103596|    -82.4300416|    Charlie's Market|      33610|           9|  3.0|   FL|\n|719 E Baltimore Pike|{null, null, null...|xM6LoUcnpDpMBzXs_...|Hotels, Hotels & ...|  Kennett Square|                null|      1|39.8562475317| -75.6946098804|Fairfield Inn & S...|      19348|          37|  3.0|   PA|\n|1070 E Tucson Mar...|{null, null, null...|txyXRytGjwOXvS8s4...|Vitamins & Supple...|          Tucson|{7:0-19:0, 0:0-0:...|      1|    32.186794|    -110.954765|       Smoothie King|      85713|          29|  3.0|   AZ|\n|1150 Plymouth Mee...|{null, null, null...|DQ7PyYlp2bX96WZa7...|Ophthalmologists,...|Plymouth Meeting|{10:0-21:0, 10:0-...|      1|   40.1161788|    -75.2825254|        LensCrafters|      19462|           8|  2.5|   PA|\n|10440 N Dale Mabr...|{null, null, u'fu...|uI9XODGY_2_ieTE6x...|Restaurants, Amer...|           Tampa|{11:30-22:0, 11:3...|      0|28.0462028173| -82.5050526736|         Roman Forum|      33618|          23|  4.0|   FL|\n|2038 N Dale Mabry...|{null, null, u'be...|JgpnXv_0XhV3SfbfB...|  Restaurants, Pizza|           Tampa|{11:0-3:0, 11:0-2...|      0|   27.9605142|     -82.506127|         Joe's Pizza|      33607|          35|  4.0|   FL|\n|   1700 Lapalco Blvd|{null, null, 'ful...|Si6LXSR9gvAbmgO5D...|Restaurants, Soup...|          Harvey|{11:0-22:0, 11:0-...|      0|29.8754822266|      -90.04938|Lafitte's Landing...|      70058|          38|  2.5|   LA|\n|      6880 E 82nd St|{null, null, 'ful...|seKihQKpGGnCeLuEL...|Sports Bars, Amer...|    Indianapolis|{11:0-19:0, 0:0-0...|      1|   39.9062952|    -86.0474634|          Twin Peaks|      46250|         257|  3.5|   IN|\n|838 Broad Ripple Ave|{null, null, u'no...|L_TT0BFmFwORAMaA8...|Gastropubs, Cockt...|    Indianapolis|                null|      0|   39.8699114|    -86.1435773|    Village Tap Room|      46220|          23|  2.5|   IN|\n|3904 W Hillsborou...|{null, null, null...|mjWvAkNqoA6Y5P03s...|  Uniforms, Shopping|           Tampa|                null|      1|27.9954501644|    -82.5081187|Educational Outfi...|      33614|          10|  2.0|   FL|\n|        117 E Gay St|{null, null, u'fu...|qfWJmJ0g96eM_fWma...|Seafood, Restaura...|    West Chester|                null|      0|   39.9615417|    -75.6036042|Doc Magrogan's Oy...|      19380|         114|  3.0|   PA|\n|     723 St Peter St|{null, null, null...|uczmbBk5O3tYhGue1...|Hotels & Travel, ...|     New Orleans|{10:0-20:0, 0:0-0...|      1|    29.958431|     -90.065173|New Orleans Spiri...|      70130|          38|  4.0|   LA|\n|                    |{null, null, null...|n7AQvGvNHlmun3kqX...|Local Services, A...|        Meridian|{8:30-15:0, 0:0-0...|      1|   43.6434944|   -116.4360004|Roy's Appliance S...|      83646|           5|  5.0|   ID|\n|     4158 E Grant Rd|                null|eYxGFkxo6m3SYGVTh...|Towing, Hotels & ...|          Tucson|{8:30-18:0, 8:30-...|      1|   32.2503237|   -110.9036553|Big Boyz Toyz Mot...|      85712|           8|  4.5|   AZ|\n|      2288 W 86th St|{null, null, null...|lOP3HxdUTaq0eXhwR...|Chocolatiers & Sh...|    Indianapolis|{10:0-18:0, 10:0-...|      1|    39.913292|      -86.20083|Sweet Things Choc...|      46260|          13|  4.0|   IN|\n|     12101 Little Rd|{null, null, null...|KWA2qtdwVEkMpd5so...|       Food, Grocery|          Hudson|                null|      0|   28.3326007|    -82.6681066| Publix Super Market|      34667|           7|  3.5|   FL|\n|       Truck Inn Way|{null, null, 'ful...|gbN4RuUiiBxQ2GBFQ...|   Food Trucks, Food|         Fernley|                null|      1|39.5139704538|-119.8472038094|       Mr. Margarita|      89408|           7|  5.0|   NV|\n|4011 Hillsboro Pi...|{null, null, null...|B2qqjCl_BNNnXvWWf...|Shopping, Baby Ge...|       Nashville|{10:0-20:0, 0:0-0...|      1|   36.1036135|    -86.8162678|   Pottery Barn Kids|      37215|          13|  1.5|   TN|\n|                    |                null|7PDi_iyik3jraDAzW...|Banks & Credit Un...|      Wilmington|                null|      1|    39.749361|     -75.643331|Chase JP Morgan B...|      19850|         111|  1.5|   DE|\n|820 N Black Horse...|{null, null, u'fu...|8rb-3VYXE37IZix4y...|American (Traditi...|    Williamstown|                null|      1|   39.6968014|    -74.9998214|Sharky's Sports B...|      08094|          29|  2.5|   NJ|\n|     9101 Belcher Rd|{null, null, null...|9Rww8yE6Dm4dSMEq0...|Health & Medical,...|   Pinellas Park|{9:30-19:0, null,...|      1|27.8553467494| -82.7363080904|   Holly Nails & Spa|      33782|          16|  4.5|   FL|\n|  110 S MacDade Blvd|{null, null, u'fu...|aCDY7vXYMs54EbYuQ...|American (Traditi...|       Glenolden|{11:0-2:0, 0:0-0:...|      1|39.9036968861| -75.2949812448|39 North Taproom ...|      19036|          25|  4.5|   PA|\n|3021 Grays Ferry Ave|{null, null, null...|-4dYswJy7SPcbcERv...|       Food, Grocery|    Philadelphia|{6:0-1:0, 6:0-1:0...|      0|   39.9404026|    -75.1932966|            Pathmark|      19146|          34|  2.5|   PA|\n|   5203 99 Street NW|{null, null, null...|mFTaYsRDyeFaY2NDL...|Tabletop Games, S...|        Edmonton|{10:0-18:0, 10:0-...|      1|53.4893123495|-113.4855665582|    River City Games|    T6E 5B7|           5|  4.5|   AB|\n|7401 N La Cholla ...|{null, null, u'fu...|x9K0RfZaT_zlw6Dkl...|Italian, Restaurants|          Tucson|                null|      0|    32.221667|    -110.925833|Gavi Italian Rest...|      85707|           9|  3.5|   AZ|\n|3173 Cypress Ridg...|{null, null, u'fu...|pJfh3Ct8iL58NZa8t...|Burgers, Sports B...|   Wesley Chapel|{11:30-23:30, 11:...|      1|28.1962523878| -82.3806153496|Top Shelf Sports ...|      33544|          95|  4.5|   FL|\n|           1 Park Dr|{null, null, null...|cvP_vh_bOLbCY3eoY...|Festivals, Arts &...|         Fishers|                null|      0|    39.958734|     -86.016966|Fishers Freedom F...|      46038|           7|  4.5|   IN|\n|      5133 E 65th St|{null, null, 'bee...|7clCBgNbd-x2Wj96l...|Food, Beer, Wine ...|    Indianapolis|{13:0-21:0, null,...|      1|   39.8755319|    -86.0828565|Bier Brewery and ...|      46220|         139|  4.5|   IN|\n|    3604 Chestnut St|{null, null, u'no...|ppFCk9aQkM338Rgwp...|Restaurants, Auto...|    Philadelphia|{0:0-0:0, 0:0-0:0...|      1|    39.954573|    -75.1948936|                Wawa|      19104|          56|  3.0|   PA|\n|2501 Mt Holly Rd 245|{null, null, null...|NZ_bFJma7brQUfln5...|Restaurants, Japa...|      Burlington|                null|      0|   40.0416285|    -74.8258209| Super Sushi Kyo Hin|      08016|           6|  3.5|   NJ|\n|  8540 Bustleton Ave|{null, null, null...|eMjnw_7wp-CscyNh6...|Keys & Locksmiths...|    Philadelphia|{6:0-3:0, 6:0-3:0...|      1|40.0723302045| -75.0484833435|     AM&PM Locksmith|      19152|          58|  4.5|   PA|\n|131 Anacapa St, S...|{null, null, u'no...|IDtLPgUrqorrpqSLd...|Food, Restaurants...|   Santa Barbara|{8:0-14:0, 0:0-0:...|      1|   34.4144445|   -119.6906718|Helena Avenue Bakery|      93101|         389|  4.0|   CA|\n|   820 Industrial Dr|                null|sE6jSnvMts_MAn-b4...|Pet Groomers, Pet...|            Troy|{8:0-16:0, 8:0-16...|      1|   38.7162443|    -89.8858296|      K-9 Groom Room|      62294|           5|  4.0|   IL|\n|     1001 Poydras St|{null, null, u'fu...|YNjyv0gfOr2g8lbmU...|Nightlife, Pubs, ...|     New Orleans|{11:0-23:0, 0:0-0...|      1|29.9506467229| -90.0744274301|         Copper Vine|      70112|         350|  4.5|   LA|\n|        114 N 3rd St|{null, null, null...|LhpPSrulqVeTyJeK2...|Juice Bars & Smoo...|          Camden|{9:0-18:0, 9:0-18...|      1|   39.9466899|     -75.123327|Fresh Fruits & Sa...|      08102|           6|  4.5|   NJ|\n|       129 2nd Ave N|{null, null, u'no...|oaboaRBUgGjbo2kfU...|Ice Cream & Froze...|       Nashville|{8:0-0:0, 8:0-23:...|      1|   36.1626492|    -86.7759733|    Mike's Ice Cream|      37201|         593|  4.5|   TN|\n|    5789 E US Hwy 40|{null, null, null...|-ZXYcCyDjj1QimnJy...|Home Decor, Shopp...|      Plainfield|{10:0-17:0, 10:0-...|      1|39.6949931921| -86.4230714504|Gilley's Antique ...|      46168|          24|  4.5|   IN|\n|      825 Cacique St|{null, null, null...|nUqrF-h9S7myCcvND...|Towing, Automotiv...|   Santa Barbara|{8:0-17:0, 0:0-0:...|      1|   34.4196198|   -119.6770319|Iron Horse Auto Body|      93103|          32|  4.5|   CA|\n|5624 E Washington St|{null, null, null...|vR9_bhoszcpXbB_AP...|Fashion, Shopping...|    Indianapolis|{11:0-17:0, 11:0-...|      1|39.7709745063| -86.0711718384|          James Dant|      46219|          31|  5.0|   IN|\n|                    |{null, null, null...|RK6-cJ9hj53RzOlCB...|Restaurants, Ital...|           Tampa|{0:0-0:0, 0:0-0:0...|      1|    27.890814|    -82.5023464|             Impasto|      33611|           5|  5.0|   FL|\n|     1153 Byberry Rd|{null, null, null...|ZM46RDLXaFNo_z6t-...|Masonry/Concrete,...|        Bensalem|{7:0-17:0, 7:0-17...|      1|   40.1131212|    -74.9145975|Absolutely Perfec...|      19020|           5|  3.5|   PA|\n|     2650 S Big Bend|{null, null, null...|pEm4xNCk8d0TF6A1g...|Karaoke, DJs, Eve...|       Maplewood|{9:0-17:0, 9:0-17...|      1|   38.6135761|    -90.3223828|             TKO DJs|      63143|          17|  3.5|   MO|\n|      600 Decatur St|{null, null, null...|J_ksUDPpzPwfTGtI4...|Event Planning & ...|     New Orleans|{9:0-16:0, 9:0-16...|      1|   29.9559253|    -90.0629624|      Riverview Room|      70130|           7|  4.5|   LA|\n|5191 Meadowood Ma...|{null, null, u'no...|knQ4vIgx-r85kjlWV...|Sporting Goods, S...|            Reno|{10:0-21:0, 0:0-0...|      1|    39.476518|   -119.7840369|Silver and Blue O...|      89502|           5|  4.5|   NV|\n|3363 E Presidenti...|                null|U2Tzy6J9aAAg9pzXs...|Real Estate, Home...|        Meridian|{0:0-0:0, 0:0-0:0...|      1|   43.6141936|   -116.3525001|Premier Mortgage ...|      83642|           6|  5.0|   ID|\n|       1931 Park Ave|{null, null, u'fu...|1MeIwdbTnZOBFCKOr...|American (New), R...|     Saint Louis|{16:0-22:0, 11:0-...|      0|   38.6172724|    -90.2127841|Ricardo's Italian...|      63104|          80|  3.5|   MO|\n+--------------------+--------------------+--------------------+--------------------+----------------+--------------------+-------+-------------+---------------+--------------------+-----------+------------+-----+-----+\nonly showing top 100 rows\n\nroot\n |-- address: string (nullable = true)\n |-- attributes: struct (nullable = true)\n |    |-- AcceptsInsurance: string (nullable = true)\n |    |-- AgesAllowed: string (nullable = true)\n |    |-- Alcohol: string (nullable = true)\n |    |-- Ambience: string (nullable = true)\n |    |-- BYOB: string (nullable = true)\n |    |-- BYOBCorkage: string (nullable = true)\n |    |-- BestNights: string (nullable = true)\n |    |-- BikeParking: string (nullable = true)\n |    |-- BusinessAcceptsBitcoin: string (nullable = true)\n |    |-- BusinessAcceptsCreditCards: string (nullable = true)\n |    |-- BusinessParking: string (nullable = true)\n |    |-- ByAppointmentOnly: string (nullable = true)\n |    |-- Caters: string (nullable = true)\n |    |-- CoatCheck: string (nullable = true)\n |    |-- Corkage: string (nullable = true)\n |    |-- DietaryRestrictions: string (nullable = true)\n |    |-- DogsAllowed: string (nullable = true)\n |    |-- DriveThru: string (nullable = true)\n |    |-- GoodForDancing: string (nullable = true)\n |    |-- GoodForKids: string (nullable = true)\n |    |-- GoodForMeal: string (nullable = true)\n |    |-- HairSpecializesIn: string (nullable = true)\n |    |-- HappyHour: string (nullable = true)\n |    |-- HasTV: string (nullable = true)\n |    |-- Music: string (nullable = true)\n |    |-- NoiseLevel: string (nullable = true)\n |    |-- Open24Hours: string (nullable = true)\n |    |-- OutdoorSeating: string (nullable = true)\n |    |-- RestaurantsAttire: string (nullable = true)\n |    |-- RestaurantsCounterService: string (nullable = true)\n |    |-- RestaurantsDelivery: string (nullable = true)\n |    |-- RestaurantsGoodForGroups: string (nullable = true)\n |    |-- RestaurantsPriceRange2: string (nullable = true)\n |    |-- RestaurantsReservations: string (nullable = true)\n |    |-- RestaurantsTableService: string (nullable = true)\n |    |-- RestaurantsTakeOut: string (nullable = true)\n |    |-- Smoking: string (nullable = true)\n |    |-- WheelchairAccessible: string (nullable = true)\n |    |-- WiFi: string (nullable = true)\n |-- business_id: string (nullable = true)\n |-- categories: string (nullable = true)\n |-- city: string (nullable = true)\n |-- hours: struct (nullable = true)\n |    |-- Friday: string (nullable = true)\n |    |-- Monday: string (nullable = true)\n |    |-- Saturday: string (nullable = true)\n |    |-- Sunday: string (nullable = true)\n |    |-- Thursday: string (nullable = true)\n |    |-- Tuesday: string (nullable = true)\n |    |-- Wednesday: string (nullable = true)\n |-- is_open: long (nullable = true)\n |-- latitude: double (nullable = true)\n |-- longitude: double (nullable = true)\n |-- name: string (nullable = true)\n |-- postal_code: string (nullable = true)\n |-- review_count: long (nullable = true)\n |-- stars: double (nullable = true)\n |-- state: string (nullable = true)\n\n"
     ]
    }
   ],
   "source": [
    "df_business_data = spark.read.json('/yelp/business.bz2')\n",
    "\n",
    "print (\"record count:\", df_business_data.count() )\n",
    "df_business_data.show(100)\n",
    "df_business_data.printSchema()\n",
    "\n",
    "df_business_data.createOrReplaceTempView(\"business_data\")"
   ]
  },
  {
   "cell_type": "code",
   "execution_count": 0,
   "metadata": {
    "application/vnd.databricks.v1+cell": {
     "cellMetadata": {},
     "inputWidgets": {},
     "nuid": "58b4550b-d75c-4759-9414-fce378cb9fe4",
     "showTitle": false,
     "title": ""
    }
   },
   "outputs": [
    {
     "output_type": "stream",
     "name": "stdout",
     "output_type": "stream",
     "text": [
      "record count: 150346\n+----------------------+----------------------+----------------------+-----+--------------+------------+\n|           business_id|                  name|            categories|state|          city|review_count|\n+----------------------+----------------------+----------------------+-----+--------------+------------+\n|Pns2l4eNsfO8kk83dixA6A|Abby Rappoport, LAC...|Doctors, Traditiona...|   CA| Santa Barbara|           7|\n|mpf3x-BjTdTEA3yCZrAYPw|         The UPS Store|Shipping Centers, L...|   MO|        Affton|          15|\n|tUFrWirKiKi_TAnsVWINQQ|                Target|Department Stores, ...|   AZ|        Tucson|          22|\n|MTSW4McQd7CbVtyjqoe9mw|    St Honore Pastries|Restaurants, Food, ...|   PA|  Philadelphia|          80|\n|mWMc6_wTdE0EUBKIGXDVfA|Perkiomen Valley Br...|Brewpubs, Breweries...|   PA|    Green Lane|          13|\n|CF33F8-E6oudUQ46HnavjQ|        Sonic Drive-In|Burgers, Fast Food,...|   TN|  Ashland City|           6|\n|n_0UpQx1hsNbnPUSlodU8w|       Famous Footwear|Sporting Goods, Fas...|   MO|     Brentwood|          13|\n|qkRM_2X51Yqxk3btlwAQIg|        Temple Beth-El|Synagogues, Religio...|   FL|St. Petersburg|           5|\n|k0hlBqXX-Bt0vf1op7Jr1w| Tsevi's Pub And Grill|Pubs, Restaurants, ...|   MO|        Affton|          19|\n|bBDDEgkFA1Otx9Lfe7BZUQ|        Sonic Drive-In|Ice Cream & Frozen ...|   TN|     Nashville|          10|\n|UJsufbvfyfONHeWdvAHKjA|             Marshalls|Department Stores, ...|   FL| Land O' Lakes|           6|\n|eEOYSgkmpB90uNA7lDOMRA| Vietnamese Food Truck|Vietnamese, Food, R...|   FL|     Tampa Bay|          10|\n|il_Ro8jwPlHresjw9EGmBg|               Denny's|American (Tradition...|   IN|  Indianapolis|          28|\n|jaxMSoInw8Poo3XeMJt8lQ|          Adams Dental|General Dentistry, ...|   FL|    Clearwater|          10|\n|0bPLkL0QhhPO5kt1_EXmNQ|  Zio's Italian Market|Food, Delis, Italia...|   FL|         Largo|         100|\n|MUTTqe8uqyMdBl186RmNeA|              Tuna Bar|Sushi Bars, Restaur...|   PA|  Philadelphia|         245|\n|rBmpy_Y1UbBx8ggHlyb7hA|Arizona Truck Outfi...|Automotive, Auto Pa...|   AZ|        Tucson|          10|\n|M0XSSHqrASOnhgbWDJIpQA|        Herb Import Co|Vape Shops, Tobacco...|   LA|   New Orleans|           5|\n|8wGISYjYkE2tSqn3cDMu8A|      Nifty Car Rental|Automotive, Car Ren...|   LA|        Kenner|          14|\n|ROeacJQwBeh05Rqg7F6TCg|                   BAP|   Korean, Restaurants|   PA|  Philadelphia|         205|\n+----------------------+----------------------+----------------------+-----+--------------+------------+\nonly showing top 20 rows\n\n"
     ]
    }
   ],
   "source": [
    "df_business = spark.sql(\"\"\"\n",
    "SELECT business_id, name, categories, state, city, review_count\n",
    "FROM business_data\n",
    "\"\"\")\n",
    "print (\"record count:\", df_business.count() )\n",
    "df_business.show(truncate=22)\n",
    "df_business.createOrReplaceTempView(\"business\")"
   ]
  },
  {
   "cell_type": "code",
   "execution_count": 0,
   "metadata": {
    "application/vnd.databricks.v1+cell": {
     "cellMetadata": {},
     "inputWidgets": {},
     "nuid": "83a0919d-2191-4a4f-9191-ea5fab652684",
     "showTitle": false,
     "title": ""
    }
   },
   "outputs": [
    {
     "output_type": "stream",
     "name": "stdout",
     "output_type": "stream",
     "text": [
      "Number of records: 150346\n+----------------------+------------+-----+\n|business_id           |metro_area  |State|\n+----------------------+------------+-----+\n|meTyTAo18ulbEu5appPu3w|Indianapolis|IN   |\n|9Mym57cM01EBl2x3h-Ei5Q|Indianapolis|IN   |\n|OsacYNC8NUZfGyuYVgyKng|Indianapolis|IN   |\n|w7ZyGU1CIIlsb9_xJwbmXg|Indianapolis|IN   |\n|MRHTYIU6-jiziTPm1jFP5w|Indianapolis|IN   |\n|Lpzofxs_5GdRKIfvFcjTjg|Indianapolis|IN   |\n|bBPrDU0lA1vgiQOlDhzuWw|Indianapolis|IN   |\n|Jtd9i4DlCO6JNcYzNiBL9g|Indianapolis|IN   |\n|z2dibYvPufc8UAGWuVZxJQ|Indianapolis|IN   |\n|h0vWIv3xMQQ4L_fYbWAK7Q|Indianapolis|IN   |\n|j4S77MajsNN7HV-Ei0YGMg|Indianapolis|IN   |\n|cIQv2GqyFLjmGqd6eyvxRQ|Indianapolis|IN   |\n|_QAMST-NrQobXduilWEqSw|Indianapolis|IN   |\n|3KF-DmXMqnttG5jwe7gXqg|Indianapolis|IN   |\n|lCUQ9mpHAHXms53OsgSb0A|Indianapolis|IN   |\n|ulWjI6RDPgSusXZEQlZrGA|Indianapolis|IN   |\n|jDL99IpiZWPS8ubQQBjtgg|Indianapolis|IN   |\n|iAEEhbfvqlPaITFn1jJy1w|Indianapolis|IN   |\n|F79qEV3ulKtZrBeENRi0PA|Indianapolis|IN   |\n|asG2hPqUb0lXLksCE6iaBA|Indianapolis|IN   |\n+----------------------+------------+-----+\nonly showing top 20 rows\n\nroot\n |-- business_id: string (nullable = true)\n |-- metro_area: string (nullable = true)\n |-- State: string (nullable = true)\n\n"
     ]
    }
   ],
   "source": [
    "df_metro_areas = spark.read.option(\"header\",\"true\").\\\n",
    "                            option(\"inferSchema\",\"true\").\\\n",
    "csv(\"/yelp/metro_areas.csv\").\\\n",
    "withColumnRenamed(\"Business Id\",\"business_id\").\\\n",
    "withColumnRenamed(\"Metro Area\",\"metro_area\")\n",
    "\n",
    "print(\"Number of records:\", df_metro_areas.count() )\n",
    "df_metro_areas.show(truncate=False)\n",
    "df_metro_areas.printSchema()\n",
    "df_metro_areas.createOrReplaceTempView(\"metro_areas\")"
   ]
  },
  {
   "cell_type": "code",
   "execution_count": 0,
   "metadata": {
    "application/vnd.databricks.v1+cell": {
     "cellMetadata": {},
     "inputWidgets": {},
     "nuid": "e3914bb6-d76b-41e9-a12e-82b147ef5579",
     "showTitle": false,
     "title": ""
    }
   },
   "outputs": [
    {
     "output_type": "stream",
     "name": "stdout",
     "output_type": "stream",
     "text": [
      "Number of records: 150346\n+--------------------+--------------------+--------------------+-----+------------+------------+------------+\n|         business_id|                name|          categories|state|        city|review_count|  metro_area|\n+--------------------+--------------------+--------------------+-----+------------+------------+------------+\n|meTyTAo18ulbEu5ap...|Meineke Car Care ...|Oil Change Statio...|   IN|Indianapolis|           8|Indianapolis|\n|9Mym57cM01EBl2x3h...|Elite Beverages No 2|Food, Beer, Wine ...|   IN|Indianapolis|           8|Indianapolis|\n|OsacYNC8NUZfGyuYV...|Salamone Bros Gou...|Restaurants, Sand...|   IN|Indianapolis|           8|Indianapolis|\n|w7ZyGU1CIIlsb9_xJ...|         Spa & Nails|Day Spas, Beauty ...|   IN|Indianapolis|           8|Indianapolis|\n|MRHTYIU6-jiziTPm1...|      Whitson Vision|Shopping, Doctors...|   IN|Indianapolis|           8|Indianapolis|\n|Lpzofxs_5GdRKIfvF...|           Hangar 58|Chicken Wings, Am...|   IN|Indianapolis|           8|Indianapolis|\n|bBPrDU0lA1vgiQOlD...|          McDonald's|Fast Food, Coffee...|   IN|Indianapolis|           8|Indianapolis|\n|Jtd9i4DlCO6JNcYzN...|AAMCO Transmissio...|Automotive, Oil C...|   IN|Indianapolis|           8|Indianapolis|\n|z2dibYvPufc8UAGWu...|        Classy Nails|Beauty & Spas, Na...|   IN|Indianapolis|           8|Indianapolis|\n|h0vWIv3xMQQ4L_fYb...|          Five below|Discount Store, S...|   IN|Indianapolis|           8|Indianapolis|\n|j4S77MajsNN7HV-Ei...|              Arby's|Sandwiches, Burge...|   IN|Indianapolis|           8|Indianapolis|\n|cIQv2GqyFLjmGqd6e...|Phantom Fireworks...| Shopping, Fireworks|   IN|Indianapolis|           8|Indianapolis|\n|_QAMST-NrQobXduil...|   Claire's Boutique|Shopping, Jewelry...|   IN|Indianapolis|           8|Indianapolis|\n|3KF-DmXMqnttG5jwe...|        Jump Laundry|Local Services, L...|   IN|Indianapolis|           8|Indianapolis|\n|lCUQ9mpHAHXms53Os...|Mooresville Auto ...|Auto Repair, Auto...|   IN| Mooresville|           8|Indianapolis|\n|ulWjI6RDPgSusXZEQ...|              Arby's|Fast Food, Sandwi...|   IN| Mooresville|           8|Indianapolis|\n|jDL99IpiZWPS8ubQQ...|The Dermatology C...|Dermatologists, S...|   IN|  Plainfield|           8|Indianapolis|\n|iAEEhbfvqlPaITFn1...|       The UPS Store|Graphic Design, P...|   IN|  Plainfield|           8|Indianapolis|\n|F79qEV3ulKtZrBeEN...|             TJ Maxx|Fashion, Departme...|   IN|    Speedway|           8|Indianapolis|\n|asG2hPqUb0lXLksCE...|Zionsville Animal...|Pet Cremation Ser...|   IN|  Zionsville|           8|Indianapolis|\n+--------------------+--------------------+--------------------+-----+------------+------------+------------+\nonly showing top 20 rows\n\n"
     ]
    }
   ],
   "source": [
    "df_metro_business = spark.sql(\"\"\"\n",
    "SELECT B.*, metro_area\n",
    "FROM business AS B INNER JOIN metro_areas AS M ON B.business_id = M.business_id\n",
    "\"\"\")\n",
    "print(\"Number of records:\", df_metro_business.count() )\n",
    "df_metro_business.show()\n",
    "df_metro_business.createOrReplaceTempView(\"metro_business\")"
   ]
  },
  {
   "cell_type": "code",
   "execution_count": 0,
   "metadata": {
    "application/vnd.databricks.v1+cell": {
     "cellMetadata": {},
     "inputWidgets": {},
     "nuid": "b021351f-1a54-4772-8ebe-de132f6e3f62",
     "showTitle": false,
     "title": ""
    }
   },
   "outputs": [
    {
     "output_type": "stream",
     "name": "stdout",
     "output_type": "stream",
     "text": [
      "number of categories: 1565\n+------------------+--------------------+-----------------+---------------+-------------------+\n|             alias|   country_blacklist|country_whitelist|        parents|              title|\n+------------------+--------------------+-----------------+---------------+-------------------+\n|        3dprinting|                null|             null|[localservices]|        3D Printing|\n|         abruzzese|                null|             [IT]|      [italian]|          Abruzzese|\n|      absinthebars|                null|             [CZ]|         [bars]|      Absinthe Bars|\n|         acaibowls|[IT, AR, TR, CL, ...|             null|         [food]|         Acai Bowls|\n|       accessories|                null|             null|      [fashion]|        Accessories|\n|       accountants|                null|             null| [professional]|        Accountants|\n|     acnetreatment|                null|             null|    [beautysvc]|     Acne Treatment|\n|            active|                null|             null|             []|        Active Life|\n|       acupuncture|                null|             null|       [health]|        Acupuncture|\n| addictionmedicine|                [JP]|             null|   [physicians]| Addiction Medicine|\n|  adoptionservices|                null|             null|[localservices]|  Adoption Services|\n|             adult|                null|             null|     [shopping]|              Adult|\n|          adultedu|                null|             null|    [education]|    Adult Education|\n|adultentertainment|                null|             null|    [nightlife]|Adult Entertainment|\n|       advertising|                null|             null| [professional]|        Advertising|\n|     aerialfitness|                null|             null|      [fitness]|     Aerial Fitness|\n|       aerialtours|                null|             null|        [tours]|       Aerial Tours|\n|     aestheticians|[CH, AR, FR, CL, ...|             null|   [medicalspa]|      Aestheticians|\n|           afghani|            [TR, MX]|             null|  [restaurants]|             Afghan|\n|           african|                [TR]|             null|  [restaurants]|            African|\n+------------------+--------------------+-----------------+---------------+-------------------+\nonly showing top 20 rows\n\nroot\n |-- alias: string (nullable = true)\n |-- country_blacklist: array (nullable = true)\n |    |-- element: string (containsNull = true)\n |-- country_whitelist: array (nullable = true)\n |    |-- element: string (containsNull = true)\n |-- parents: array (nullable = true)\n |    |-- element: string (containsNull = true)\n |-- title: string (nullable = true)\n\n"
     ]
    }
   ],
   "source": [
    "df_categories = spark.read.option(\"multiLine\",True).json(\"/yelp/categories.json\")\n",
    "print( \"number of categories:\", df_categories.count() )\n",
    "df_categories.show()\n",
    "df_categories.printSchema()\n",
    "df_categories.createOrReplaceTempView(\"categories\")"
   ]
  },
  {
   "cell_type": "code",
   "execution_count": 0,
   "metadata": {
    "application/vnd.databricks.v1+cell": {
     "cellMetadata": {},
     "inputWidgets": {},
     "nuid": "3b96109c-83a6-49db-8dfb-2340ccca7a0f",
     "showTitle": false,
     "title": ""
    }
   },
   "outputs": [
    {
     "output_type": "stream",
     "name": "stdout",
     "output_type": "stream",
     "text": [
      "Number of top-level categories: 22\n+----------------------------+\n|title                       |\n+----------------------------+\n|Active Life                 |\n|Arts & Entertainment        |\n|Automotive                  |\n|Beauty & Spas               |\n|Bicycles                    |\n|Education                   |\n|Event Planning & Services   |\n|Financial Services          |\n|Food                        |\n|Health & Medical            |\n|Home Services               |\n|Hotels & Travel             |\n|Local Flavor                |\n|Local Services              |\n|Mass Media                  |\n|Nightlife                   |\n|Pets                        |\n|Professional Services       |\n|Public Services & Government|\n|Religious Organizations     |\n|Restaurants                 |\n|Shopping                    |\n+----------------------------+\n\n"
     ]
    }
   ],
   "source": [
    "df_top_categories = spark.sql(\"\"\"\n",
    "SELECT title\n",
    "FROM categories\n",
    "WHERE size(parents) = 0\n",
    "\"\"\")\n",
    "print(f\"Number of top-level categories: {df_top_categories.count()}\")\n",
    "df_top_categories.show(30, truncate=False)\n",
    "df_top_categories.createOrReplaceTempView(\"top_categories\")"
   ]
  },
  {
   "cell_type": "code",
   "execution_count": 0,
   "metadata": {
    "application/vnd.databricks.v1+cell": {
     "cellMetadata": {},
     "inputWidgets": {},
     "nuid": "0a3f9620-6687-4041-ab50-472d112b4b2f",
     "showTitle": false,
     "title": ""
    }
   },
   "outputs": [
    {
     "output_type": "stream",
     "name": "stdout",
     "output_type": "stream",
     "text": [
      "+----------+-----------------+-----------------+--------------+-----------+\n|     alias|country_blacklist|country_whitelist|       parents|      title|\n+----------+-----------------+-----------------+--------------+-----------+\n|realestate|             null|             null|[homeservices]|Real Estate|\n+----------+-----------------+-----------------+--------------+-----------+\n\n"
     ]
    }
   ],
   "source": [
    "df_realestate = spark.sql(\"\"\"\n",
    "SELECT * \n",
    "FROM categories\n",
    "WHERE title = 'Real Estate'\n",
    "\"\"\")\n",
    "df_realestate.show()"
   ]
  },
  {
   "cell_type": "code",
   "execution_count": 0,
   "metadata": {
    "application/vnd.databricks.v1+cell": {
     "cellMetadata": {},
     "inputWidgets": {},
     "nuid": "0fead321-5a96-4aab-9df3-0d4793d6974b",
     "showTitle": false,
     "title": ""
    }
   },
   "outputs": [
    {
     "output_type": "stream",
     "name": "stdout",
     "output_type": "stream",
     "text": [
      "+--------------------+--------------------+-----+------------+------------+------------+--------------------+\n|         business_id|                name|state|        city|  metro_area|review_count|          categories|\n+--------------------+--------------------+-----+------------+------------+------------+--------------------+\n|meTyTAo18ulbEu5ap...|Meineke Car Care ...|   IN|Indianapolis|Indianapolis|           8|[Oil Change Stati...|\n|9Mym57cM01EBl2x3h...|Elite Beverages No 2|   IN|Indianapolis|Indianapolis|           8|[Food, Beer, Wine...|\n|OsacYNC8NUZfGyuYV...|Salamone Bros Gou...|   IN|Indianapolis|Indianapolis|           8|[Restaurants, San...|\n|w7ZyGU1CIIlsb9_xJ...|         Spa & Nails|   IN|Indianapolis|Indianapolis|           8|[Day Spas, Beauty...|\n|MRHTYIU6-jiziTPm1...|      Whitson Vision|   IN|Indianapolis|Indianapolis|           8|[Shopping, Doctor...|\n|Lpzofxs_5GdRKIfvF...|           Hangar 58|   IN|Indianapolis|Indianapolis|           8|[Chicken Wings, A...|\n|bBPrDU0lA1vgiQOlD...|          McDonald's|   IN|Indianapolis|Indianapolis|           8|[Fast Food, Coffe...|\n|Jtd9i4DlCO6JNcYzN...|AAMCO Transmissio...|   IN|Indianapolis|Indianapolis|           8|[Automotive, Oil ...|\n|z2dibYvPufc8UAGWu...|        Classy Nails|   IN|Indianapolis|Indianapolis|           8|[Beauty & Spas, N...|\n|h0vWIv3xMQQ4L_fYb...|          Five below|   IN|Indianapolis|Indianapolis|           8|[Discount Store, ...|\n|j4S77MajsNN7HV-Ei...|              Arby's|   IN|Indianapolis|Indianapolis|           8|[Sandwiches, Burg...|\n|cIQv2GqyFLjmGqd6e...|Phantom Fireworks...|   IN|Indianapolis|Indianapolis|           8|[Shopping, Firewo...|\n|_QAMST-NrQobXduil...|   Claire's Boutique|   IN|Indianapolis|Indianapolis|           8|[Shopping, Jewelr...|\n|3KF-DmXMqnttG5jwe...|        Jump Laundry|   IN|Indianapolis|Indianapolis|           8|[Local Services, ...|\n|lCUQ9mpHAHXms53Os...|Mooresville Auto ...|   IN| Mooresville|Indianapolis|           8|[Auto Repair, Aut...|\n|ulWjI6RDPgSusXZEQ...|              Arby's|   IN| Mooresville|Indianapolis|           8|[Fast Food, Sandw...|\n|jDL99IpiZWPS8ubQQ...|The Dermatology C...|   IN|  Plainfield|Indianapolis|           8|[Dermatologists, ...|\n|iAEEhbfvqlPaITFn1...|       The UPS Store|   IN|  Plainfield|Indianapolis|           8|[Graphic Design, ...|\n|F79qEV3ulKtZrBeEN...|             TJ Maxx|   IN|    Speedway|Indianapolis|           8|[Fashion, Departm...|\n|asG2hPqUb0lXLksCE...|Zionsville Animal...|   IN|  Zionsville|Indianapolis|           8|[Pet Cremation Se...|\n+--------------------+--------------------+-----+------------+------------+------------+--------------------+\nonly showing top 20 rows\n\n+----------------------+------------------------------------+-----------------------------------------------------------------------------------------------------------------------+\n|business_id           |name                                |categories                                                                                                             |\n+----------------------+------------------------------------+-----------------------------------------------------------------------------------------------------------------------+\n|meTyTAo18ulbEu5appPu3w|Meineke Car Care Center             |[Oil Change Stations, Tires, Automotive, Auto Repair]                                                                  |\n|9Mym57cM01EBl2x3h-Ei5Q|Elite Beverages No 2                |[Food, Beer, Wine & Spirits]                                                                                           |\n|OsacYNC8NUZfGyuYVgyKng|Salamone Bros Gourmet Sandwiches    |[Restaurants, Sandwiches, Barbeque, Southern]                                                                          |\n|w7ZyGU1CIIlsb9_xJwbmXg|Spa & Nails                         |[Day Spas, Beauty & Spas]                                                                                              |\n|MRHTYIU6-jiziTPm1jFP5w|Whitson Vision                      |[Shopping, Doctors, Optometrists, Ophthalmologists, Laser Eye Surgery/Lasik, Medical Supplies, Health & Medical]       |\n|Lpzofxs_5GdRKIfvFcjTjg|Hangar 58                           |[Chicken Wings, American (Traditional), Restaurants, Pizza]                                                            |\n|bBPrDU0lA1vgiQOlDhzuWw|McDonald's                          |[Fast Food, Coffee & Tea, Burgers, Restaurants, Food]                                                                  |\n|Jtd9i4DlCO6JNcYzNiBL9g|AAMCO Transmissions & Total Car Care|[Automotive, Oil Change Stations, Transmission Repair, Auto Repair, Auto Parts & Supplies]                             |\n|z2dibYvPufc8UAGWuVZxJQ|Classy Nails                        |[Beauty & Spas, Nail Salons]                                                                                           |\n|h0vWIv3xMQQ4L_fYbWAK7Q|Five below                          |[Discount Store, Shopping]                                                                                             |\n|j4S77MajsNN7HV-Ei0YGMg|Arby's                              |[Sandwiches, Burgers, Fast Food, Restaurants]                                                                          |\n|cIQv2GqyFLjmGqd6eyvxRQ|Phantom Fireworks of Castleton      |[Shopping, Fireworks]                                                                                                  |\n|_QAMST-NrQobXduilWEqSw|Claire's Boutique                   |[Shopping, Jewelry, Piercing, Toy Stores, Beauty & Spas, Accessories, Fashion]                                         |\n|3KF-DmXMqnttG5jwe7gXqg|Jump Laundry                        |[Local Services, Laundry Services, Dry Cleaning & Laundry, Laundromat]                                                 |\n|lCUQ9mpHAHXms53OsgSb0A|Mooresville Auto & Tire Inc         |[Auto Repair, Automotive, Oil Change Stations, Tires]                                                                  |\n|ulWjI6RDPgSusXZEQlZrGA|Arby's                              |[Fast Food, Sandwiches, Restaurants]                                                                                   |\n|jDL99IpiZWPS8ubQQBjtgg|The Dermatology Center of Indiana   |[Dermatologists, Shopping, Beauty & Spas, Adult, Skin Care, Medical Spas, Health & Medical, Doctors]                   |\n|iAEEhbfvqlPaITFn1jJy1w|The UPS Store                       |[Graphic Design, Professional Services, Local Services, Printing Services, Mailbox Centers, Notaries, Shipping Centers]|\n|F79qEV3ulKtZrBeENRi0PA|TJ Maxx                             |[Fashion, Department Stores, Shopping]                                                                                 |\n|asG2hPqUb0lXLksCE6iaBA|Zionsville Animal Hospital          |[Pet Cremation Services, Veterinarians, Pet Boarding, Pet Services, Pets, Pet Sitting]                                 |\n+----------------------+------------------------------------+-----------------------------------------------------------------------------------------------------------------------+\nonly showing top 20 rows\n\nroot\n |-- business_id: string (nullable = true)\n |-- name: string (nullable = true)\n |-- state: string (nullable = true)\n |-- city: string (nullable = true)\n |-- metro_area: string (nullable = true)\n |-- review_count: long (nullable = true)\n |-- categories: array (nullable = true)\n |    |-- element: string (containsNull = false)\n\n"
     ]
    }
   ],
   "source": [
    "df_business_categories = spark.sql(\"\"\"\n",
    "SELECT business_id, name, state, city, metro_area, review_count, \n",
    "       SPLIT(categories, '\\\\\\s*,\\\\\\s*') AS categories\n",
    "FROM metro_business\n",
    "\"\"\")\n",
    "df_business_categories.show()\n",
    "df_business_categories.select(\"business_id\", \"name\",\"categories\").show(truncate=False)\n",
    "df_business_categories.printSchema()\n",
    "df_business_categories.createOrReplaceTempView(\"business_categories\")"
   ]
  },
  {
   "cell_type": "code",
   "execution_count": 0,
   "metadata": {
    "application/vnd.databricks.v1+cell": {
     "cellMetadata": {},
     "inputWidgets": {},
     "nuid": "8cadec09-6e6f-4233-82bf-9ca1859aeb08",
     "showTitle": false,
     "title": ""
    }
   },
   "outputs": [
    {
     "output_type": "stream",
     "name": "stdout",
     "output_type": "stream",
     "text": [
      "+----------------------+-----------------------------------------------------------------------------------------------------------------------+\n|business_id           |categories                                                                                                             |\n+----------------------+-----------------------------------------------------------------------------------------------------------------------+\n|meTyTAo18ulbEu5appPu3w|[Oil Change Stations, Tires, Automotive, Auto Repair]                                                                  |\n|9Mym57cM01EBl2x3h-Ei5Q|[Food, Beer, Wine & Spirits]                                                                                           |\n|OsacYNC8NUZfGyuYVgyKng|[Restaurants, Sandwiches, Barbeque, Southern]                                                                          |\n|w7ZyGU1CIIlsb9_xJwbmXg|[Day Spas, Beauty & Spas]                                                                                              |\n|MRHTYIU6-jiziTPm1jFP5w|[Shopping, Doctors, Optometrists, Ophthalmologists, Laser Eye Surgery/Lasik, Medical Supplies, Health & Medical]       |\n|Lpzofxs_5GdRKIfvFcjTjg|[Chicken Wings, American (Traditional), Restaurants, Pizza]                                                            |\n|bBPrDU0lA1vgiQOlDhzuWw|[Fast Food, Coffee & Tea, Burgers, Restaurants, Food]                                                                  |\n|Jtd9i4DlCO6JNcYzNiBL9g|[Automotive, Oil Change Stations, Transmission Repair, Auto Repair, Auto Parts & Supplies]                             |\n|z2dibYvPufc8UAGWuVZxJQ|[Beauty & Spas, Nail Salons]                                                                                           |\n|h0vWIv3xMQQ4L_fYbWAK7Q|[Discount Store, Shopping]                                                                                             |\n|j4S77MajsNN7HV-Ei0YGMg|[Sandwiches, Burgers, Fast Food, Restaurants]                                                                          |\n|cIQv2GqyFLjmGqd6eyvxRQ|[Shopping, Fireworks]                                                                                                  |\n|_QAMST-NrQobXduilWEqSw|[Shopping, Jewelry, Piercing, Toy Stores, Beauty & Spas, Accessories, Fashion]                                         |\n|3KF-DmXMqnttG5jwe7gXqg|[Local Services, Laundry Services, Dry Cleaning & Laundry, Laundromat]                                                 |\n|lCUQ9mpHAHXms53OsgSb0A|[Auto Repair, Automotive, Oil Change Stations, Tires]                                                                  |\n|ulWjI6RDPgSusXZEQlZrGA|[Fast Food, Sandwiches, Restaurants]                                                                                   |\n|jDL99IpiZWPS8ubQQBjtgg|[Dermatologists, Shopping, Beauty & Spas, Adult, Skin Care, Medical Spas, Health & Medical, Doctors]                   |\n|iAEEhbfvqlPaITFn1jJy1w|[Graphic Design, Professional Services, Local Services, Printing Services, Mailbox Centers, Notaries, Shipping Centers]|\n|F79qEV3ulKtZrBeENRi0PA|[Fashion, Department Stores, Shopping]                                                                                 |\n|asG2hPqUb0lXLksCE6iaBA|[Pet Cremation Services, Veterinarians, Pet Boarding, Pet Services, Pets, Pet Sitting]                                 |\n+----------------------+-----------------------------------------------------------------------------------------------------------------------+\nonly showing top 20 rows\n\n"
     ]
    }
   ],
   "source": [
    "df_business_categories.select(\"business_id\",\"categories\").show(truncate=False)\n"
   ]
  },
  {
   "cell_type": "code",
   "execution_count": 0,
   "metadata": {
    "application/vnd.databricks.v1+cell": {
     "cellMetadata": {},
     "inputWidgets": {},
     "nuid": "0c3c3366-d2c1-4621-88cd-ef0bea07bd6f",
     "showTitle": false,
     "title": ""
    }
   },
   "outputs": [
    {
     "output_type": "stream",
     "name": "stdout",
     "output_type": "stream",
     "text": [
      "number of businesses:221928\n+----------------------+------------------------------+-----+-------------+-------------+------------+-------------------------+\n|           business_id|                          name|state|         city|   metro_area|review_count|                 category|\n+----------------------+------------------------------+-----+-------------+-------------+------------+-------------------------+\n|ytynqOUb3hjKeJfRj5Tshw|       Reading Terminal Market|   PA| Philadelphia| Philadelphia|        5721|                     Food|\n|ytynqOUb3hjKeJfRj5Tshw|       Reading Terminal Market|   PA| Philadelphia| Philadelphia|        5721|     Arts & Entertainment|\n|ytynqOUb3hjKeJfRj5Tshw|       Reading Terminal Market|   PA| Philadelphia| Philadelphia|        5721|                 Shopping|\n|ytynqOUb3hjKeJfRj5Tshw|       Reading Terminal Market|   PA| Philadelphia| Philadelphia|        5721|             Local Flavor|\n|ytynqOUb3hjKeJfRj5Tshw|       Reading Terminal Market|   PA| Philadelphia| Philadelphia|        5721|              Restaurants|\n|TfRyyMfqDxtC1KA1jLkmvg|              NEST Center City|   PA| Philadelphia| Philadelphia|          63|     Arts & Entertainment|\n|TfRyyMfqDxtC1KA1jLkmvg|              NEST Center City|   PA| Philadelphia| Philadelphia|          63|            Beauty & Spas|\n|TfRyyMfqDxtC1KA1jLkmvg|              NEST Center City|   PA| Philadelphia| Philadelphia|          63|                Nightlife|\n|TfRyyMfqDxtC1KA1jLkmvg|              NEST Center City|   PA| Philadelphia| Philadelphia|          63|              Active Life|\n|TfRyyMfqDxtC1KA1jLkmvg|              NEST Center City|   PA| Philadelphia| Philadelphia|          63|Event Planning & Services|\n|TfRyyMfqDxtC1KA1jLkmvg|              NEST Center City|   PA| Philadelphia| Philadelphia|          63|                 Shopping|\n|TfRyyMfqDxtC1KA1jLkmvg|              NEST Center City|   PA| Philadelphia| Philadelphia|          63|             Local Flavor|\n|TfRyyMfqDxtC1KA1jLkmvg|              NEST Center City|   PA| Philadelphia| Philadelphia|          63|           Local Services|\n|TfRyyMfqDxtC1KA1jLkmvg|              NEST Center City|   PA| Philadelphia| Philadelphia|          63|                Education|\n|5hyIty7KkRfVE_1gCKbUvw|Delectables Catering and Venue|   AZ|       Tucson|       Tucson|         145|                     Food|\n|5hyIty7KkRfVE_1gCKbUvw|Delectables Catering and Venue|   AZ|       Tucson|       Tucson|         145|              Restaurants|\n|5hyIty7KkRfVE_1gCKbUvw|Delectables Catering and Venue|   AZ|       Tucson|       Tucson|         145|                Nightlife|\n|5hyIty7KkRfVE_1gCKbUvw|Delectables Catering and Venue|   AZ|       Tucson|       Tucson|         145|Event Planning & Services|\n|5hyIty7KkRfVE_1gCKbUvw|Delectables Catering and Venue|   AZ|       Tucson|       Tucson|         145|     Arts & Entertainment|\n|mmlZz6ypFdgHROjt2AnSsw|  Hi-Tech Intelligent Services|   PA| Philadelphia| Philadelphia|          10|               Mass Media|\n|mmlZz6ypFdgHROjt2AnSsw|  Hi-Tech Intelligent Services|   PA| Philadelphia| Philadelphia|          10|Event Planning & Services|\n|mmlZz6ypFdgHROjt2AnSsw|  Hi-Tech Intelligent Services|   PA| Philadelphia| Philadelphia|          10|           Local Services|\n|mmlZz6ypFdgHROjt2AnSsw|  Hi-Tech Intelligent Services|   PA| Philadelphia| Philadelphia|          10|            Home Services|\n|mmlZz6ypFdgHROjt2AnSsw|  Hi-Tech Intelligent Services|   PA| Philadelphia| Philadelphia|          10|    Professional Services|\n|mmlZz6ypFdgHROjt2AnSsw|  Hi-Tech Intelligent Services|   PA| Philadelphia| Philadelphia|          10|                 Shopping|\n|Zk4aemT88EwIvoa-19z4mg|           I-4 Power Equipment|   FL|   Plant City|        Tampa|           6|               Automotive|\n|Zk4aemT88EwIvoa-19z4mg|           I-4 Power Equipment|   FL|   Plant City|        Tampa|           6|            Home Services|\n|Zk4aemT88EwIvoa-19z4mg|           I-4 Power Equipment|   FL|   Plant City|        Tampa|           6|              Active Life|\n|Zk4aemT88EwIvoa-19z4mg|           I-4 Power Equipment|   FL|   Plant City|        Tampa|           6|    Professional Services|\n|kdboJGRQZXuKYLIFMvsoJw|Boise Auto Repair Mobile Te...|   ID|        Boise|        Boise|          15|               Automotive|\n|Zk4aemT88EwIvoa-19z4mg|           I-4 Power Equipment|   FL|   Plant City|        Tampa|           6|Event Planning & Services|\n|kdboJGRQZXuKYLIFMvsoJw|Boise Auto Repair Mobile Te...|   ID|        Boise|        Boise|          15|         Health & Medical|\n|kdboJGRQZXuKYLIFMvsoJw|Boise Auto Repair Mobile Te...|   ID|        Boise|        Boise|          15|                 Shopping|\n|kdboJGRQZXuKYLIFMvsoJw|Boise Auto Repair Mobile Te...|   ID|        Boise|        Boise|          15|           Local Services|\n|Zk4aemT88EwIvoa-19z4mg|           I-4 Power Equipment|   FL|   Plant City|        Tampa|           6|           Local Services|\n|kdboJGRQZXuKYLIFMvsoJw|Boise Auto Repair Mobile Te...|   ID|        Boise|        Boise|          15|              Restaurants|\n|Zk4aemT88EwIvoa-19z4mg|           I-4 Power Equipment|   FL|   Plant City|        Tampa|           6|                 Shopping|\n|iOFbMitGdfU6i5xm4nZ8Ww|Blue Willow Restaurant & Gi...|   AZ|       Tucson|       Tucson|         625|                Nightlife|\n|lPday_z2XpRJqbFWyCh6dw|           Taste Safety Harbor|   FL|Safety Harbor|        Tampa|           7|                     Food|\n|lPday_z2XpRJqbFWyCh6dw|           Taste Safety Harbor|   FL|Safety Harbor|        Tampa|           7|             Local Flavor|\n|iOFbMitGdfU6i5xm4nZ8Ww|Blue Willow Restaurant & Gi...|   AZ|       Tucson|       Tucson|         625|                 Shopping|\n|4fKGv-3XMlxv_vuiFbuwLA|                  The Drive In|   NV|         Reno|         Reno|          63|Event Planning & Services|\n|lPday_z2XpRJqbFWyCh6dw|           Taste Safety Harbor|   FL|Safety Harbor|        Tampa|           7|     Arts & Entertainment|\n|lPday_z2XpRJqbFWyCh6dw|           Taste Safety Harbor|   FL|Safety Harbor|        Tampa|           7|              Restaurants|\n|lPday_z2XpRJqbFWyCh6dw|           Taste Safety Harbor|   FL|Safety Harbor|        Tampa|           7|Event Planning & Services|\n|iOFbMitGdfU6i5xm4nZ8Ww|Blue Willow Restaurant & Gi...|   AZ|       Tucson|       Tucson|         625|                     Food|\n|4fKGv-3XMlxv_vuiFbuwLA|                  The Drive In|   NV|         Reno|         Reno|          63|              Restaurants|\n|iOFbMitGdfU6i5xm4nZ8Ww|Blue Willow Restaurant & Gi...|   AZ|       Tucson|       Tucson|         625|              Restaurants|\n|4fKGv-3XMlxv_vuiFbuwLA|                  The Drive In|   NV|         Reno|         Reno|          63|                Nightlife|\n|4fKGv-3XMlxv_vuiFbuwLA|                  The Drive In|   NV|         Reno|         Reno|          63|                     Food|\n|iOFbMitGdfU6i5xm4nZ8Ww|Blue Willow Restaurant & Gi...|   AZ|       Tucson|       Tucson|         625|Event Planning & Services|\n|lPday_z2XpRJqbFWyCh6dw|           Taste Safety Harbor|   FL|Safety Harbor|        Tampa|           7|                Nightlife|\n|6Z_wgNTh5HJ7NhFghVe2vA|            Nashville FlyBoard|   TN|    Nashville|    Nashville|           5|              Active Life|\n|jd8ID239kuHBpuJ3_B30jQ|      The Wellness Kitchenista|   PA|      Virtual| Philadelphia|           7|                 Shopping|\n|-mDAFyX5kZHXhxjELeMhiQ|                Winslow's Home|   MO|  Saint Louis|    St. Louis|         528|             Local Flavor|\n|jd8ID239kuHBpuJ3_B30jQ|      The Wellness Kitchenista|   PA|      Virtual| Philadelphia|           7|Event Planning & Services|\n|6Z_wgNTh5HJ7NhFghVe2vA|            Nashville FlyBoard|   TN|    Nashville|    Nashville|           5|Event Planning & Services|\n|jd8ID239kuHBpuJ3_B30jQ|      The Wellness Kitchenista|   PA|      Virtual| Philadelphia|           7|                     Food|\n|-mDAFyX5kZHXhxjELeMhiQ|                Winslow's Home|   MO|  Saint Louis|    St. Louis|         528|                     Food|\n|jd8ID239kuHBpuJ3_B30jQ|      The Wellness Kitchenista|   PA|      Virtual| Philadelphia|           7|         Health & Medical|\n|-mDAFyX5kZHXhxjELeMhiQ|                Winslow's Home|   MO|  Saint Louis|    St. Louis|         528|              Restaurants|\n|6Z_wgNTh5HJ7NhFghVe2vA|            Nashville FlyBoard|   TN|    Nashville|    Nashville|           5|          Hotels & Travel|\n|6Z_wgNTh5HJ7NhFghVe2vA|            Nashville FlyBoard|   TN|    Nashville|    Nashville|           5|                 Shopping|\n|-mDAFyX5kZHXhxjELeMhiQ|                Winslow's Home|   MO|  Saint Louis|    St. Louis|         528|Event Planning & Services|\n|6Z_wgNTh5HJ7NhFghVe2vA|            Nashville FlyBoard|   TN|    Nashville|    Nashville|           5|     Arts & Entertainment|\n|jd8ID239kuHBpuJ3_B30jQ|      The Wellness Kitchenista|   PA|      Virtual| Philadelphia|           7|                Education|\n|-mDAFyX5kZHXhxjELeMhiQ|                Winslow's Home|   MO|  Saint Louis|    St. Louis|         528|                 Shopping|\n|w3giBYDmPWWnsNq5Sr2KQA|                Pinot Boutique|   PA| Philadelphia| Philadelphia|          91|                Nightlife|\n|w3giBYDmPWWnsNq5Sr2KQA|                Pinot Boutique|   PA| Philadelphia| Philadelphia|          91|                 Shopping|\n|USekrAG0-4tJUs9V2gBBOQ|                      The Honu|   FL|      Dunedin|        Tampa|         234|                Nightlife|\n|USekrAG0-4tJUs9V2gBBOQ|                      The Honu|   FL|      Dunedin|        Tampa|         234|              Active Life|\n|UAebOqpw9sg7Qg_EsbxfEA|         Hunter's Social Grill|   AB|Sherwood Park|     Edmonton|          14|              Restaurants|\n|USekrAG0-4tJUs9V2gBBOQ|                      The Honu|   FL|      Dunedin|        Tampa|         234|     Arts & Entertainment|\n|jJL3HcGjgtcUdLub93ZxNA|                Bike Stop Cafe|   MO|   St Charles|    St. Louis|         199|                     Food|\n|w3giBYDmPWWnsNq5Sr2KQA|                Pinot Boutique|   PA| Philadelphia| Philadelphia|          91|                     Food|\n|jJL3HcGjgtcUdLub93ZxNA|                Bike Stop Cafe|   MO|   St Charles|    St. Louis|         199|              Active Life|\n|UAebOqpw9sg7Qg_EsbxfEA|         Hunter's Social Grill|   AB|Sherwood Park|     Edmonton|          14|            Beauty & Spas|\n|USekrAG0-4tJUs9V2gBBOQ|                      The Honu|   FL|      Dunedin|        Tampa|         234|                     Food|\n|jJL3HcGjgtcUdLub93ZxNA|                Bike Stop Cafe|   MO|   St Charles|    St. Louis|         199|              Restaurants|\n|UAebOqpw9sg7Qg_EsbxfEA|         Hunter's Social Grill|   AB|Sherwood Park|     Edmonton|          14|                     Food|\n|w3giBYDmPWWnsNq5Sr2KQA|                Pinot Boutique|   PA| Philadelphia| Philadelphia|          91|Event Planning & Services|\n|UAebOqpw9sg7Qg_EsbxfEA|         Hunter's Social Grill|   AB|Sherwood Park|     Edmonton|          14|Event Planning & Services|\n|jJL3HcGjgtcUdLub93ZxNA|                Bike Stop Cafe|   MO|   St Charles|    St. Louis|         199|Event Planning & Services|\n|jJL3HcGjgtcUdLub93ZxNA|                Bike Stop Cafe|   MO|   St Charles|    St. Louis|         199|           Local Services|\n|jJL3HcGjgtcUdLub93ZxNA|                Bike Stop Cafe|   MO|   St Charles|    St. Louis|         199|                 Shopping|\n|w3giBYDmPWWnsNq5Sr2KQA|                Pinot Boutique|   PA| Philadelphia| Philadelphia|          91|     Arts & Entertainment|\n|w3giBYDmPWWnsNq5Sr2KQA|                Pinot Boutique|   PA| Philadelphia| Philadelphia|          91|                Education|\n|USekrAG0-4tJUs9V2gBBOQ|                      The Honu|   FL|      Dunedin|        Tampa|         234|              Restaurants|\n|UAebOqpw9sg7Qg_EsbxfEA|         Hunter's Social Grill|   AB|Sherwood Park|     Edmonton|          14|                Nightlife|\n|fKAxmycMFwO9qWVUAOQzOw|                     G's Pizza|   LA|  New Orleans|  New Orleans|         292|                     Food|\n|xEjPCUocVTNszm3D39qmYg|Pura Luna Apothecary & Full...|   CA|Santa Barbara|Santa Barbara|          15|Event Planning & Services|\n|xEjPCUocVTNszm3D39qmYg|Pura Luna Apothecary & Full...|   CA|Santa Barbara|Santa Barbara|          15|            Beauty & Spas|\n|zD4zXTjTaUKtD3J_Zp8mWw|                      Langlois|   LA|  New Orleans|  New Orleans|          57|          Hotels & Travel|\n|xCqac0ZN7cpxhrTXJ51eRg|                   TASTE Vegan|   PA| Phoenixville| Philadelphia|          55|            Home Services|\n|xuhCaQ1gnWyHY0tFSsrh2g|       Santa Barbara Art Glass|   CA|Santa Barbara|Santa Barbara|         204|Event Planning & Services|\n|zD4zXTjTaUKtD3J_Zp8mWw|                      Langlois|   LA|  New Orleans|  New Orleans|          57|Event Planning & Services|\n|szsL7N-XX74kXdWx7V9nVA|           Judy's Dance Shoppe|   NV|         Reno|         Reno|          10|              Active Life|\n|szsL7N-XX74kXdWx7V9nVA|           Judy's Dance Shoppe|   NV|         Reno|         Reno|          10|     Arts & Entertainment|\n|xCqac0ZN7cpxhrTXJ51eRg|                   TASTE Vegan|   PA| Phoenixville| Philadelphia|          55|              Restaurants|\n|yyZheinbU4-tTDKPcg-ZZw|                      Pirogues|   LA|  New Orleans|  New Orleans|          33|     Arts & Entertainment|\n+----------------------+------------------------------+-----+-------------+-------------+------------+-------------------------+\nonly showing top 100 rows\n\n"
     ]
    }
   ],
   "source": [
    "# Complete the FROM (JOIN),  SELECT, and ORDER BY clauses\n",
    "df_business_top_categories = spark.sql(\"\"\"\n",
    "SELECT business_id, name, state, city, metro_area, review_count, COALESCE(title, 'Unknown') AS category\n",
    "FROM business_categories AS B LEFT OUTER JOIN top_categories AS T ON ARRAY_CONTAINS(categories, title)\n",
    "ORDER BY SIZE(categories) DESC\n",
    "\"\"\")\n",
    "print(f\"number of businesses:{df_business_top_categories.count()}\")\n",
    "df_business_top_categories.show(100, truncate=30)\n",
    "df_business_top_categories.createOrReplaceTempView(\"business_top_categories\")\n"
   ]
  },
  {
   "cell_type": "code",
   "execution_count": 0,
   "metadata": {
    "application/vnd.databricks.v1+cell": {
     "cellMetadata": {},
     "inputWidgets": {},
     "nuid": "d86bf76c-68f1-4aed-9d8f-90543982fe0d",
     "showTitle": false,
     "title": ""
    }
   },
   "outputs": [
    {
     "output_type": "stream",
     "name": "stdout",
     "output_type": "stream",
     "text": [
      "Total Businesses:150346\nBusinesses without categories: 103\n"
     ]
    }
   ],
   "source": [
    "print(f\"Total Businesses:{df_business_top_categories.select('business_id').distinct().count()}\")\n",
    "  \n",
    "print(\"Businesses without categories:\",df_business_top_categories.filter(\"category = 'Unknown'\").count() )"
   ]
  },
  {
   "cell_type": "code",
   "execution_count": 0,
   "metadata": {
    "application/vnd.databricks.v1+cell": {
     "cellMetadata": {},
     "inputWidgets": {},
     "nuid": "22d35b05-0a8d-4cbc-a2c7-b6f8e6496c07",
     "showTitle": false,
     "title": ""
    }
   },
   "outputs": [
    {
     "output_type": "stream",
     "name": "stdout",
     "output_type": "stream",
     "text": [
      "+--------------------+--------------+\n|         business_id|category_count|\n+--------------------+--------------+\n|NEb8zLhYvUAmu_f-H...|             1|\n|CGhEwiSyXyjSbMhXM...|             4|\n|OTfoTKlO8ZlLifPh9...|             1|\n|otEpgG6DdLiKtKtQy...|             1|\n|ppTEFITIx0DIipyup...|             2|\n|VCZOEzPJezhb5vEad...|             1|\n|-ajaASaDA_77I6pK3...|             1|\n|jH85ddA7oelmS8P2Z...|             1|\n|6drlHqomJ6UYFex8n...|             1|\n|VV4l-yVqI2RDR0PYt...|             1|\n|VzL8jj8IVCGAQUb9f...|             1|\n|ueJFblv3esW2xjqO7...|             3|\n|L5rH_ypwqJcBByVac...|             1|\n|4HMXL85u_wX0WEHuc...|             1|\n|7hRaOnXRRS8q620F6...|             2|\n|oFYqL4RgThCupYhum...|             3|\n|1ZDFYvYjBqmz4z8u_...|             2|\n|SzIxeQzrATYbL8IFj...|             1|\n|DeDszlU-Gg-Hodu_H...|             1|\n|GdsjkFaPVyrMiMmGA...|             1|\n+--------------------+--------------+\nonly showing top 20 rows\n\n"
     ]
    }
   ],
   "source": [
    "df_top_category_count = spark.sql(\"\"\"\n",
    "SELECT business_id, COUNT(category) AS category_count\n",
    "FROM business_top_categories\n",
    "GROUP BY business_id\n",
    "\"\"\")\n",
    "df_top_category_count.show()\n",
    "df_top_category_count.createOrReplaceTempView(\"top_category_count\")"
   ]
  },
  {
   "cell_type": "code",
   "execution_count": 0,
   "metadata": {
    "application/vnd.databricks.v1+cell": {
     "cellMetadata": {},
     "inputWidgets": {},
     "nuid": "5a0e4d15-eacd-4cf1-9695-c4635f0c1cd2",
     "showTitle": false,
     "title": ""
    }
   },
   "outputs": [
    {
     "output_type": "stream",
     "name": "stdout",
     "output_type": "stream",
     "text": [
      "+----------------------+------------------------------+-----+-------------+-------------+------------+----------------------------+--------------+\n|           business_id|                          name|state|         city|   metro_area|review_count|                    category|category_count|\n+----------------------+------------------------------+-----+-------------+-------------+------------+----------------------------+--------------+\n|TfRyyMfqDxtC1KA1jLkmvg|              NEST Center City|   PA| Philadelphia| Philadelphia|          63|              Local Services|             9|\n|TfRyyMfqDxtC1KA1jLkmvg|              NEST Center City|   PA| Philadelphia| Philadelphia|          63|                   Nightlife|             9|\n|TfRyyMfqDxtC1KA1jLkmvg|              NEST Center City|   PA| Philadelphia| Philadelphia|          63|        Arts & Entertainment|             9|\n|TfRyyMfqDxtC1KA1jLkmvg|              NEST Center City|   PA| Philadelphia| Philadelphia|          63|   Event Planning & Services|             9|\n|TfRyyMfqDxtC1KA1jLkmvg|              NEST Center City|   PA| Philadelphia| Philadelphia|          63|                    Shopping|             9|\n|TfRyyMfqDxtC1KA1jLkmvg|              NEST Center City|   PA| Philadelphia| Philadelphia|          63|                   Education|             9|\n|TfRyyMfqDxtC1KA1jLkmvg|              NEST Center City|   PA| Philadelphia| Philadelphia|          63|                 Active Life|             9|\n|TfRyyMfqDxtC1KA1jLkmvg|              NEST Center City|   PA| Philadelphia| Philadelphia|          63|               Beauty & Spas|             9|\n|TfRyyMfqDxtC1KA1jLkmvg|              NEST Center City|   PA| Philadelphia| Philadelphia|          63|                Local Flavor|             9|\n|UdaINJ79Go0z4GdDgaVL2Q|                    Tucson JCC|   AZ|       Tucson|       Tucson|          37|              Local Services|             8|\n|UdaINJ79Go0z4GdDgaVL2Q|                    Tucson JCC|   AZ|       Tucson|       Tucson|          37|                 Active Life|             8|\n|UdaINJ79Go0z4GdDgaVL2Q|                    Tucson JCC|   AZ|       Tucson|       Tucson|          37|        Arts & Entertainment|             8|\n|UdaINJ79Go0z4GdDgaVL2Q|                    Tucson JCC|   AZ|       Tucson|       Tucson|          37|Public Services & Government|             8|\n|UdaINJ79Go0z4GdDgaVL2Q|                    Tucson JCC|   AZ|       Tucson|       Tucson|          37|                    Shopping|             8|\n|UdaINJ79Go0z4GdDgaVL2Q|                    Tucson JCC|   AZ|       Tucson|       Tucson|          37|     Religious Organizations|             8|\n|UdaINJ79Go0z4GdDgaVL2Q|                    Tucson JCC|   AZ|       Tucson|       Tucson|          37|   Event Planning & Services|             8|\n|UdaINJ79Go0z4GdDgaVL2Q|                    Tucson JCC|   AZ|       Tucson|       Tucson|          37|                   Education|             8|\n|Z3iHm4V3sR0eYKsJTJ3w6g|             River School Farm|   NV|         Reno|         Reno|           8|       Professional Services|             8|\n|Z3iHm4V3sR0eYKsJTJ3w6g|             River School Farm|   NV|         Reno|         Reno|           8|   Event Planning & Services|             8|\n|Z3iHm4V3sR0eYKsJTJ3w6g|             River School Farm|   NV|         Reno|         Reno|           8|                Local Flavor|             8|\n|Z3iHm4V3sR0eYKsJTJ3w6g|             River School Farm|   NV|         Reno|         Reno|           8|                   Nightlife|             8|\n|Z3iHm4V3sR0eYKsJTJ3w6g|             River School Farm|   NV|         Reno|         Reno|           8|                   Education|             8|\n|Z3iHm4V3sR0eYKsJTJ3w6g|             River School Farm|   NV|         Reno|         Reno|           8|                        Food|             8|\n|Z3iHm4V3sR0eYKsJTJ3w6g|             River School Farm|   NV|         Reno|         Reno|           8|        Arts & Entertainment|             8|\n|Z3iHm4V3sR0eYKsJTJ3w6g|             River School Farm|   NV|         Reno|         Reno|           8|               Home Services|             8|\n|zD4zXTjTaUKtD3J_Zp8mWw|                      Langlois|   LA|  New Orleans|  New Orleans|          57|                Local Flavor|             8|\n|zD4zXTjTaUKtD3J_Zp8mWw|                      Langlois|   LA|  New Orleans|  New Orleans|          57|   Event Planning & Services|             8|\n|zD4zXTjTaUKtD3J_Zp8mWw|                      Langlois|   LA|  New Orleans|  New Orleans|          57|                   Education|             8|\n|zD4zXTjTaUKtD3J_Zp8mWw|                      Langlois|   LA|  New Orleans|  New Orleans|          57|                        Food|             8|\n|zD4zXTjTaUKtD3J_Zp8mWw|                      Langlois|   LA|  New Orleans|  New Orleans|          57|                 Restaurants|             8|\n|zD4zXTjTaUKtD3J_Zp8mWw|                      Langlois|   LA|  New Orleans|  New Orleans|          57|                    Shopping|             8|\n|zD4zXTjTaUKtD3J_Zp8mWw|                      Langlois|   LA|  New Orleans|  New Orleans|          57|        Arts & Entertainment|             8|\n|zD4zXTjTaUKtD3J_Zp8mWw|                      Langlois|   LA|  New Orleans|  New Orleans|          57|             Hotels & Travel|             8|\n|7EZNdgiG7PlNYewYNFraGg|                       Commrow|   NV|         Reno|         Reno|          26|             Hotels & Travel|             7|\n|7EZNdgiG7PlNYewYNFraGg|                       Commrow|   NV|         Reno|         Reno|          26|   Event Planning & Services|             7|\n|7EZNdgiG7PlNYewYNFraGg|                       Commrow|   NV|         Reno|         Reno|          26|                 Restaurants|             7|\n|7EZNdgiG7PlNYewYNFraGg|                       Commrow|   NV|         Reno|         Reno|          26|                 Active Life|             7|\n|7EZNdgiG7PlNYewYNFraGg|                       Commrow|   NV|         Reno|         Reno|          26|                    Shopping|             7|\n|7EZNdgiG7PlNYewYNFraGg|                       Commrow|   NV|         Reno|         Reno|          26|        Arts & Entertainment|             7|\n|7EZNdgiG7PlNYewYNFraGg|                       Commrow|   NV|         Reno|         Reno|          26|                   Nightlife|             7|\n|7K-oLyEYeLhWEVp6KtAO9A|    Howell Living History Farm|   NJ| Lambertville| Philadelphia|          18|                        Food|             7|\n|7K-oLyEYeLhWEVp6KtAO9A|    Howell Living History Farm|   NJ| Lambertville| Philadelphia|          18|                 Active Life|             7|\n|7K-oLyEYeLhWEVp6KtAO9A|    Howell Living History Farm|   NJ| Lambertville| Philadelphia|          18|Public Services & Government|             7|\n|7K-oLyEYeLhWEVp6KtAO9A|    Howell Living History Farm|   NJ| Lambertville| Philadelphia|          18|             Hotels & Travel|             7|\n|7K-oLyEYeLhWEVp6KtAO9A|    Howell Living History Farm|   NJ| Lambertville| Philadelphia|          18|                   Education|             7|\n|7K-oLyEYeLhWEVp6KtAO9A|    Howell Living History Farm|   NJ| Lambertville| Philadelphia|          18|                Local Flavor|             7|\n|7K-oLyEYeLhWEVp6KtAO9A|    Howell Living History Farm|   NJ| Lambertville| Philadelphia|          18|              Local Services|             7|\n|7zXNw8OkBz_uQPUMa91UgA|       Robert Crum Photography|   FL|        Tampa|        Tampa|           9|              Local Services|             7|\n|7zXNw8OkBz_uQPUMa91UgA|       Robert Crum Photography|   FL|        Tampa|        Tampa|           9|   Event Planning & Services|             7|\n|7zXNw8OkBz_uQPUMa91UgA|       Robert Crum Photography|   FL|        Tampa|        Tampa|           9|                    Shopping|             7|\n|7zXNw8OkBz_uQPUMa91UgA|       Robert Crum Photography|   FL|        Tampa|        Tampa|           9|                   Nightlife|             7|\n|7zXNw8OkBz_uQPUMa91UgA|       Robert Crum Photography|   FL|        Tampa|        Tampa|           9|               Beauty & Spas|             7|\n|7zXNw8OkBz_uQPUMa91UgA|       Robert Crum Photography|   FL|        Tampa|        Tampa|           9|        Arts & Entertainment|             7|\n|7zXNw8OkBz_uQPUMa91UgA|       Robert Crum Photography|   FL|        Tampa|        Tampa|           9|       Professional Services|             7|\n|FYXS0g3L09uaRpYyT-tMBw|                   Cactus Bowl|   AZ|       Tucson|       Tucson|          15|                    Shopping|             7|\n|FYXS0g3L09uaRpYyT-tMBw|                   Cactus Bowl|   AZ|       Tucson|       Tucson|          15|   Event Planning & Services|             7|\n|FYXS0g3L09uaRpYyT-tMBw|                   Cactus Bowl|   AZ|       Tucson|       Tucson|          15|                 Active Life|             7|\n|FYXS0g3L09uaRpYyT-tMBw|                   Cactus Bowl|   AZ|       Tucson|       Tucson|          15|             Hotels & Travel|             7|\n|FYXS0g3L09uaRpYyT-tMBw|                   Cactus Bowl|   AZ|       Tucson|       Tucson|          15|                   Nightlife|             7|\n|FYXS0g3L09uaRpYyT-tMBw|                   Cactus Bowl|   AZ|       Tucson|       Tucson|          15|        Arts & Entertainment|             7|\n|FYXS0g3L09uaRpYyT-tMBw|                   Cactus Bowl|   AZ|       Tucson|       Tucson|          15|                 Restaurants|             7|\n|J4Ei8xtNBrvivkDmS4nxtg|         Workplace Enhancement|   IN| Indianapolis| Indianapolis|          10|   Event Planning & Services|             7|\n|J4Ei8xtNBrvivkDmS4nxtg|         Workplace Enhancement|   IN| Indianapolis| Indianapolis|          10|             Hotels & Travel|             7|\n|J4Ei8xtNBrvivkDmS4nxtg|         Workplace Enhancement|   IN| Indianapolis| Indianapolis|          10|            Health & Medical|             7|\n|J4Ei8xtNBrvivkDmS4nxtg|         Workplace Enhancement|   IN| Indianapolis| Indianapolis|          10|               Beauty & Spas|             7|\n|J4Ei8xtNBrvivkDmS4nxtg|         Workplace Enhancement|   IN| Indianapolis| Indianapolis|          10|       Professional Services|             7|\n|J4Ei8xtNBrvivkDmS4nxtg|         Workplace Enhancement|   IN| Indianapolis| Indianapolis|          10|                    Shopping|             7|\n|J4Ei8xtNBrvivkDmS4nxtg|         Workplace Enhancement|   IN| Indianapolis| Indianapolis|          10|                 Active Life|             7|\n|Zk4aemT88EwIvoa-19z4mg|           I-4 Power Equipment|   FL|   Plant City|        Tampa|           6|                  Automotive|             7|\n|Zk4aemT88EwIvoa-19z4mg|           I-4 Power Equipment|   FL|   Plant City|        Tampa|           6|               Home Services|             7|\n|Zk4aemT88EwIvoa-19z4mg|           I-4 Power Equipment|   FL|   Plant City|        Tampa|           6|       Professional Services|             7|\n|Zk4aemT88EwIvoa-19z4mg|           I-4 Power Equipment|   FL|   Plant City|        Tampa|           6|                    Shopping|             7|\n|Zk4aemT88EwIvoa-19z4mg|           I-4 Power Equipment|   FL|   Plant City|        Tampa|           6|   Event Planning & Services|             7|\n|Zk4aemT88EwIvoa-19z4mg|           I-4 Power Equipment|   FL|   Plant City|        Tampa|           6|                 Active Life|             7|\n|Zk4aemT88EwIvoa-19z4mg|           I-4 Power Equipment|   FL|   Plant City|        Tampa|           6|              Local Services|             7|\n|g5GS2Mr42rKXzFrzea5GJw|            USF Moving Company|   ID|        Boise|        Boise|          10|             Hotels & Travel|             7|\n|g5GS2Mr42rKXzFrzea5GJw|            USF Moving Company|   ID|        Boise|        Boise|          10|              Local Services|             7|\n|g5GS2Mr42rKXzFrzea5GJw|            USF Moving Company|   ID|        Boise|        Boise|          10|                        Food|             7|\n|g5GS2Mr42rKXzFrzea5GJw|            USF Moving Company|   ID|        Boise|        Boise|          10|                  Automotive|             7|\n|g5GS2Mr42rKXzFrzea5GJw|            USF Moving Company|   ID|        Boise|        Boise|          10|               Home Services|             7|\n|g5GS2Mr42rKXzFrzea5GJw|            USF Moving Company|   ID|        Boise|        Boise|          10|                 Restaurants|             7|\n|g5GS2Mr42rKXzFrzea5GJw|            USF Moving Company|   ID|        Boise|        Boise|          10|       Professional Services|             7|\n|js2nHugz_merD1GghFXIcA|                Westport Plaza|   MO|  Saint Louis|    St. Louis|          13|                 Restaurants|             7|\n|js2nHugz_merD1GghFXIcA|                Westport Plaza|   MO|  Saint Louis|    St. Louis|          13|                    Shopping|             7|\n|js2nHugz_merD1GghFXIcA|                Westport Plaza|   MO|  Saint Louis|    St. Louis|          13|        Arts & Entertainment|             7|\n|js2nHugz_merD1GghFXIcA|                Westport Plaza|   MO|  Saint Louis|    St. Louis|          13|                   Nightlife|             7|\n|js2nHugz_merD1GghFXIcA|                Westport Plaza|   MO|  Saint Louis|    St. Louis|          13|               Home Services|             7|\n|js2nHugz_merD1GghFXIcA|                Westport Plaza|   MO|  Saint Louis|    St. Louis|          13|   Event Planning & Services|             7|\n|js2nHugz_merD1GghFXIcA|                Westport Plaza|   MO|  Saint Louis|    St. Louis|          13|             Hotels & Travel|             7|\n|xEjPCUocVTNszm3D39qmYg|Pura Luna Apothecary & Full...|   CA|Santa Barbara|Santa Barbara|          15|                    Shopping|             7|\n|xEjPCUocVTNszm3D39qmYg|Pura Luna Apothecary & Full...|   CA|Santa Barbara|Santa Barbara|          15|   Event Planning & Services|             7|\n|xEjPCUocVTNszm3D39qmYg|Pura Luna Apothecary & Full...|   CA|Santa Barbara|Santa Barbara|          15|                 Active Life|             7|\n|xEjPCUocVTNszm3D39qmYg|Pura Luna Apothecary & Full...|   CA|Santa Barbara|Santa Barbara|          15|              Local Services|             7|\n|xEjPCUocVTNszm3D39qmYg|Pura Luna Apothecary & Full...|   CA|Santa Barbara|Santa Barbara|          15|            Health & Medical|             7|\n|xEjPCUocVTNszm3D39qmYg|Pura Luna Apothecary & Full...|   CA|Santa Barbara|Santa Barbara|          15|                        Food|             7|\n|xEjPCUocVTNszm3D39qmYg|Pura Luna Apothecary & Full...|   CA|Santa Barbara|Santa Barbara|          15|               Beauty & Spas|             7|\n|0DaFBFLDwNWxMY-p5_OlOQ|            C. Bel for Awnings|   LA|  New Orleans|  New Orleans|           9|   Event Planning & Services|             6|\n|0DaFBFLDwNWxMY-p5_OlOQ|            C. Bel for Awnings|   LA|  New Orleans|  New Orleans|           9|                    Shopping|             6|\n|0DaFBFLDwNWxMY-p5_OlOQ|            C. Bel for Awnings|   LA|  New Orleans|  New Orleans|           9|              Local Services|             6|\n|0DaFBFLDwNWxMY-p5_OlOQ|            C. Bel for Awnings|   LA|  New Orleans|  New Orleans|           9|               Home Services|             6|\n+----------------------+------------------------------+-----+-------------+-------------+------------+----------------------------+--------------+\nonly showing top 100 rows\n\n"
     ]
    }
   ],
   "source": [
    "# Add a column with the count of the number of top-level categories a business is in\n",
    "# REMOVE WINDOW FUNCTION FOR category_count AND ORDER BY CLAUSE\n",
    "df_business_top_category_count = spark.sql(\"\"\"\n",
    "SELECT B.*, category_count\n",
    "FROM business_top_categories AS B JOIN top_category_count AS T ON B.business_id = T.business_id\n",
    "ORDER BY category_count DESC, business_id\n",
    "\"\"\")\n",
    "df_business_top_category_count.show(100,truncate=30)"
   ]
  },
  {
   "cell_type": "markdown",
   "metadata": {
    "application/vnd.databricks.v1+cell": {
     "cellMetadata": {},
     "inputWidgets": {},
     "nuid": "9892ceb7-1b9a-4111-bdb1-5244051ef613",
     "showTitle": false,
     "title": ""
    }
   },
   "source": [
    "#### Step 11b: Write the table"
   ]
  },
  {
   "cell_type": "code",
   "execution_count": 0,
   "metadata": {
    "application/vnd.databricks.v1+cell": {
     "cellMetadata": {},
     "inputWidgets": {},
     "nuid": "a0723c56-f3f6-41d5-a0e3-23408c613528",
     "showTitle": false,
     "title": ""
    }
   },
   "outputs": [
    {
     "output_type": "stream",
     "name": "stdout",
     "output_type": "stream",
     "text": [
      "Saving the df_business_top_category_count DataFrame as table: business_category_table\n+------------+\n|record_count|\n+------------+\n|      221928|\n+------------+\n\n+----------------------+----------------------+-----+----------------+------------+------------+-------------+--------------+\n|           business_id|                  name|state|            city|  metro_area|review_count|     category|category_count|\n+----------------------+----------------------+-----+----------------+------------+------------+-------------+--------------+\n|kJb4o8aZ_93iBMq-Hery1w|              BRAKEmax|   AZ|          Tucson|      Tucson|           6|   Automotive|             1|\n|kJbAV1ZN65XedfED0HQVsw|Guerreros Mexican R...|   IN|    Indianapolis|Indianapolis|          49|  Restaurants|             1|\n|kJg3OA_-aXgLnIxizh76Hg|Kat Cares Dog Walki...|   PA|    Philadelphia|Philadelphia|          13|         Pets|             1|\n|kJguN_71VpAYPII4_kbaAA|   El Fogon Colombiano|   FL|           Tampa|       Tampa|           5|  Restaurants|             1|\n|kJhoVi1nujLHrysPTQ2bvQ|        Der Wurstwagen|   FL|           Tampa|       Tampa|           5|         Food|             1|\n|kJiVGHWyW9lrIJmbdEJXFg|             Starbucks|   MO|       St. Louis|   St. Louis|          27|         Food|             1|\n|kJjEavPWWkup6EyzVOXkWw|             Taco Bell|   MO|     Saint Louis|   St. Louis|          12|  Restaurants|             1|\n|kJmAc845uKH8Z6e1KFZXtA|      Nekter Juice Bar|   AZ|          Tucson|      Tucson|          26|         Food|             1|\n|kJpWfdVBs8wjxir3_vqHMA|      Trademark Tattoo|   DE|      Wilmington|Philadelphia|          11|Beauty & Spas|             1|\n|kJrm9CRy9ms-rqOMtXM7SA|         Barre Central|   FL|Saint Petersburg|       Tampa|          13|  Active Life|             1|\n+----------------------+----------------------+-----+----------------+------------+------------+-------------+--------------+\n\n"
     ]
    }
   ],
   "source": [
    "process_or_create_table(\"business_category_table\", \"df_business_top_category_count\", summary=True, delete=True)"
   ]
  },
  {
   "cell_type": "code",
   "execution_count": 0,
   "metadata": {
    "application/vnd.databricks.v1+cell": {
     "cellMetadata": {},
     "inputWidgets": {},
     "nuid": "a094c087-c1c2-4986-8705-032eb163ebd6",
     "showTitle": false,
     "title": ""
    }
   },
   "outputs": [
    {
     "output_type": "stream",
     "name": "stdout",
     "output_type": "stream",
     "text": [
      "+--------------------+--------------+\n|            category|business_count|\n+--------------------+--------------+\n|         Restaurants|         52268|\n|                Food|         27781|\n|            Shopping|         24395|\n|       Home Services|         14356|\n|       Beauty & Spas|         14292|\n|           Nightlife|         12281|\n|    Health & Medical|         11890|\n|      Local Services|         11198|\n|          Automotive|         10773|\n|Event Planning & ...|          9895|\n|         Active Life|          7687|\n|     Hotels & Travel|          5857|\n|Arts & Entertainment|          5434|\n|                Pets|          3758|\n|Professional Serv...|          3270|\n|           Education|          1936|\n|        Local Flavor|          1604|\n|  Financial Services|          1487|\n|Public Services &...|          1216|\n|Religious Organiz...|           286|\n|          Mass Media|           156|\n|             Unknown|           103|\n|            Bicycles|             5|\n+--------------------+--------------+\n\n"
     ]
    }
   ],
   "source": [
    "df_top_category_count = spark.sql(\"\"\"\n",
    "SELECT category, COUNT(business_id) AS business_count\n",
    "FROM business_category_table\n",
    "GROUP BY category\n",
    "ORDER BY business_count DESC\n",
    "\"\"\")\n",
    "df_top_category_count.show(100)\n",
    "df_top_category_count.createOrReplaceTempView(\"top_category_count\")"
   ]
  },
  {
   "cell_type": "code",
   "execution_count": 0,
   "metadata": {
    "application/vnd.databricks.v1+cell": {
     "cellMetadata": {},
     "inputWidgets": {},
     "nuid": "db4c82f5-8755-45b6-ae5f-2162567ac22a",
     "showTitle": false,
     "title": ""
    }
   },
   "outputs": [
    {
     "output_type": "display_data",
     "data": {
      "text/html": [
       "<style scoped>\n",
       "  .table-result-container {\n",
       "    max-height: 300px;\n",
       "    overflow: auto;\n",
       "  }\n",
       "  table, th, td {\n",
       "    border: 1px solid black;\n",
       "    border-collapse: collapse;\n",
       "  }\n",
       "  th, td {\n",
       "    padding: 5px;\n",
       "  }\n",
       "  th {\n",
       "    text-align: left;\n",
       "  }\n",
       "</style><div class='table-result-container'><table class='table-result'><thead style='background-color: white'><tr><th>category</th><th>business_count</th></tr></thead><tbody><tr><td>Restaurants</td><td>52268</td></tr><tr><td>Food</td><td>27781</td></tr><tr><td>Shopping</td><td>24395</td></tr><tr><td>Home Services</td><td>14356</td></tr><tr><td>Beauty & Spas</td><td>14292</td></tr><tr><td>Nightlife</td><td>12281</td></tr><tr><td>Health & Medical</td><td>11890</td></tr><tr><td>Local Services</td><td>11198</td></tr><tr><td>Automotive</td><td>10773</td></tr><tr><td>Event Planning & Services</td><td>9895</td></tr><tr><td>Active Life</td><td>7687</td></tr><tr><td>Hotels & Travel</td><td>5857</td></tr><tr><td>Arts & Entertainment</td><td>5434</td></tr><tr><td>Pets</td><td>3758</td></tr><tr><td>Professional Services</td><td>3270</td></tr><tr><td>Education</td><td>1936</td></tr><tr><td>Local Flavor</td><td>1604</td></tr><tr><td>Financial Services</td><td>1487</td></tr><tr><td>Public Services & Government</td><td>1216</td></tr><tr><td>Religious Organizations</td><td>286</td></tr><tr><td>Mass Media</td><td>156</td></tr><tr><td>Unknown</td><td>103</td></tr><tr><td>Bicycles</td><td>5</td></tr></tbody></table></div>"
      ]
     },
     "metadata": {
      "application/vnd.databricks.v1+output": {
       "addedWidgets": {},
       "aggData": [],
       "aggError": "",
       "aggOverflow": false,
       "aggSchema": [],
       "aggSeriesLimitReached": false,
       "aggType": "",
       "arguments": {},
       "columnCustomDisplayInfos": {},
       "data": [
        [
         "Restaurants",
         52268
        ],
        [
         "Food",
         27781
        ],
        [
         "Shopping",
         24395
        ],
        [
         "Home Services",
         14356
        ],
        [
         "Beauty & Spas",
         14292
        ],
        [
         "Nightlife",
         12281
        ],
        [
         "Health & Medical",
         11890
        ],
        [
         "Local Services",
         11198
        ],
        [
         "Automotive",
         10773
        ],
        [
         "Event Planning & Services",
         9895
        ],
        [
         "Active Life",
         7687
        ],
        [
         "Hotels & Travel",
         5857
        ],
        [
         "Arts & Entertainment",
         5434
        ],
        [
         "Pets",
         3758
        ],
        [
         "Professional Services",
         3270
        ],
        [
         "Education",
         1936
        ],
        [
         "Local Flavor",
         1604
        ],
        [
         "Financial Services",
         1487
        ],
        [
         "Public Services & Government",
         1216
        ],
        [
         "Religious Organizations",
         286
        ],
        [
         "Mass Media",
         156
        ],
        [
         "Unknown",
         103
        ],
        [
         "Bicycles",
         5
        ]
       ],
       "datasetInfos": [],
       "dbfsResultPath": null,
       "isJsonSchema": true,
       "metadata": {},
       "overflow": false,
       "plotOptions": {
        "customPlotOptions": {},
        "displayType": "table",
        "pivotAggregation": null,
        "pivotColumns": null,
        "xColumns": null,
        "yColumns": null
       },
       "removedWidgets": [],
       "schema": [
        {
         "metadata": "{}",
         "name": "category",
         "type": "\"string\""
        },
        {
         "metadata": "{}",
         "name": "business_count",
         "type": "\"long\""
        }
       ],
       "type": "table"
      }
     },
     "output_type": "display_data"
    },
    {
     "output_type": "display_data",
     "data": {
      "text/plain": [
       "Databricks visualization. Run in Databricks to view."
      ]
     },
     "metadata": {
      "application/vnd.databricks.v1.subcommand+json": {
       "bindings": {},
       "collapsed": false,
       "command": "%python\n__backend_agg_display_orig = display\n__backend_agg_dfs = []\ndef __backend_agg_display_new(df):\n    __backend_agg_df_modules = [\"pandas.core.frame\", \"databricks.koalas.frame\", \"pyspark.sql.dataframe\", \"pyspark.pandas.frame\"]\n    if (type(df).__module__ in __backend_agg_df_modules and type(df).__name__ == 'DataFrame') or isinstance(df, list):\n        __backend_agg_dfs.append(df)\n\ndisplay = __backend_agg_display_new\n\ndef __backend_agg_user_code_fn():\n    import base64\n    exec(base64.standard_b64decode(\"ZGlzcGxheShkZl92aXop\").decode())\n\ntry:\n    # run user code\n    __backend_agg_user_code_fn()\n\n    #reset display function\n    display = __backend_agg_display_orig\n\n    if len(__backend_agg_dfs) > 0:\n        # create a temp view\n        if hasattr(__backend_agg_dfs[0], \"to_spark\"):\n            # koalas dataframe\n            __backend_agg_dfs[0].to_spark().createOrReplaceTempView(\"DatabricksView0d1f3a5\")\n        elif type(__backend_agg_dfs[0]).__module__ == \"pandas.core.frame\" or isinstance(__backend_agg_dfs[0], list):\n            # pandas dataframe\n            spark.createDataFrame(__backend_agg_dfs[0]).createOrReplaceTempView(\"DatabricksView0d1f3a5\")\n        else:\n            __backend_agg_dfs[0].createOrReplaceTempView(\"DatabricksView0d1f3a5\")\n        #run backend agg\n        display(spark.sql(\"\"\"WITH q AS (select * from DatabricksView0d1f3a5) SELECT `category`,SUM(`business_count`) `column_a33b5eae2` FROM q GROUP BY `category`\"\"\"))\n    else:\n        displayHTML(\"dataframe no longer exists. If you're using dataframe.display(), use display(dataframe) instead.\")\n\n\nfinally:\n    spark.sql(\"drop view if exists DatabricksView0d1f3a5\")\n    display = __backend_agg_display_orig\n    del __backend_agg_display_new\n    del __backend_agg_display_orig\n    del __backend_agg_dfs\n    del __backend_agg_user_code_fn\n\n",
       "commandTitle": "Businesses in Top Categories",
       "commandType": "auto",
       "commandVersion": 0,
       "commentThread": [],
       "commentsVisible": false,
       "contentSha256Hex": null,
       "customPlotOptions": {
        "redashChart": [
         {
          "key": "type",
          "value": "CHART"
         },
         {
          "key": "options",
          "value": {
           "alignYAxesAtZero": false,
           "coefficient": 1,
           "columnConfigurationMap": {
            "x": {
             "column": "category",
             "id": "column_a33b5eae1"
            },
            "y": [
             {
              "column": "business_count",
              "id": "column_a33b5eae2",
              "transform": "SUM"
             }
            ]
           },
           "dateTimeFormat": "DD/MM/YYYY HH:mm",
           "direction": {
            "type": "counterclockwise"
           },
           "error_y": {
            "type": "data",
            "visible": true
           },
           "globalSeriesType": "column",
           "isAggregationOn": true,
           "legend": {
            "traceorder": "normal"
           },
           "missingValuesAsZero": true,
           "numberFormat": "0,0[.]00000",
           "percentFormat": "0[.]00%",
           "series": {
            "error_y": {
             "type": "data",
             "visible": true
            },
            "stacking": null
           },
           "seriesOptions": {
            "column_a33b5eae2": {
             "name": "business_count",
             "yAxis": 0
            }
           },
           "showDataLabels": false,
           "sizemode": "diameter",
           "sortX": true,
           "sortY": true,
           "swappedAxes": true,
           "textFormat": "",
           "useAggregationsUi": true,
           "valuesOptions": {},
           "version": 2,
           "xAxis": {
            "labels": {
             "enabled": true
            },
            "title": {
             "text": "Category"
            },
            "type": "-"
           },
           "yAxis": [
            {
             "title": {
              "text": "Count of Businesses"
             },
             "type": "-"
            },
            {
             "opposite": true,
             "type": "-"
            }
           ]
          }
         }
        ]
       },
       "datasetPreviewNameToCmdIdMap": {},
       "diffDeletes": [],
       "diffInserts": [],
       "displayType": "redashChart",
       "error": null,
       "errorSummary": null,
       "errorTraceType": null,
       "finishTime": 0,
       "globalVars": {},
       "guid": "ea8d347a-fb4f-4d82-8397-49efc2b2661d",
       "height": "auto",
       "hideCommandCode": false,
       "hideCommandResult": false,
       "iPythonMetadata": null,
       "inputWidgets": {},
       "isLockedInExamMode": false,
       "latestUser": "a user",
       "latestUserId": null,
       "listResultMetadata": null,
       "metadata": {},
       "nuid": "dd977dd8-30d9-4327-b606-afe1555971c2",
       "origId": 3526220563461672,
       "parentHierarchy": [
        "e215ef68-3783-4b18-bb55-b6fd213ff0e9"
       ],
       "pivotAggregation": null,
       "pivotColumns": null,
       "position": 4.999996781349182,
       "resultDbfsErrorMessage": null,
       "resultDbfsStatus": "INLINED_IN_TREE",
       "results": null,
       "showCommandTitle": false,
       "startTime": 0,
       "state": "input",
       "streamStates": {},
       "subcommandOptions": {
        "queryPlan": {
         "groups": [
          {
           "column": "category",
           "type": "column"
          }
         ],
         "selects": [
          {
           "column": "category",
           "type": "column"
          },
          {
           "alias": "column_a33b5eae2",
           "args": [
            {
             "column": "business_count",
             "type": "column"
            }
           ],
           "function": "SUM",
           "type": "function"
          }
         ]
        }
       },
       "submitTime": 0,
       "subtype": "tableResultSubCmd.visualization",
       "tableResultIndex": 0,
       "useConsistentColors": false,
       "version": "CommandV1",
       "width": "auto",
       "workflows": [],
       "xColumns": null,
       "yColumns": null
      }
     },
     "output_type": "display_data"
    }
   ],
   "source": [
    "display(df_top_category_count)"
   ]
  },
  {
   "cell_type": "code",
   "execution_count": 0,
   "metadata": {
    "application/vnd.databricks.v1+cell": {
     "cellMetadata": {},
     "inputWidgets": {},
     "nuid": "9bf487df-f91a-46f5-b368-9d96e847171c",
     "showTitle": false,
     "title": ""
    }
   },
   "outputs": [
    {
     "output_type": "stream",
     "name": "stdout",
     "output_type": "stream",
     "text": [
      "+--------------+--------------+\n|category_count|business_count|\n+--------------+--------------+\n|             1|         94503|\n|             2|         86294|\n|             3|         30816|\n|             4|          7696|\n|             5|          1995|\n|             6|           528|\n|             7|            63|\n|             8|            24|\n|             9|             9|\n+--------------+--------------+\n\n"
     ]
    }
   ],
   "source": [
    "df_multiple_top_count = spark.sql(\"\"\"\n",
    "SELECT category_count, COUNT(business_id) AS business_count \n",
    "FROM business_category_table \n",
    "GROUP BY category_count \n",
    "ORDER BY business_count DESC\n",
    "\"\"\")\n",
    "df_multiple_top_count.show()\n",
    "df_multiple_top_count.createOrReplaceTempView(\"multiple_top_count\")"
   ]
  },
  {
   "cell_type": "code",
   "execution_count": 0,
   "metadata": {
    "application/vnd.databricks.v1+cell": {
     "cellMetadata": {},
     "inputWidgets": {},
     "nuid": "603a0165-9d75-4032-b1cf-fae95001f0a0",
     "showTitle": false,
     "title": ""
    }
   },
   "outputs": [
    {
     "output_type": "display_data",
     "data": {
      "text/html": [
       "<style scoped>\n",
       "  .table-result-container {\n",
       "    max-height: 300px;\n",
       "    overflow: auto;\n",
       "  }\n",
       "  table, th, td {\n",
       "    border: 1px solid black;\n",
       "    border-collapse: collapse;\n",
       "  }\n",
       "  th, td {\n",
       "    padding: 5px;\n",
       "  }\n",
       "  th {\n",
       "    text-align: left;\n",
       "  }\n",
       "</style><div class='table-result-container'><table class='table-result'><thead style='background-color: white'><tr><th>category_count</th><th>business_count</th></tr></thead><tbody><tr><td>1</td><td>94503</td></tr><tr><td>2</td><td>86294</td></tr><tr><td>3</td><td>30816</td></tr><tr><td>4</td><td>7696</td></tr><tr><td>5</td><td>1995</td></tr><tr><td>6</td><td>528</td></tr><tr><td>7</td><td>63</td></tr><tr><td>8</td><td>24</td></tr><tr><td>9</td><td>9</td></tr></tbody></table></div>"
      ]
     },
     "metadata": {
      "application/vnd.databricks.v1+output": {
       "addedWidgets": {},
       "aggData": [],
       "aggError": "",
       "aggOverflow": false,
       "aggSchema": [],
       "aggSeriesLimitReached": false,
       "aggType": "",
       "arguments": {},
       "columnCustomDisplayInfos": {},
       "data": [
        [
         1,
         94503
        ],
        [
         2,
         86294
        ],
        [
         3,
         30816
        ],
        [
         4,
         7696
        ],
        [
         5,
         1995
        ],
        [
         6,
         528
        ],
        [
         7,
         63
        ],
        [
         8,
         24
        ],
        [
         9,
         9
        ]
       ],
       "datasetInfos": [],
       "dbfsResultPath": null,
       "isJsonSchema": true,
       "metadata": {},
       "overflow": false,
       "plotOptions": {
        "customPlotOptions": {},
        "displayType": "table",
        "pivotAggregation": null,
        "pivotColumns": null,
        "xColumns": null,
        "yColumns": null
       },
       "removedWidgets": [],
       "schema": [
        {
         "metadata": "{}",
         "name": "category_count",
         "type": "\"long\""
        },
        {
         "metadata": "{}",
         "name": "business_count",
         "type": "\"long\""
        }
       ],
       "type": "table"
      }
     },
     "output_type": "display_data"
    },
    {
     "output_type": "display_data",
     "data": {
      "text/plain": [
       "Databricks visualization. Run in Databricks to view."
      ]
     },
     "metadata": {
      "application/vnd.databricks.v1.subcommand+json": {
       "bindings": {},
       "collapsed": false,
       "command": "%python\n__backend_agg_display_orig = display\n__backend_agg_dfs = []\ndef __backend_agg_display_new(df):\n    __backend_agg_df_modules = [\"pandas.core.frame\", \"databricks.koalas.frame\", \"pyspark.sql.dataframe\", \"pyspark.pandas.frame\"]\n    if (type(df).__module__ in __backend_agg_df_modules and type(df).__name__ == 'DataFrame') or isinstance(df, list):\n        __backend_agg_dfs.append(df)\n\ndisplay = __backend_agg_display_new\n\ndef __backend_agg_user_code_fn():\n    import base64\n    exec(base64.standard_b64decode(\"ZGlzcGxheShkZl90b3BfY2F0X3Zpeik=\").decode())\n\ntry:\n    # run user code\n    __backend_agg_user_code_fn()\n\n    #reset display function\n    display = __backend_agg_display_orig\n\n    if len(__backend_agg_dfs) > 0:\n        # create a temp view\n        if hasattr(__backend_agg_dfs[0], \"to_spark\"):\n            # koalas dataframe\n            __backend_agg_dfs[0].to_spark().createOrReplaceTempView(\"DatabricksView529cd21\")\n        elif type(__backend_agg_dfs[0]).__module__ == \"pandas.core.frame\" or isinstance(__backend_agg_dfs[0], list):\n            # pandas dataframe\n            spark.createDataFrame(__backend_agg_dfs[0]).createOrReplaceTempView(\"DatabricksView529cd21\")\n        else:\n            __backend_agg_dfs[0].createOrReplaceTempView(\"DatabricksView529cd21\")\n        #run backend agg\n        display(spark.sql(\"\"\"WITH q AS (select * from DatabricksView529cd21) SELECT `category_count`,SUM(`business_count`) `column_7272321a2` FROM q GROUP BY `category_count`\"\"\"))\n    else:\n        displayHTML(\"dataframe no longer exists. If you're using dataframe.display(), use display(dataframe) instead.\")\n\n\nfinally:\n    spark.sql(\"drop view if exists DatabricksView529cd21\")\n    display = __backend_agg_display_orig\n    del __backend_agg_display_new\n    del __backend_agg_display_orig\n    del __backend_agg_dfs\n    del __backend_agg_user_code_fn\n\n",
       "commandTitle": "Businesses and # of Categories",
       "commandType": "auto",
       "commandVersion": 0,
       "commentThread": [],
       "commentsVisible": false,
       "contentSha256Hex": null,
       "customPlotOptions": {
        "redashChart": [
         {
          "key": "type",
          "value": "CHART"
         },
         {
          "key": "options",
          "value": {
           "alignYAxesAtZero": false,
           "coefficient": 1,
           "columnConfigurationMap": {
            "x": {
             "column": "category_count",
             "id": "column_7272321a1"
            },
            "y": [
             {
              "column": "business_count",
              "id": "column_7272321a2",
              "transform": "SUM"
             }
            ]
           },
           "dateTimeFormat": "DD/MM/YYYY HH:mm",
           "direction": {
            "type": "counterclockwise"
           },
           "error_y": {
            "type": "data",
            "visible": true
           },
           "globalSeriesType": "column",
           "isAggregationOn": true,
           "legend": {
            "traceorder": "normal"
           },
           "missingValuesAsZero": true,
           "numberFormat": "0,0[.]00000",
           "percentFormat": "0[.]00%",
           "series": {
            "error_y": {
             "type": "data",
             "visible": true
            },
            "stacking": null
           },
           "seriesOptions": {
            "column_7272321a2": {
             "name": "business_count",
             "type": "column",
             "yAxis": 0
            }
           },
           "showDataLabels": false,
           "sizemode": "diameter",
           "sortX": true,
           "sortY": true,
           "swappedAxes": false,
           "textFormat": "",
           "useAggregationsUi": true,
           "valuesOptions": {},
           "version": 2,
           "xAxis": {
            "labels": {
             "enabled": true
            },
            "title": {
             "text": "# of Categories"
            },
            "type": "-"
           },
           "yAxis": [
            {
             "title": {
              "text": "Count of Businesses"
             },
             "type": "-"
            },
            {
             "opposite": true,
             "type": "-"
            }
           ]
          }
         }
        ]
       },
       "datasetPreviewNameToCmdIdMap": {},
       "diffDeletes": [],
       "diffInserts": [],
       "displayType": "redashChart",
       "error": null,
       "errorSummary": null,
       "errorTraceType": null,
       "finishTime": 0,
       "globalVars": {},
       "guid": "efc0c559-7e6a-47e0-bf14-8c37b3d709df",
       "height": "auto",
       "hideCommandCode": false,
       "hideCommandResult": false,
       "iPythonMetadata": null,
       "inputWidgets": {},
       "isLockedInExamMode": false,
       "latestUser": "a user",
       "latestUserId": null,
       "listResultMetadata": null,
       "metadata": {},
       "nuid": "c115b291-c988-4715-855c-6c2c133bc54c",
       "origId": 4134354699774660,
       "parentHierarchy": [
        "b77a596f-e5cd-4b7c-83b6-006cb8f6b57f"
       ],
       "pivotAggregation": null,
       "pivotColumns": null,
       "position": 4.9999993443489075,
       "resultDbfsErrorMessage": null,
       "resultDbfsStatus": "INLINED_IN_TREE",
       "results": null,
       "showCommandTitle": false,
       "startTime": 0,
       "state": "input",
       "streamStates": {},
       "subcommandOptions": {
        "queryPlan": {
         "groups": [
          {
           "column": "category_count",
           "type": "column"
          }
         ],
         "selects": [
          {
           "column": "category_count",
           "type": "column"
          },
          {
           "alias": "column_7272321a2",
           "args": [
            {
             "column": "business_count",
             "type": "column"
            }
           ],
           "function": "SUM",
           "type": "function"
          }
         ]
        }
       },
       "submitTime": 0,
       "subtype": "tableResultSubCmd.visualization",
       "tableResultIndex": 0,
       "useConsistentColors": false,
       "version": "CommandV1",
       "width": "auto",
       "workflows": [],
       "xColumns": null,
       "yColumns": null
      }
     },
     "output_type": "display_data"
    }
   ],
   "source": [
    "display(df_multiple_top_count)"
   ]
  }
 ],
 "metadata": {
  "application/vnd.databricks.v1+notebook": {
   "dashboards": [],
   "language": "python",
   "notebookMetadata": {
    "pythonIndentUnit": 4
   },
   "notebookName": "Wrangling Yelp Data",
   "widgets": {}
  }
 },
 "nbformat": 4,
 "nbformat_minor": 0
}
